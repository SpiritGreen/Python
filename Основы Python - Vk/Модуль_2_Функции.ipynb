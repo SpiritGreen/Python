{
  "nbformat": 4,
  "nbformat_minor": 0,
  "metadata": {
    "colab": {
      "provenance": [],
      "authorship_tag": "ABX9TyNmcY6+i74Kv2pNUYLqzYiq",
      "include_colab_link": true
    },
    "kernelspec": {
      "name": "python3",
      "display_name": "Python 3"
    },
    "language_info": {
      "name": "python"
    }
  },
  "cells": [
    {
      "cell_type": "markdown",
      "metadata": {
        "id": "view-in-github",
        "colab_type": "text"
      },
      "source": [
        "<a href=\"https://colab.research.google.com/github/SpiritGreen/Python/blob/main/%D0%9E%D1%81%D0%BD%D0%BE%D0%B2%D1%8B%20Python%20-%20Vk/%D0%9C%D0%BE%D0%B4%D1%83%D0%BB%D1%8C_2_%D0%A4%D1%83%D0%BD%D0%BA%D1%86%D0%B8%D0%B8.ipynb\" target=\"_parent\"><img src=\"https://colab.research.google.com/assets/colab-badge.svg\" alt=\"Open In Colab\"/></a>"
      ]
    },
    {
      "cell_type": "markdown",
      "source": [
        "# 1. Базовые сведения"
      ],
      "metadata": {
        "id": "tMbzEPcmpPPF"
      }
    },
    {
      "cell_type": "code",
      "execution_count": null,
      "metadata": {
        "id": "Zv8P_haqpGz9"
      },
      "outputs": [],
      "source": [
        "def func(val, var=None):\n",
        "    # x or y <=> if x is True then x else y\n",
        "    var = var or []\n",
        "\n",
        "    var.append(val)\n",
        "    return var"
      ]
    },
    {
      "cell_type": "code",
      "source": [
        "func(1)"
      ],
      "metadata": {
        "colab": {
          "base_uri": "https://localhost:8080/"
        },
        "id": "d3arrPUnsrZl",
        "outputId": "7f5fe028-0564-4ffc-84aa-64b6d1fe3b32"
      },
      "execution_count": null,
      "outputs": [
        {
          "output_type": "execute_result",
          "data": {
            "text/plain": [
              "[1]"
            ]
          },
          "metadata": {},
          "execution_count": 2
        }
      ]
    },
    {
      "cell_type": "code",
      "source": [
        "def standart_arg(arg):\n",
        "    print(arg)\n",
        "\n",
        "standart_arg(4)\n",
        "standart_arg(arg=4)"
      ],
      "metadata": {
        "colab": {
          "base_uri": "https://localhost:8080/"
        },
        "id": "2Lq7rvSZsv8D",
        "outputId": "349ff73e-21d6-4c13-ecd0-169bdbd1bd60"
      },
      "execution_count": null,
      "outputs": [
        {
          "output_type": "stream",
          "name": "stdout",
          "text": [
            "4\n",
            "4\n"
          ]
        }
      ]
    },
    {
      "cell_type": "code",
      "source": [
        "# только позиционные аргументы\n",
        "def pos_only_arg(arg, /):\n",
        "    print(arg)\n",
        "\n",
        "pos_only_arg(4)"
      ],
      "metadata": {
        "colab": {
          "base_uri": "https://localhost:8080/"
        },
        "id": "Yh94lFLGtqlr",
        "outputId": "903d7413-cb2f-4dd6-a81c-c82784a7f012"
      },
      "execution_count": null,
      "outputs": [
        {
          "output_type": "stream",
          "name": "stdout",
          "text": [
            "4\n"
          ]
        }
      ]
    },
    {
      "cell_type": "code",
      "source": [
        "pos_only_arg(arg=4)"
      ],
      "metadata": {
        "colab": {
          "base_uri": "https://localhost:8080/",
          "height": 176
        },
        "id": "oobk1hcfurt8",
        "outputId": "ab8472dc-e868-4154-88db-c26e6691ab98"
      },
      "execution_count": null,
      "outputs": [
        {
          "output_type": "error",
          "ename": "TypeError",
          "evalue": "pos_only_arg() got some positional-only arguments passed as keyword arguments: 'arg'",
          "traceback": [
            "\u001b[0;31m---------------------------------------------------------------------------\u001b[0m",
            "\u001b[0;31mTypeError\u001b[0m                                 Traceback (most recent call last)",
            "\u001b[0;32m<ipython-input-11-4812aefbfc82>\u001b[0m in \u001b[0;36m<cell line: 1>\u001b[0;34m()\u001b[0m\n\u001b[0;32m----> 1\u001b[0;31m \u001b[0mpos_only_arg\u001b[0m\u001b[0;34m(\u001b[0m\u001b[0marg\u001b[0m\u001b[0;34m=\u001b[0m\u001b[0;36m4\u001b[0m\u001b[0;34m)\u001b[0m\u001b[0;34m\u001b[0m\u001b[0;34m\u001b[0m\u001b[0m\n\u001b[0m",
            "\u001b[0;31mTypeError\u001b[0m: pos_only_arg() got some positional-only arguments passed as keyword arguments: 'arg'"
          ]
        }
      ]
    },
    {
      "cell_type": "code",
      "source": [
        "# только аргументы по ключевым словам\n",
        "def kwd_only_arg(*, arg):\n",
        "    print(arg)\n",
        "\n",
        "kwd_only_arg(arg=4)"
      ],
      "metadata": {
        "colab": {
          "base_uri": "https://localhost:8080/"
        },
        "id": "gCxjnIF1uR16",
        "outputId": "578c9a71-6672-4ff9-ae65-ae6325532856"
      },
      "execution_count": null,
      "outputs": [
        {
          "output_type": "stream",
          "name": "stdout",
          "text": [
            "4\n"
          ]
        }
      ]
    },
    {
      "cell_type": "code",
      "source": [
        "kwd_only_arg(4)"
      ],
      "metadata": {
        "colab": {
          "base_uri": "https://localhost:8080/",
          "height": 176
        },
        "id": "tEYNyQGrukv7",
        "outputId": "66a1985d-92b1-4955-b7f7-c17f7da8c0c7"
      },
      "execution_count": null,
      "outputs": [
        {
          "output_type": "error",
          "ename": "TypeError",
          "evalue": "kwd_only_arg() takes 0 positional arguments but 1 was given",
          "traceback": [
            "\u001b[0;31m---------------------------------------------------------------------------\u001b[0m",
            "\u001b[0;31mTypeError\u001b[0m                                 Traceback (most recent call last)",
            "\u001b[0;32m<ipython-input-13-baa932912808>\u001b[0m in \u001b[0;36m<cell line: 1>\u001b[0;34m()\u001b[0m\n\u001b[0;32m----> 1\u001b[0;31m \u001b[0mkwd_only_arg\u001b[0m\u001b[0;34m(\u001b[0m\u001b[0;36m4\u001b[0m\u001b[0;34m)\u001b[0m\u001b[0;34m\u001b[0m\u001b[0;34m\u001b[0m\u001b[0m\n\u001b[0m",
            "\u001b[0;31mTypeError\u001b[0m: kwd_only_arg() takes 0 positional arguments but 1 was given"
          ]
        }
      ]
    },
    {
      "cell_type": "code",
      "source": [
        "# распаковка списка: *lst\n",
        "# распаковка словаря **dict\n",
        "\n",
        "def all_args(*args, **kwargs):\n",
        "    print(args)\n",
        "    print(kwargs)\n",
        "\n",
        "all_args(1, 2, 3, a=1, b=2, c=3)"
      ],
      "metadata": {
        "colab": {
          "base_uri": "https://localhost:8080/"
        },
        "id": "HczvrDeruvuK",
        "outputId": "f0bd72fd-791e-4f43-903c-238d7ded13d1"
      },
      "execution_count": null,
      "outputs": [
        {
          "output_type": "stream",
          "name": "stdout",
          "text": [
            "(1, 2, 3)\n",
            "{'a': 1, 'b': 2, 'c': 3}\n"
          ]
        }
      ]
    },
    {
      "cell_type": "markdown",
      "source": [
        "Необходимо написать программу, которая будет считывать со входа данные последовательностей чисел, считать и выводить их среднее значение. Напишите сначала функцию, которая будет принимать строку, а в ответ возвращать среднее значение чисел из нее. А далее применяйте эту функцию к каждой считанной входной последовательности. На вход будут подаваться строки, в которых расположены целые числа, разделенные пробелом. Передача пустой строки будет означать конец входных данных."
      ],
      "metadata": {
        "id": "cSsofTXI5hfl"
      }
    },
    {
      "cell_type": "code",
      "source": [
        "def mean(nums):\n",
        "    nums = nums.split()\n",
        "    nums = [int(x) for x in nums]\n",
        "    return round(sum(nums) / len(nums), 2)\n",
        "\n",
        "\n",
        "while data := input():\n",
        "    print(mean(data))"
      ],
      "metadata": {
        "colab": {
          "base_uri": "https://localhost:8080/"
        },
        "id": "co347fuwv84N",
        "outputId": "f7208aa0-dfa4-4aec-9f45-d38143eab6ba"
      },
      "execution_count": null,
      "outputs": [
        {
          "name": "stdout",
          "output_type": "stream",
          "text": [
            "1 2 3 4\n",
            "2.5\n",
            "1 1 1\n",
            "1.0\n",
            "\n"
          ]
        }
      ]
    },
    {
      "cell_type": "markdown",
      "source": [
        "Необходимо написать программу, которая будет принимать на вход строки, преобразовывать и выводить их. Если первым символом в строке является “!”, то строку нужно привести к верхнему регистру, иначе к нижнему. Также из строки нужно удалить все символы “!”, “@”, “#”, “%”. Получившуюся строку нужно вывести. Реализуйте функцию, которая будет принимать строку, обрабатывать ее по условиям выше и возвращать обработанную строку в качестве результата. Полученную функцию применяйте к строкам подаваемым на вход."
      ],
      "metadata": {
        "id": "_Y0f6A1h_A9i"
      }
    },
    {
      "cell_type": "code",
      "source": [
        "FILTER = '!@#%'\n",
        "\n",
        "def text_change(text):\n",
        "    if text[0] == '!':\n",
        "        text = text.upper()\n",
        "    else:\n",
        "        text = text.lower()\n",
        "    for char in FILTER:\n",
        "        text = text.replace(char, '')\n",
        "    return text\n",
        "\n",
        "\n",
        "while data := input():\n",
        "    print(text_change(data))"
      ],
      "metadata": {
        "colab": {
          "base_uri": "https://localhost:8080/"
        },
        "id": "IVjMGqNo6VGk",
        "outputId": "44b86619-5950-45ba-f90f-797304c1c65e"
      },
      "execution_count": null,
      "outputs": [
        {
          "name": "stdout",
          "output_type": "stream",
          "text": [
            "Hello World!\n",
            "hello world\n",
            "!Python programming language\n",
            "PYTHON PROGRAMMING LANGUAGE\n",
            "\n"
          ]
        }
      ]
    },
    {
      "cell_type": "markdown",
      "source": [
        "# 2. Автодокументация"
      ],
      "metadata": {
        "id": "eb9eaDBnBl0I"
      }
    },
    {
      "cell_type": "markdown",
      "source": [
        "Через тройные двойные кавычки можно добавлять небольшую документацию к функциям"
      ],
      "metadata": {
        "id": "jVCqsiSITIjq"
      }
    },
    {
      "cell_type": "code",
      "source": [
        "def phone(model:str, charge:int=100, storage:str='128 Gb', status:str='Working') -> None:\n",
        "    \"\"\"\n",
        "    :param model: model of phone e.g. 'Samsung', 'Oppo', etc.\n",
        "    :param charge: percent of charge available\n",
        "    :param storage: overall storage size\n",
        "    :param status: system status of phone\n",
        "    :return: None\n",
        "    \"\"\"\n",
        "\n",
        "    if not 0 <= charge <= 100:\n",
        "        print('Incorrect charge data!')\n",
        "        return\n",
        "\n",
        "    print(\n",
        "        f'This {model} is {charge}% charged. '\n",
        "        f'It has {storage} of storage, current status is {status}.'\n",
        "        )"
      ],
      "metadata": {
        "id": "ZLTtNLJQ_jGh"
      },
      "execution_count": null,
      "outputs": []
    },
    {
      "cell_type": "code",
      "source": [
        "phone('Oppo', 85, '64 Gb')"
      ],
      "metadata": {
        "colab": {
          "base_uri": "https://localhost:8080/"
        },
        "id": "xvrN5p8eRaqy",
        "outputId": "7cfccf9d-f012-433a-b4fb-3ea3bc1ec670"
      },
      "execution_count": null,
      "outputs": [
        {
          "output_type": "stream",
          "name": "stdout",
          "text": [
            "This Oppo is 85% charged. It has 64 Gb of storage, current status is Working.\n"
          ]
        }
      ]
    },
    {
      "cell_type": "code",
      "source": [
        "help(phone)"
      ],
      "metadata": {
        "colab": {
          "base_uri": "https://localhost:8080/"
        },
        "id": "ut-wdaUeRplM",
        "outputId": "0e9c4081-7d7c-42b2-ab2a-0b4e033eac6a"
      },
      "execution_count": null,
      "outputs": [
        {
          "output_type": "stream",
          "name": "stdout",
          "text": [
            "Help on function phone in module __main__:\n",
            "\n",
            "phone(model: str, charge: int = 100, storage: str = '128 Gb', status: str = 'Working') -> None\n",
            "    :param model: model of phone e.g. 'Samsung', 'Oppo', etc.\n",
            "    :param charge: percent of charge available\n",
            "    :param storage: overall storage size\n",
            "    :param status: system status of phone\n",
            "    :return: None\n",
            "\n"
          ]
        }
      ]
    },
    {
      "cell_type": "markdown",
      "source": [
        "Троеточие или слово `pass` позволяют пропустить реализацию функции, чтобы позже её дополнить"
      ],
      "metadata": {
        "id": "P4m9jY-dTRvY"
      }
    },
    {
      "cell_type": "code",
      "source": [
        "def skip():\n",
        "    ...\n",
        "\n",
        "skip()"
      ],
      "metadata": {
        "id": "571i2KseSC9u"
      },
      "execution_count": null,
      "outputs": []
    },
    {
      "cell_type": "code",
      "source": [
        "def skip_2():\n",
        "    pass\n",
        "\n",
        "skip()"
      ],
      "metadata": {
        "id": "bDk-7UANThjy"
      },
      "execution_count": null,
      "outputs": []
    },
    {
      "cell_type": "markdown",
      "source": [
        "Функции можно записывать в переменные"
      ],
      "metadata": {
        "id": "SLu41HXxUXiL"
      }
    },
    {
      "cell_type": "code",
      "source": [
        "l_func = lambda x: 2 ** x\n",
        "\n",
        "print(l_func(3))"
      ],
      "metadata": {
        "colab": {
          "base_uri": "https://localhost:8080/"
        },
        "id": "C_k7PuftTqey",
        "outputId": "444ca6c9-94e0-4893-da2e-a88fa1e89303"
      },
      "execution_count": null,
      "outputs": [
        {
          "output_type": "stream",
          "name": "stdout",
          "text": [
            "8\n"
          ]
        }
      ]
    },
    {
      "cell_type": "code",
      "source": [
        "a = [1, 2, 3, 4, 5]\n",
        "b = sorted(a, key=lambda x: -x)\n",
        "\n",
        "print(b)"
      ],
      "metadata": {
        "colab": {
          "base_uri": "https://localhost:8080/"
        },
        "id": "3rEXatJ6UfjR",
        "outputId": "11c390d5-ff10-4a43-a779-d53afea39207"
      },
      "execution_count": null,
      "outputs": [
        {
          "output_type": "stream",
          "name": "stdout",
          "text": [
            "[5, 4, 3, 2, 1]\n"
          ]
        }
      ]
    },
    {
      "cell_type": "code",
      "source": [
        "def factorial(n):\n",
        "    if n <= 1:\n",
        "        return 1\n",
        "\n",
        "    return n * factorial(n - 1)\n",
        "\n",
        "\n",
        "print(factorial(3))"
      ],
      "metadata": {
        "colab": {
          "base_uri": "https://localhost:8080/"
        },
        "id": "KUNnCt3DU8kK",
        "outputId": "ed18a184-16e6-4c67-882e-ce58a6dbcddc"
      },
      "execution_count": null,
      "outputs": [
        {
          "output_type": "stream",
          "name": "stdout",
          "text": [
            "6\n"
          ]
        }
      ]
    },
    {
      "cell_type": "code",
      "source": [
        "def factorial_2(n):\n",
        "    result = 1\n",
        "\n",
        "    for i in range(n, 1, -1):\n",
        "        result *= i\n",
        "\n",
        "    return result\n",
        "\n",
        "\n",
        "print(factorial_2(3))"
      ],
      "metadata": {
        "colab": {
          "base_uri": "https://localhost:8080/"
        },
        "id": "yvEmZQvJVi5s",
        "outputId": "d3c9b26e-1c7b-4bd6-be6a-06d4fee26ba6"
      },
      "execution_count": null,
      "outputs": [
        {
          "output_type": "stream",
          "name": "stdout",
          "text": [
            "6\n"
          ]
        }
      ]
    },
    {
      "cell_type": "markdown",
      "source": [
        "В Python есть встроенная функция `map()` (https://docs.python.org/3/library/functions.html#map), она принимает первым аргументом функцию, а вторым произвольную последовательность. Возвращает она итератор – иными словами объект, по которому можно проходиться циклом for. При этом каждый элемент, который будет возвращаться этим итератором будет получен из элементов исходной последовательности с помощью применения функции, переданной первым аргументом в `map()`. Иными словами `map(func, seq)` применяет функцию func ко всем элементам seq, причем делает это не разом, а по мере того как мы итерируемся по новой последовательности. Например, код:\n",
        "\n",
        "```\n",
        "seq = range(1, 4)\n",
        "new_seq = map(lambda x: x * 2, seq)\n",
        "for i in new_seq:\n",
        "   print(i)\n",
        "```\n",
        "\n",
        "выведет нам числа от 2, 4, 6, так как мы к числам 1, 2, 3 применили функцию, которая умножает их на 2. В сценарии использования map() лямбда функции позволяют нам записать нужно преобразование в одну строку. Например, мы можем решить задачу “Поданные на вход строки преобразовать к верхнему регистру, если первым строки является символ ‘!’, иначе привести к нижнему. В первом случае также убрать лидирующий ‘!’” буквально в 2 строки, если считать, что исходные строки лежат в переменной seq:\n",
        "\n",
        "\n",
        "```\n",
        "for i in map(lambda x: x[1:].upper() if x[0] == \"!\" else x.lower(), seq):\n",
        "   print(i)\n",
        "```\n",
        "\n",
        "\n",
        "В этом примере мы воспользовались тернарным оператором внутри лямбда функции, чтобы компактно записать наш код.\n",
        "\n",
        "Теперь само задание: напишите код, который также будет использовать функцию map() и лямбда функцию. На вход будут подаваться три аргумента для range: начало, конец и шаг числовой последовательности. Нужно вывести для каждого элемента range квадрат числа, если число нечетное, иначе вывести противоположное ему. (Решение можно реализовать в две и даже в одну строку!)"
      ],
      "metadata": {
        "id": "mwbQuqkvXW_z"
      }
    },
    {
      "cell_type": "code",
      "source": [
        "start, end, step = [int(x) for x in input().split()]\n",
        "\n",
        "for i in map(lambda x: x ** 2 if x % 2 != 0 else -x, range(start, end, step)):\n",
        "    print(i)"
      ],
      "metadata": {
        "colab": {
          "base_uri": "https://localhost:8080/"
        },
        "id": "-sjLhp1uWmv7",
        "outputId": "8f95ad40-02b5-4181-9856-2f0ef543d316"
      },
      "execution_count": null,
      "outputs": [
        {
          "output_type": "stream",
          "name": "stdout",
          "text": [
            "1 10 2\n",
            "1\n",
            "9\n",
            "25\n",
            "49\n",
            "81\n"
          ]
        }
      ]
    },
    {
      "cell_type": "markdown",
      "source": [
        "Необходимо написать программу, которая будет считывать со стандартного ввода положительное целое число – порядковый номер 1 <= n <= 30, и выводить n-е по счету число Фибоначчи. Числа Фибоначчи это последовательность чисел такая, что каждое следующее число это сумма двух предыдущих. Первое и второе числа Фибоначчи это числа 1. То есть первые два числа это 1 и 1, третье число это 2 (сумма первого и второго), четвертое число это 3 (сумма второго и третьего), пятое – 5, шестое – 8 и так далее. Нужно написать этот код с помощью рекурсии.\n",
        "\n",
        "* При отладке кода вы можете заметить, что уже на не очень больших числах около 40 код начинает долго выполняться. Это из-за того что число операций растет экспоненциально, то есть очень быстро, при этом большинство вычислений повторяется. Это можно решить“закэшировав” данные, а именно завести глобальную переменную-словарь, а в самой рекурсии проверять нет ли уже в этом словаре вычисленного значения для нужного вам порядкового номера. Если есть, то взять его в качестве результата, а если нет, то вычислить его также с помощью рекурсии и положить в этот словарь."
      ],
      "metadata": {
        "id": "c6hQvAigcdXI"
      }
    },
    {
      "cell_type": "code",
      "source": [
        "cache = {}\n",
        "\n",
        "def fibonacci(n:int):\n",
        "    \"\"\"\n",
        "    :param n: порядковый номер числа Фибоначчи\n",
        "    \"\"\"\n",
        "    if n in cache:\n",
        "        return cache[n]\n",
        "\n",
        "    if n <= 0:\n",
        "        return 0\n",
        "    elif n == 1:\n",
        "        return 1\n",
        "    else:\n",
        "        result = fibonacci(n - 2) + fibonacci(n - 1)\n",
        "        cache[n] = result\n",
        "        return result\n",
        "    ...\n",
        "\n",
        "n = int(input())\n",
        "print(fibonacci(n))"
      ],
      "metadata": {
        "colab": {
          "base_uri": "https://localhost:8080/"
        },
        "id": "F4NXbHalar4-",
        "outputId": "473d6f1c-717e-4e7b-a0f7-f9cf90a03fae"
      },
      "execution_count": null,
      "outputs": [
        {
          "output_type": "stream",
          "name": "stdout",
          "text": [
            "40\n",
            "102334155\n"
          ]
        }
      ]
    },
    {
      "cell_type": "markdown",
      "source": [
        "# 3. Генераторы"
      ],
      "metadata": {
        "id": "vkn6K9wuUyze"
      }
    },
    {
      "cell_type": "code",
      "source": [
        "# yield\n",
        "\n",
        "from os import statvfs_result\n",
        "def create_generator(start=0):\n",
        "    num = start\n",
        "    while True:\n",
        "        yield num\n",
        "        num += 1\n",
        "\n",
        "generator = create_generator(5)\n",
        "\n",
        "for i in generator:\n",
        "    print(i)\n",
        "    if i >= 10:\n",
        "        break"
      ],
      "metadata": {
        "id": "K5XyUpylg2dK",
        "colab": {
          "base_uri": "https://localhost:8080/"
        },
        "outputId": "55c50738-37bd-482a-fe6a-a4c64fc9490c"
      },
      "execution_count": 3,
      "outputs": [
        {
          "output_type": "stream",
          "name": "stdout",
          "text": [
            "5\n",
            "6\n",
            "7\n",
            "8\n",
            "9\n",
            "10\n"
          ]
        }
      ]
    },
    {
      "cell_type": "code",
      "source": [
        "def gen_three():\n",
        "    yield 1\n",
        "    yield 2\n",
        "    yield 3\n",
        "\n",
        "\n",
        "for i in gen_three():\n",
        "    print(i)"
      ],
      "metadata": {
        "colab": {
          "base_uri": "https://localhost:8080/"
        },
        "id": "E27WXsuyf7GX",
        "outputId": "6653b1dd-6b7c-421e-b8b8-76cca63400b8"
      },
      "execution_count": 4,
      "outputs": [
        {
          "output_type": "stream",
          "name": "stdout",
          "text": [
            "1\n",
            "2\n",
            "3\n"
          ]
        }
      ]
    },
    {
      "cell_type": "code",
      "source": [
        "generator = create_generator()\n",
        "\n",
        "# next()\n",
        "\n",
        "print(next(generator))\n",
        "print(next(generator))\n",
        "print(next(generator))"
      ],
      "metadata": {
        "colab": {
          "base_uri": "https://localhost:8080/"
        },
        "id": "p88ALQiigsJe",
        "outputId": "642a2ee2-8fc8-42ee-93e5-878c05a661ff"
      },
      "execution_count": 5,
      "outputs": [
        {
          "output_type": "stream",
          "name": "stdout",
          "text": [
            "0\n",
            "1\n",
            "2\n"
          ]
        }
      ]
    },
    {
      "cell_type": "code",
      "source": [
        "generator = gen_three()\n",
        "\n",
        "# stop iteration\n",
        "\n",
        "print(next(generator))\n",
        "print(next(generator))\n",
        "print(next(generator))\n",
        "print(next(generator))"
      ],
      "metadata": {
        "colab": {
          "base_uri": "https://localhost:8080/",
          "height": 263
        },
        "id": "hDrz_C8Dg51W",
        "outputId": "cb3fa2a4-475c-44c4-db24-616cfc901db5"
      },
      "execution_count": 6,
      "outputs": [
        {
          "output_type": "stream",
          "name": "stdout",
          "text": [
            "1\n",
            "2\n",
            "3\n"
          ]
        },
        {
          "output_type": "error",
          "ename": "StopIteration",
          "evalue": "",
          "traceback": [
            "\u001b[0;31m---------------------------------------------------------------------------\u001b[0m",
            "\u001b[0;31mStopIteration\u001b[0m                             Traceback (most recent call last)",
            "\u001b[0;32m<ipython-input-6-076bd7d80c5c>\u001b[0m in \u001b[0;36m<cell line: 8>\u001b[0;34m()\u001b[0m\n\u001b[1;32m      6\u001b[0m \u001b[0mprint\u001b[0m\u001b[0;34m(\u001b[0m\u001b[0mnext\u001b[0m\u001b[0;34m(\u001b[0m\u001b[0mgenerator\u001b[0m\u001b[0;34m)\u001b[0m\u001b[0;34m)\u001b[0m\u001b[0;34m\u001b[0m\u001b[0;34m\u001b[0m\u001b[0m\n\u001b[1;32m      7\u001b[0m \u001b[0mprint\u001b[0m\u001b[0;34m(\u001b[0m\u001b[0mnext\u001b[0m\u001b[0;34m(\u001b[0m\u001b[0mgenerator\u001b[0m\u001b[0;34m)\u001b[0m\u001b[0;34m)\u001b[0m\u001b[0;34m\u001b[0m\u001b[0;34m\u001b[0m\u001b[0m\n\u001b[0;32m----> 8\u001b[0;31m \u001b[0mprint\u001b[0m\u001b[0;34m(\u001b[0m\u001b[0mnext\u001b[0m\u001b[0;34m(\u001b[0m\u001b[0mgenerator\u001b[0m\u001b[0;34m)\u001b[0m\u001b[0;34m)\u001b[0m\u001b[0;34m\u001b[0m\u001b[0;34m\u001b[0m\u001b[0m\n\u001b[0m",
            "\u001b[0;31mStopIteration\u001b[0m: "
          ]
        }
      ]
    },
    {
      "cell_type": "code",
      "source": [
        "abc = ['a', 'b', 'c']\n",
        "it = iter(abc)\n",
        "\n",
        "print(next(it))\n",
        "print(next(it))\n",
        "print(next(it))"
      ],
      "metadata": {
        "colab": {
          "base_uri": "https://localhost:8080/"
        },
        "id": "zZRtQDufhVAG",
        "outputId": "985d62b6-8328-4689-b1d1-195cd0b7e6fa"
      },
      "execution_count": 8,
      "outputs": [
        {
          "output_type": "stream",
          "name": "stdout",
          "text": [
            "a\n",
            "b\n",
            "c\n"
          ]
        }
      ]
    },
    {
      "cell_type": "code",
      "source": [
        "generator = (x for x in range(20) if x % 2 == 0)\n",
        "\n",
        "print(next(generator))\n",
        "print(next(generator))"
      ],
      "metadata": {
        "colab": {
          "base_uri": "https://localhost:8080/"
        },
        "id": "DNlaZ-7VkV97",
        "outputId": "95b8c411-1b3b-4b1d-d32e-d8a0d701083a"
      },
      "execution_count": 9,
      "outputs": [
        {
          "output_type": "stream",
          "name": "stdout",
          "text": [
            "0\n",
            "2\n"
          ]
        }
      ]
    },
    {
      "cell_type": "code",
      "source": [
        "gen = create_generator()\n",
        "\n",
        "# generator.close() - закрытие итератора\n",
        "for i in gen:\n",
        "    print(i)\n",
        "    if i >= 7:\n",
        "        gen.close()\n",
        "\n",
        "next(gen)"
      ],
      "metadata": {
        "colab": {
          "base_uri": "https://localhost:8080/",
          "height": 349
        },
        "id": "89AFwjC6lA9W",
        "outputId": "744507e9-54b1-4b38-f2a4-0b3ed9935746"
      },
      "execution_count": 10,
      "outputs": [
        {
          "output_type": "stream",
          "name": "stdout",
          "text": [
            "0\n",
            "1\n",
            "2\n",
            "3\n",
            "4\n",
            "5\n",
            "6\n",
            "7\n"
          ]
        },
        {
          "output_type": "error",
          "ename": "StopIteration",
          "evalue": "",
          "traceback": [
            "\u001b[0;31m---------------------------------------------------------------------------\u001b[0m",
            "\u001b[0;31mStopIteration\u001b[0m                             Traceback (most recent call last)",
            "\u001b[0;32m<ipython-input-10-9291bacb74f6>\u001b[0m in \u001b[0;36m<cell line: 9>\u001b[0;34m()\u001b[0m\n\u001b[1;32m      7\u001b[0m         \u001b[0mgen\u001b[0m\u001b[0;34m.\u001b[0m\u001b[0mclose\u001b[0m\u001b[0;34m(\u001b[0m\u001b[0;34m)\u001b[0m\u001b[0;34m\u001b[0m\u001b[0;34m\u001b[0m\u001b[0m\n\u001b[1;32m      8\u001b[0m \u001b[0;34m\u001b[0m\u001b[0m\n\u001b[0;32m----> 9\u001b[0;31m \u001b[0mnext\u001b[0m\u001b[0;34m(\u001b[0m\u001b[0mgen\u001b[0m\u001b[0;34m)\u001b[0m\u001b[0;34m\u001b[0m\u001b[0;34m\u001b[0m\u001b[0m\n\u001b[0m",
            "\u001b[0;31mStopIteration\u001b[0m: "
          ]
        }
      ]
    },
    {
      "cell_type": "code",
      "source": [
        "gen = create_generator()\n",
        "\n",
        "# generator.throw() - выброс ошибки\n",
        "for i in gen:\n",
        "    print(i)\n",
        "    if i > 7:\n",
        "        gen.throw(ValueError('Unexpected value > 7'))\n",
        "\n",
        "next(gen)"
      ],
      "metadata": {
        "colab": {
          "base_uri": "https://localhost:8080/",
          "height": 523
        },
        "id": "0HodnFctluYF",
        "outputId": "077476d2-60f9-43d6-eb80-c52c95a41736"
      },
      "execution_count": 11,
      "outputs": [
        {
          "output_type": "stream",
          "name": "stdout",
          "text": [
            "0\n",
            "1\n",
            "2\n",
            "3\n",
            "4\n",
            "5\n",
            "6\n",
            "7\n",
            "8\n"
          ]
        },
        {
          "output_type": "error",
          "ename": "ValueError",
          "evalue": "Unexpected value > 7",
          "traceback": [
            "\u001b[0;31m---------------------------------------------------------------------------\u001b[0m",
            "\u001b[0;31mValueError\u001b[0m                                Traceback (most recent call last)",
            "\u001b[0;32m<ipython-input-11-c23754588c39>\u001b[0m in \u001b[0;36m<cell line: 4>\u001b[0;34m()\u001b[0m\n\u001b[1;32m      5\u001b[0m     \u001b[0mprint\u001b[0m\u001b[0;34m(\u001b[0m\u001b[0mi\u001b[0m\u001b[0;34m)\u001b[0m\u001b[0;34m\u001b[0m\u001b[0;34m\u001b[0m\u001b[0m\n\u001b[1;32m      6\u001b[0m     \u001b[0;32mif\u001b[0m \u001b[0mi\u001b[0m \u001b[0;34m>\u001b[0m \u001b[0;36m7\u001b[0m\u001b[0;34m:\u001b[0m\u001b[0;34m\u001b[0m\u001b[0;34m\u001b[0m\u001b[0m\n\u001b[0;32m----> 7\u001b[0;31m         \u001b[0mgen\u001b[0m\u001b[0;34m.\u001b[0m\u001b[0mthrow\u001b[0m\u001b[0;34m(\u001b[0m\u001b[0mValueError\u001b[0m\u001b[0;34m(\u001b[0m\u001b[0;34m'Unexpected value > 7'\u001b[0m\u001b[0;34m)\u001b[0m\u001b[0;34m)\u001b[0m\u001b[0;34m\u001b[0m\u001b[0;34m\u001b[0m\u001b[0m\n\u001b[0m\u001b[1;32m      8\u001b[0m \u001b[0;34m\u001b[0m\u001b[0m\n\u001b[1;32m      9\u001b[0m \u001b[0mnext\u001b[0m\u001b[0;34m(\u001b[0m\u001b[0mgen\u001b[0m\u001b[0;34m)\u001b[0m\u001b[0;34m\u001b[0m\u001b[0;34m\u001b[0m\u001b[0m\n",
            "\u001b[0;32m<ipython-input-3-40dfaf76c4e3>\u001b[0m in \u001b[0;36mcreate_generator\u001b[0;34m(start)\u001b[0m\n\u001b[1;32m      3\u001b[0m     \u001b[0mnum\u001b[0m \u001b[0;34m=\u001b[0m \u001b[0mstart\u001b[0m\u001b[0;34m\u001b[0m\u001b[0;34m\u001b[0m\u001b[0m\n\u001b[1;32m      4\u001b[0m     \u001b[0;32mwhile\u001b[0m \u001b[0;32mTrue\u001b[0m\u001b[0;34m:\u001b[0m\u001b[0;34m\u001b[0m\u001b[0;34m\u001b[0m\u001b[0m\n\u001b[0;32m----> 5\u001b[0;31m         \u001b[0;32myield\u001b[0m \u001b[0mnum\u001b[0m\u001b[0;34m\u001b[0m\u001b[0;34m\u001b[0m\u001b[0m\n\u001b[0m\u001b[1;32m      6\u001b[0m         \u001b[0mnum\u001b[0m \u001b[0;34m+=\u001b[0m \u001b[0;36m1\u001b[0m\u001b[0;34m\u001b[0m\u001b[0;34m\u001b[0m\u001b[0m\n\u001b[1;32m      7\u001b[0m \u001b[0;34m\u001b[0m\u001b[0m\n",
            "\u001b[0;31mValueError\u001b[0m: Unexpected value > 7"
          ]
        }
      ]
    },
    {
      "cell_type": "code",
      "source": [
        "def create_my_generator():\n",
        "    for x in range(10):\n",
        "        if x % 2 == 0:\n",
        "            val = yield x ** 2      # val = yield(x ** 2)\n",
        "            print(f'{val} was sent to generator, current state: {x}')\n",
        "        else:\n",
        "            val = yield -x          # val = yield(-x)\n",
        "            print(f'{val} was sent to generator, current state: {x}')\n",
        "\n",
        "\n",
        "generator = create_my_generator()\n",
        "\n",
        "first_val = next(generator)\n",
        "print(first_val)\n",
        "\n",
        "# generator.send(val)\n",
        "second_val = generator.send('Out val')\n",
        "print(second_val)"
      ],
      "metadata": {
        "colab": {
          "base_uri": "https://localhost:8080/"
        },
        "id": "dwkVHic0mJzR",
        "outputId": "5121413d-b31c-4189-f3a3-e47783e29902"
      },
      "execution_count": 14,
      "outputs": [
        {
          "output_type": "stream",
          "name": "stdout",
          "text": [
            "0\n",
            "Out val was sent to generator, current state: 0\n",
            "-1\n"
          ]
        }
      ]
    },
    {
      "cell_type": "code",
      "source": [
        "next(generator)"
      ],
      "metadata": {
        "colab": {
          "base_uri": "https://localhost:8080/"
        },
        "id": "TAkZIlNZnrxT",
        "outputId": "77b8bcc0-acaf-43e7-ffe4-89cbc377d9ee"
      },
      "execution_count": 15,
      "outputs": [
        {
          "output_type": "stream",
          "name": "stdout",
          "text": [
            "None was sent to generator, current state: 1\n"
          ]
        },
        {
          "output_type": "execute_result",
          "data": {
            "text/plain": [
              "4"
            ]
          },
          "metadata": {},
          "execution_count": 15
        }
      ]
    },
    {
      "cell_type": "markdown",
      "source": [
        "В этом задании нужно будет написать свою реализацию map(), который мы обсуждали в прошлом ДЗ. То есть нужно написать генераторную функцию, которая первым аргументом будет принимать функцию, а вторым некую последовательность. Полученный генератор должен генерировать значения из переданной последовательности, пропущенные через переданную первым аргументом функцию.\n",
        "\n",
        "Воспользуйтесь своей реализацией, чтобы применить лямбда функцию, поданную на вход, к поданной на вход последовательности. Вам нужно написать свой код в секции “YOUR CODE HERE”, остальной код можно оставить как есть:\n",
        "\n",
        "```\n",
        "def map(func, seq):\n",
        "   # YOUR CODE HERE\n",
        "\n",
        "func_in, seq_in = eval(input()), eval(input())\n",
        "\n",
        "for x in map(func_in, seq_in):\n",
        "   print(x)\n",
        "```"
      ],
      "metadata": {
        "id": "clAyq6gvpuh6"
      }
    },
    {
      "cell_type": "code",
      "source": [
        "def map(func, seq):\n",
        "    # YOUR CODE HERE\n",
        "    for i in seq:\n",
        "        yield func(i)\n",
        "\n",
        "func_in, seq_in = eval(input()), eval(input())\n",
        "\n",
        "for x in map(func_in, seq_in):\n",
        "   print(x)"
      ],
      "metadata": {
        "colab": {
          "base_uri": "https://localhost:8080/"
        },
        "id": "MpfWG_tLpA1k",
        "outputId": "518d483e-cf23-4a58-ced3-6b035761dd3c"
      },
      "execution_count": 18,
      "outputs": [
        {
          "output_type": "stream",
          "name": "stdout",
          "text": [
            "lambda x: x ** 2\n",
            "range(-10, 11, 2)\n",
            "100\n",
            "64\n",
            "36\n",
            "16\n",
            "4\n",
            "0\n",
            "4\n",
            "16\n",
            "36\n",
            "64\n",
            "100\n"
          ]
        }
      ]
    },
    {
      "cell_type": "markdown",
      "source": [
        "В этом задании нужно будет написать свою реализацию filter() (https://docs.python.org/3/library/functions.html#filter), то есть генераторную функцию, которая принимает функцию и последовательность и фильтрует последовательность в зависимости от вердикта переданной функции. Воспользуйтесь своей реализацией, чтобы применить лямбда функцию, поданную на вход, к поданной на вход последовательности. Вам нужно написать свой код в секции “YOUR CODE HERE”, остальной код можно оставить как есть:\n",
        "\n",
        "```\n",
        "def filter(func, seq):\n",
        "   # YOUR CODE HERE\n",
        "\n",
        "func_in, seq_in = eval(input()), eval(input())\n",
        "\n",
        "for x in filter(func_in, seq_in):\n",
        "   print(x)\n",
        "```"
      ],
      "metadata": {
        "id": "_I-DgQFSwhbf"
      }
    },
    {
      "cell_type": "code",
      "source": [
        "def filter(func, seq):\n",
        "   # YOUR CODE HERE\n",
        "   for i in seq:\n",
        "    if func(i):\n",
        "        yield i\n",
        "\n",
        "func_in, seq_in = eval(input()), eval(input())\n",
        "\n",
        "for x in filter(func_in, seq_in):\n",
        "   print(x)"
      ],
      "metadata": {
        "colab": {
          "base_uri": "https://localhost:8080/"
        },
        "id": "oA3_n0Kyqojg",
        "outputId": "f90f5f4b-d1ea-45a6-c80e-40c4e04b560f"
      },
      "execution_count": 21,
      "outputs": [
        {
          "output_type": "stream",
          "name": "stdout",
          "text": [
            "lambda x: x > 0\n",
            "(1, 2, 0, 3, -1, -2, 5)\n",
            "1\n",
            "2\n",
            "3\n",
            "5\n"
          ]
        }
      ]
    },
    {
      "cell_type": "code",
      "source": [],
      "metadata": {
        "id": "_1LVtCCQxFp6"
      },
      "execution_count": null,
      "outputs": []
    }
  ]
}