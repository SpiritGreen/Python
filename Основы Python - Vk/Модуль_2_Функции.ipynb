{
  "nbformat": 4,
  "nbformat_minor": 0,
  "metadata": {
    "colab": {
      "provenance": [],
      "toc_visible": true,
      "authorship_tag": "ABX9TyMq8acbrKlCajwoTC0gRxpe",
      "include_colab_link": true
    },
    "kernelspec": {
      "name": "python3",
      "display_name": "Python 3"
    },
    "language_info": {
      "name": "python"
    }
  },
  "cells": [
    {
      "cell_type": "markdown",
      "metadata": {
        "id": "view-in-github",
        "colab_type": "text"
      },
      "source": [
        "<a href=\"https://colab.research.google.com/github/SpiritGreen/Python/blob/main/%D0%9E%D1%81%D0%BD%D0%BE%D0%B2%D1%8B%20Python%20-%20Vk/%D0%9C%D0%BE%D0%B4%D1%83%D0%BB%D1%8C_2_%D0%A4%D1%83%D0%BD%D0%BA%D1%86%D0%B8%D0%B8.ipynb\" target=\"_parent\"><img src=\"https://colab.research.google.com/assets/colab-badge.svg\" alt=\"Open In Colab\"/></a>"
      ]
    },
    {
      "cell_type": "markdown",
      "source": [
        "# 1. Базовые сведения"
      ],
      "metadata": {
        "id": "tMbzEPcmpPPF"
      }
    },
    {
      "cell_type": "code",
      "execution_count": null,
      "metadata": {
        "id": "Zv8P_haqpGz9"
      },
      "outputs": [],
      "source": [
        "def func(val, var=None):\n",
        "    # x or y <=> if x is True then x else y\n",
        "    var = var or []\n",
        "\n",
        "    var.append(val)\n",
        "    return var"
      ]
    },
    {
      "cell_type": "code",
      "source": [
        "func(1)"
      ],
      "metadata": {
        "colab": {
          "base_uri": "https://localhost:8080/"
        },
        "id": "d3arrPUnsrZl",
        "outputId": "7f5fe028-0564-4ffc-84aa-64b6d1fe3b32"
      },
      "execution_count": null,
      "outputs": [
        {
          "output_type": "execute_result",
          "data": {
            "text/plain": [
              "[1]"
            ]
          },
          "metadata": {},
          "execution_count": 2
        }
      ]
    },
    {
      "cell_type": "code",
      "source": [
        "def standart_arg(arg):\n",
        "    print(arg)\n",
        "\n",
        "standart_arg(4)\n",
        "standart_arg(arg=4)"
      ],
      "metadata": {
        "colab": {
          "base_uri": "https://localhost:8080/"
        },
        "id": "2Lq7rvSZsv8D",
        "outputId": "349ff73e-21d6-4c13-ecd0-169bdbd1bd60"
      },
      "execution_count": null,
      "outputs": [
        {
          "output_type": "stream",
          "name": "stdout",
          "text": [
            "4\n",
            "4\n"
          ]
        }
      ]
    },
    {
      "cell_type": "code",
      "source": [
        "# только позиционные аргументы\n",
        "def pos_only_arg(arg, /):\n",
        "    print(arg)\n",
        "\n",
        "pos_only_arg(4)"
      ],
      "metadata": {
        "colab": {
          "base_uri": "https://localhost:8080/"
        },
        "id": "Yh94lFLGtqlr",
        "outputId": "903d7413-cb2f-4dd6-a81c-c82784a7f012"
      },
      "execution_count": null,
      "outputs": [
        {
          "output_type": "stream",
          "name": "stdout",
          "text": [
            "4\n"
          ]
        }
      ]
    },
    {
      "cell_type": "code",
      "source": [
        "pos_only_arg(arg=4)"
      ],
      "metadata": {
        "colab": {
          "base_uri": "https://localhost:8080/",
          "height": 176
        },
        "id": "oobk1hcfurt8",
        "outputId": "ab8472dc-e868-4154-88db-c26e6691ab98"
      },
      "execution_count": null,
      "outputs": [
        {
          "output_type": "error",
          "ename": "TypeError",
          "evalue": "pos_only_arg() got some positional-only arguments passed as keyword arguments: 'arg'",
          "traceback": [
            "\u001b[0;31m---------------------------------------------------------------------------\u001b[0m",
            "\u001b[0;31mTypeError\u001b[0m                                 Traceback (most recent call last)",
            "\u001b[0;32m<ipython-input-11-4812aefbfc82>\u001b[0m in \u001b[0;36m<cell line: 1>\u001b[0;34m()\u001b[0m\n\u001b[0;32m----> 1\u001b[0;31m \u001b[0mpos_only_arg\u001b[0m\u001b[0;34m(\u001b[0m\u001b[0marg\u001b[0m\u001b[0;34m=\u001b[0m\u001b[0;36m4\u001b[0m\u001b[0;34m)\u001b[0m\u001b[0;34m\u001b[0m\u001b[0;34m\u001b[0m\u001b[0m\n\u001b[0m",
            "\u001b[0;31mTypeError\u001b[0m: pos_only_arg() got some positional-only arguments passed as keyword arguments: 'arg'"
          ]
        }
      ]
    },
    {
      "cell_type": "code",
      "source": [
        "# только аргументы по ключевым словам\n",
        "def kwd_only_arg(*, arg):\n",
        "    print(arg)\n",
        "\n",
        "kwd_only_arg(arg=4)"
      ],
      "metadata": {
        "colab": {
          "base_uri": "https://localhost:8080/"
        },
        "id": "gCxjnIF1uR16",
        "outputId": "578c9a71-6672-4ff9-ae65-ae6325532856"
      },
      "execution_count": null,
      "outputs": [
        {
          "output_type": "stream",
          "name": "stdout",
          "text": [
            "4\n"
          ]
        }
      ]
    },
    {
      "cell_type": "code",
      "source": [
        "kwd_only_arg(4)"
      ],
      "metadata": {
        "colab": {
          "base_uri": "https://localhost:8080/",
          "height": 176
        },
        "id": "tEYNyQGrukv7",
        "outputId": "66a1985d-92b1-4955-b7f7-c17f7da8c0c7"
      },
      "execution_count": null,
      "outputs": [
        {
          "output_type": "error",
          "ename": "TypeError",
          "evalue": "kwd_only_arg() takes 0 positional arguments but 1 was given",
          "traceback": [
            "\u001b[0;31m---------------------------------------------------------------------------\u001b[0m",
            "\u001b[0;31mTypeError\u001b[0m                                 Traceback (most recent call last)",
            "\u001b[0;32m<ipython-input-13-baa932912808>\u001b[0m in \u001b[0;36m<cell line: 1>\u001b[0;34m()\u001b[0m\n\u001b[0;32m----> 1\u001b[0;31m \u001b[0mkwd_only_arg\u001b[0m\u001b[0;34m(\u001b[0m\u001b[0;36m4\u001b[0m\u001b[0;34m)\u001b[0m\u001b[0;34m\u001b[0m\u001b[0;34m\u001b[0m\u001b[0m\n\u001b[0m",
            "\u001b[0;31mTypeError\u001b[0m: kwd_only_arg() takes 0 positional arguments but 1 was given"
          ]
        }
      ]
    },
    {
      "cell_type": "code",
      "source": [
        "# распаковка списка: *lst\n",
        "# распаковка словаря **dict\n",
        "\n",
        "def all_args(*args, **kwargs):\n",
        "    print(args)\n",
        "    print(kwargs)\n",
        "\n",
        "all_args(1, 2, 3, a=1, b=2, c=3)"
      ],
      "metadata": {
        "colab": {
          "base_uri": "https://localhost:8080/"
        },
        "id": "HczvrDeruvuK",
        "outputId": "f0bd72fd-791e-4f43-903c-238d7ded13d1"
      },
      "execution_count": null,
      "outputs": [
        {
          "output_type": "stream",
          "name": "stdout",
          "text": [
            "(1, 2, 3)\n",
            "{'a': 1, 'b': 2, 'c': 3}\n"
          ]
        }
      ]
    },
    {
      "cell_type": "markdown",
      "source": [
        "Необходимо написать программу, которая будет считывать со входа данные последовательностей чисел, считать и выводить их среднее значение. Напишите сначала функцию, которая будет принимать строку, а в ответ возвращать среднее значение чисел из нее. А далее применяйте эту функцию к каждой считанной входной последовательности. На вход будут подаваться строки, в которых расположены целые числа, разделенные пробелом. Передача пустой строки будет означать конец входных данных."
      ],
      "metadata": {
        "id": "cSsofTXI5hfl"
      }
    },
    {
      "cell_type": "code",
      "source": [
        "def mean(nums):\n",
        "    nums = nums.split()\n",
        "    nums = [int(x) for x in nums]\n",
        "    return round(sum(nums) / len(nums), 2)\n",
        "\n",
        "\n",
        "while data := input():\n",
        "    print(mean(data))"
      ],
      "metadata": {
        "colab": {
          "base_uri": "https://localhost:8080/"
        },
        "id": "co347fuwv84N",
        "outputId": "f7208aa0-dfa4-4aec-9f45-d38143eab6ba"
      },
      "execution_count": null,
      "outputs": [
        {
          "name": "stdout",
          "output_type": "stream",
          "text": [
            "1 2 3 4\n",
            "2.5\n",
            "1 1 1\n",
            "1.0\n",
            "\n"
          ]
        }
      ]
    },
    {
      "cell_type": "markdown",
      "source": [
        "Необходимо написать программу, которая будет принимать на вход строки, преобразовывать и выводить их. Если первым символом в строке является “!”, то строку нужно привести к верхнему регистру, иначе к нижнему. Также из строки нужно удалить все символы “!”, “@”, “#”, “%”. Получившуюся строку нужно вывести. Реализуйте функцию, которая будет принимать строку, обрабатывать ее по условиям выше и возвращать обработанную строку в качестве результата. Полученную функцию применяйте к строкам подаваемым на вход."
      ],
      "metadata": {
        "id": "_Y0f6A1h_A9i"
      }
    },
    {
      "cell_type": "code",
      "source": [
        "FILTER = '!@#%'\n",
        "\n",
        "def text_change(text):\n",
        "    if text[0] == '!':\n",
        "        text = text.upper()\n",
        "    else:\n",
        "        text = text.lower()\n",
        "    for char in FILTER:\n",
        "        text = text.replace(char, '')\n",
        "    return text\n",
        "\n",
        "\n",
        "while data := input():\n",
        "    print(text_change(data))"
      ],
      "metadata": {
        "colab": {
          "base_uri": "https://localhost:8080/"
        },
        "id": "IVjMGqNo6VGk",
        "outputId": "44b86619-5950-45ba-f90f-797304c1c65e"
      },
      "execution_count": null,
      "outputs": [
        {
          "name": "stdout",
          "output_type": "stream",
          "text": [
            "Hello World!\n",
            "hello world\n",
            "!Python programming language\n",
            "PYTHON PROGRAMMING LANGUAGE\n",
            "\n"
          ]
        }
      ]
    },
    {
      "cell_type": "markdown",
      "source": [
        "# 2. Автодокументация"
      ],
      "metadata": {
        "id": "eb9eaDBnBl0I"
      }
    },
    {
      "cell_type": "markdown",
      "source": [
        "Через тройные двойные кавычки можно добавлять небольшую документацию к функциям"
      ],
      "metadata": {
        "id": "jVCqsiSITIjq"
      }
    },
    {
      "cell_type": "code",
      "source": [
        "def phone(model:str, charge:int=100, storage:str='128 Gb', status:str='Working') -> None:\n",
        "    \"\"\"\n",
        "    :param model: model of phone e.g. 'Samsung', 'Oppo', etc.\n",
        "    :param charge: percent of charge available\n",
        "    :param storage: overall storage size\n",
        "    :param status: system status of phone\n",
        "    :return: None\n",
        "    \"\"\"\n",
        "\n",
        "    if not 0 <= charge <= 100:\n",
        "        print('Incorrect charge data!')\n",
        "        return\n",
        "\n",
        "    print(\n",
        "        f'This {model} is {charge}% charged. '\n",
        "        f'It has {storage} of storage, current status is {status}.'\n",
        "        )"
      ],
      "metadata": {
        "id": "ZLTtNLJQ_jGh"
      },
      "execution_count": null,
      "outputs": []
    },
    {
      "cell_type": "code",
      "source": [
        "phone('Oppo', 85, '64 Gb')"
      ],
      "metadata": {
        "colab": {
          "base_uri": "https://localhost:8080/"
        },
        "id": "xvrN5p8eRaqy",
        "outputId": "7cfccf9d-f012-433a-b4fb-3ea3bc1ec670"
      },
      "execution_count": null,
      "outputs": [
        {
          "output_type": "stream",
          "name": "stdout",
          "text": [
            "This Oppo is 85% charged. It has 64 Gb of storage, current status is Working.\n"
          ]
        }
      ]
    },
    {
      "cell_type": "code",
      "source": [
        "help(phone)"
      ],
      "metadata": {
        "colab": {
          "base_uri": "https://localhost:8080/"
        },
        "id": "ut-wdaUeRplM",
        "outputId": "0e9c4081-7d7c-42b2-ab2a-0b4e033eac6a"
      },
      "execution_count": null,
      "outputs": [
        {
          "output_type": "stream",
          "name": "stdout",
          "text": [
            "Help on function phone in module __main__:\n",
            "\n",
            "phone(model: str, charge: int = 100, storage: str = '128 Gb', status: str = 'Working') -> None\n",
            "    :param model: model of phone e.g. 'Samsung', 'Oppo', etc.\n",
            "    :param charge: percent of charge available\n",
            "    :param storage: overall storage size\n",
            "    :param status: system status of phone\n",
            "    :return: None\n",
            "\n"
          ]
        }
      ]
    },
    {
      "cell_type": "markdown",
      "source": [
        "Троеточие или слово `pass` позволяют пропустить реализацию функции, чтобы позже её дополнить"
      ],
      "metadata": {
        "id": "P4m9jY-dTRvY"
      }
    },
    {
      "cell_type": "code",
      "source": [
        "def skip():\n",
        "    ...\n",
        "\n",
        "skip()"
      ],
      "metadata": {
        "id": "571i2KseSC9u"
      },
      "execution_count": null,
      "outputs": []
    },
    {
      "cell_type": "code",
      "source": [
        "def skip_2():\n",
        "    pass\n",
        "\n",
        "skip()"
      ],
      "metadata": {
        "id": "bDk-7UANThjy"
      },
      "execution_count": null,
      "outputs": []
    },
    {
      "cell_type": "markdown",
      "source": [
        "Функции можно записывать в переменные"
      ],
      "metadata": {
        "id": "SLu41HXxUXiL"
      }
    },
    {
      "cell_type": "code",
      "source": [
        "l_func = lambda x: 2 ** x\n",
        "\n",
        "print(l_func(3))"
      ],
      "metadata": {
        "colab": {
          "base_uri": "https://localhost:8080/"
        },
        "id": "C_k7PuftTqey",
        "outputId": "444ca6c9-94e0-4893-da2e-a88fa1e89303"
      },
      "execution_count": null,
      "outputs": [
        {
          "output_type": "stream",
          "name": "stdout",
          "text": [
            "8\n"
          ]
        }
      ]
    },
    {
      "cell_type": "code",
      "source": [
        "a = [1, 2, 3, 4, 5]\n",
        "b = sorted(a, key=lambda x: -x)\n",
        "\n",
        "print(b)"
      ],
      "metadata": {
        "colab": {
          "base_uri": "https://localhost:8080/"
        },
        "id": "3rEXatJ6UfjR",
        "outputId": "11c390d5-ff10-4a43-a779-d53afea39207"
      },
      "execution_count": null,
      "outputs": [
        {
          "output_type": "stream",
          "name": "stdout",
          "text": [
            "[5, 4, 3, 2, 1]\n"
          ]
        }
      ]
    },
    {
      "cell_type": "code",
      "source": [
        "def factorial(n):\n",
        "    if n <= 1:\n",
        "        return 1\n",
        "\n",
        "    return n * factorial(n - 1)\n",
        "\n",
        "\n",
        "print(factorial(3))"
      ],
      "metadata": {
        "colab": {
          "base_uri": "https://localhost:8080/"
        },
        "id": "KUNnCt3DU8kK",
        "outputId": "ed18a184-16e6-4c67-882e-ce58a6dbcddc"
      },
      "execution_count": null,
      "outputs": [
        {
          "output_type": "stream",
          "name": "stdout",
          "text": [
            "6\n"
          ]
        }
      ]
    },
    {
      "cell_type": "code",
      "source": [
        "def factorial_2(n):\n",
        "    result = 1\n",
        "\n",
        "    for i in range(n, 1, -1):\n",
        "        result *= i\n",
        "\n",
        "    return result\n",
        "\n",
        "\n",
        "print(factorial_2(3))"
      ],
      "metadata": {
        "colab": {
          "base_uri": "https://localhost:8080/"
        },
        "id": "yvEmZQvJVi5s",
        "outputId": "d3c9b26e-1c7b-4bd6-be6a-06d4fee26ba6"
      },
      "execution_count": null,
      "outputs": [
        {
          "output_type": "stream",
          "name": "stdout",
          "text": [
            "6\n"
          ]
        }
      ]
    },
    {
      "cell_type": "markdown",
      "source": [
        "В Python есть встроенная функция `map()` (https://docs.python.org/3/library/functions.html#map), она принимает первым аргументом функцию, а вторым произвольную последовательность. Возвращает она итератор – иными словами объект, по которому можно проходиться циклом for. При этом каждый элемент, который будет возвращаться этим итератором будет получен из элементов исходной последовательности с помощью применения функции, переданной первым аргументом в `map()`. Иными словами `map(func, seq)` применяет функцию func ко всем элементам seq, причем делает это не разом, а по мере того как мы итерируемся по новой последовательности. Например, код:\n",
        "\n",
        "```\n",
        "seq = range(1, 4)\n",
        "new_seq = map(lambda x: x * 2, seq)\n",
        "for i in new_seq:\n",
        "   print(i)\n",
        "```\n",
        "\n",
        "выведет нам числа от 2, 4, 6, так как мы к числам 1, 2, 3 применили функцию, которая умножает их на 2. В сценарии использования map() лямбда функции позволяют нам записать нужно преобразование в одну строку. Например, мы можем решить задачу “Поданные на вход строки преобразовать к верхнему регистру, если первым строки является символ ‘!’, иначе привести к нижнему. В первом случае также убрать лидирующий ‘!’” буквально в 2 строки, если считать, что исходные строки лежат в переменной seq:\n",
        "\n",
        "\n",
        "```\n",
        "for i in map(lambda x: x[1:].upper() if x[0] == \"!\" else x.lower(), seq):\n",
        "   print(i)\n",
        "```\n",
        "\n",
        "\n",
        "В этом примере мы воспользовались тернарным оператором внутри лямбда функции, чтобы компактно записать наш код.\n",
        "\n",
        "Теперь само задание: напишите код, который также будет использовать функцию map() и лямбда функцию. На вход будут подаваться три аргумента для range: начало, конец и шаг числовой последовательности. Нужно вывести для каждого элемента range квадрат числа, если число нечетное, иначе вывести противоположное ему. (Решение можно реализовать в две и даже в одну строку!)"
      ],
      "metadata": {
        "id": "mwbQuqkvXW_z"
      }
    },
    {
      "cell_type": "code",
      "source": [
        "start, end, step = [int(x) for x in input().split()]\n",
        "\n",
        "for i in map(lambda x: x ** 2 if x % 2 != 0 else -x, range(start, end, step)):\n",
        "    print(i)"
      ],
      "metadata": {
        "colab": {
          "base_uri": "https://localhost:8080/"
        },
        "id": "-sjLhp1uWmv7",
        "outputId": "8f95ad40-02b5-4181-9856-2f0ef543d316"
      },
      "execution_count": null,
      "outputs": [
        {
          "output_type": "stream",
          "name": "stdout",
          "text": [
            "1 10 2\n",
            "1\n",
            "9\n",
            "25\n",
            "49\n",
            "81\n"
          ]
        }
      ]
    },
    {
      "cell_type": "markdown",
      "source": [
        "Необходимо написать программу, которая будет считывать со стандартного ввода положительное целое число – порядковый номер 1 <= n <= 30, и выводить n-е по счету число Фибоначчи. Числа Фибоначчи это последовательность чисел такая, что каждое следующее число это сумма двух предыдущих. Первое и второе числа Фибоначчи это числа 1. То есть первые два числа это 1 и 1, третье число это 2 (сумма первого и второго), четвертое число это 3 (сумма второго и третьего), пятое – 5, шестое – 8 и так далее. Нужно написать этот код с помощью рекурсии.\n",
        "\n",
        "* При отладке кода вы можете заметить, что уже на не очень больших числах около 40 код начинает долго выполняться. Это из-за того что число операций растет экспоненциально, то есть очень быстро, при этом большинство вычислений повторяется. Это можно решить“закэшировав” данные, а именно завести глобальную переменную-словарь, а в самой рекурсии проверять нет ли уже в этом словаре вычисленного значения для нужного вам порядкового номера. Если есть, то взять его в качестве результата, а если нет, то вычислить его также с помощью рекурсии и положить в этот словарь."
      ],
      "metadata": {
        "id": "c6hQvAigcdXI"
      }
    },
    {
      "cell_type": "code",
      "source": [
        "cache = {}\n",
        "\n",
        "def fibonacci(n:int):\n",
        "    \"\"\"\n",
        "    :param n: порядковый номер числа Фибоначчи\n",
        "    \"\"\"\n",
        "    if n in cache:\n",
        "        return cache[n]\n",
        "\n",
        "    if n <= 0:\n",
        "        return 0\n",
        "    elif n == 1:\n",
        "        return 1\n",
        "    else:\n",
        "        result = fibonacci(n - 2) + fibonacci(n - 1)\n",
        "        cache[n] = result\n",
        "        return result\n",
        "    ...\n",
        "\n",
        "n = int(input())\n",
        "print(fibonacci(n))"
      ],
      "metadata": {
        "colab": {
          "base_uri": "https://localhost:8080/"
        },
        "id": "F4NXbHalar4-",
        "outputId": "473d6f1c-717e-4e7b-a0f7-f9cf90a03fae"
      },
      "execution_count": null,
      "outputs": [
        {
          "output_type": "stream",
          "name": "stdout",
          "text": [
            "40\n",
            "102334155\n"
          ]
        }
      ]
    },
    {
      "cell_type": "markdown",
      "source": [
        "# 3. Генераторы"
      ],
      "metadata": {
        "id": "vkn6K9wuUyze"
      }
    },
    {
      "cell_type": "code",
      "source": [
        "# yield\n",
        "\n",
        "from os import statvfs_result\n",
        "def create_generator(start=0):\n",
        "    num = start\n",
        "    while True:\n",
        "        yield num\n",
        "        num += 1\n",
        "\n",
        "generator = create_generator(5)\n",
        "\n",
        "for i in generator:\n",
        "    print(i)\n",
        "    if i >= 10:\n",
        "        break"
      ],
      "metadata": {
        "id": "K5XyUpylg2dK",
        "colab": {
          "base_uri": "https://localhost:8080/"
        },
        "outputId": "55c50738-37bd-482a-fe6a-a4c64fc9490c"
      },
      "execution_count": null,
      "outputs": [
        {
          "output_type": "stream",
          "name": "stdout",
          "text": [
            "5\n",
            "6\n",
            "7\n",
            "8\n",
            "9\n",
            "10\n"
          ]
        }
      ]
    },
    {
      "cell_type": "code",
      "source": [
        "def gen_three():\n",
        "    yield 1\n",
        "    yield 2\n",
        "    yield 3\n",
        "\n",
        "\n",
        "for i in gen_three():\n",
        "    print(i)"
      ],
      "metadata": {
        "colab": {
          "base_uri": "https://localhost:8080/"
        },
        "id": "E27WXsuyf7GX",
        "outputId": "6653b1dd-6b7c-421e-b8b8-76cca63400b8"
      },
      "execution_count": null,
      "outputs": [
        {
          "output_type": "stream",
          "name": "stdout",
          "text": [
            "1\n",
            "2\n",
            "3\n"
          ]
        }
      ]
    },
    {
      "cell_type": "code",
      "source": [
        "generator = create_generator()\n",
        "\n",
        "# next()\n",
        "\n",
        "print(next(generator))\n",
        "print(next(generator))\n",
        "print(next(generator))"
      ],
      "metadata": {
        "colab": {
          "base_uri": "https://localhost:8080/"
        },
        "id": "p88ALQiigsJe",
        "outputId": "642a2ee2-8fc8-42ee-93e5-878c05a661ff"
      },
      "execution_count": null,
      "outputs": [
        {
          "output_type": "stream",
          "name": "stdout",
          "text": [
            "0\n",
            "1\n",
            "2\n"
          ]
        }
      ]
    },
    {
      "cell_type": "code",
      "source": [
        "generator = gen_three()\n",
        "\n",
        "# stop iteration\n",
        "\n",
        "print(next(generator))\n",
        "print(next(generator))\n",
        "print(next(generator))\n",
        "print(next(generator))"
      ],
      "metadata": {
        "colab": {
          "base_uri": "https://localhost:8080/",
          "height": 263
        },
        "id": "hDrz_C8Dg51W",
        "outputId": "cb3fa2a4-475c-44c4-db24-616cfc901db5"
      },
      "execution_count": null,
      "outputs": [
        {
          "output_type": "stream",
          "name": "stdout",
          "text": [
            "1\n",
            "2\n",
            "3\n"
          ]
        },
        {
          "output_type": "error",
          "ename": "StopIteration",
          "evalue": "",
          "traceback": [
            "\u001b[0;31m---------------------------------------------------------------------------\u001b[0m",
            "\u001b[0;31mStopIteration\u001b[0m                             Traceback (most recent call last)",
            "\u001b[0;32m<ipython-input-6-076bd7d80c5c>\u001b[0m in \u001b[0;36m<cell line: 8>\u001b[0;34m()\u001b[0m\n\u001b[1;32m      6\u001b[0m \u001b[0mprint\u001b[0m\u001b[0;34m(\u001b[0m\u001b[0mnext\u001b[0m\u001b[0;34m(\u001b[0m\u001b[0mgenerator\u001b[0m\u001b[0;34m)\u001b[0m\u001b[0;34m)\u001b[0m\u001b[0;34m\u001b[0m\u001b[0;34m\u001b[0m\u001b[0m\n\u001b[1;32m      7\u001b[0m \u001b[0mprint\u001b[0m\u001b[0;34m(\u001b[0m\u001b[0mnext\u001b[0m\u001b[0;34m(\u001b[0m\u001b[0mgenerator\u001b[0m\u001b[0;34m)\u001b[0m\u001b[0;34m)\u001b[0m\u001b[0;34m\u001b[0m\u001b[0;34m\u001b[0m\u001b[0m\n\u001b[0;32m----> 8\u001b[0;31m \u001b[0mprint\u001b[0m\u001b[0;34m(\u001b[0m\u001b[0mnext\u001b[0m\u001b[0;34m(\u001b[0m\u001b[0mgenerator\u001b[0m\u001b[0;34m)\u001b[0m\u001b[0;34m)\u001b[0m\u001b[0;34m\u001b[0m\u001b[0;34m\u001b[0m\u001b[0m\n\u001b[0m",
            "\u001b[0;31mStopIteration\u001b[0m: "
          ]
        }
      ]
    },
    {
      "cell_type": "code",
      "source": [
        "abc = ['a', 'b', 'c']\n",
        "it = iter(abc)\n",
        "\n",
        "print(next(it))\n",
        "print(next(it))\n",
        "print(next(it))"
      ],
      "metadata": {
        "colab": {
          "base_uri": "https://localhost:8080/"
        },
        "id": "zZRtQDufhVAG",
        "outputId": "985d62b6-8328-4689-b1d1-195cd0b7e6fa"
      },
      "execution_count": null,
      "outputs": [
        {
          "output_type": "stream",
          "name": "stdout",
          "text": [
            "a\n",
            "b\n",
            "c\n"
          ]
        }
      ]
    },
    {
      "cell_type": "code",
      "source": [
        "generator = (x for x in range(20) if x % 2 == 0)\n",
        "\n",
        "print(next(generator))\n",
        "print(next(generator))"
      ],
      "metadata": {
        "colab": {
          "base_uri": "https://localhost:8080/"
        },
        "id": "DNlaZ-7VkV97",
        "outputId": "95b8c411-1b3b-4b1d-d32e-d8a0d701083a"
      },
      "execution_count": null,
      "outputs": [
        {
          "output_type": "stream",
          "name": "stdout",
          "text": [
            "0\n",
            "2\n"
          ]
        }
      ]
    },
    {
      "cell_type": "code",
      "source": [
        "gen = create_generator()\n",
        "\n",
        "# generator.close() - закрытие итератора\n",
        "for i in gen:\n",
        "    print(i)\n",
        "    if i >= 7:\n",
        "        gen.close()\n",
        "\n",
        "next(gen)"
      ],
      "metadata": {
        "colab": {
          "base_uri": "https://localhost:8080/",
          "height": 349
        },
        "id": "89AFwjC6lA9W",
        "outputId": "744507e9-54b1-4b38-f2a4-0b3ed9935746"
      },
      "execution_count": null,
      "outputs": [
        {
          "output_type": "stream",
          "name": "stdout",
          "text": [
            "0\n",
            "1\n",
            "2\n",
            "3\n",
            "4\n",
            "5\n",
            "6\n",
            "7\n"
          ]
        },
        {
          "output_type": "error",
          "ename": "StopIteration",
          "evalue": "",
          "traceback": [
            "\u001b[0;31m---------------------------------------------------------------------------\u001b[0m",
            "\u001b[0;31mStopIteration\u001b[0m                             Traceback (most recent call last)",
            "\u001b[0;32m<ipython-input-10-9291bacb74f6>\u001b[0m in \u001b[0;36m<cell line: 9>\u001b[0;34m()\u001b[0m\n\u001b[1;32m      7\u001b[0m         \u001b[0mgen\u001b[0m\u001b[0;34m.\u001b[0m\u001b[0mclose\u001b[0m\u001b[0;34m(\u001b[0m\u001b[0;34m)\u001b[0m\u001b[0;34m\u001b[0m\u001b[0;34m\u001b[0m\u001b[0m\n\u001b[1;32m      8\u001b[0m \u001b[0;34m\u001b[0m\u001b[0m\n\u001b[0;32m----> 9\u001b[0;31m \u001b[0mnext\u001b[0m\u001b[0;34m(\u001b[0m\u001b[0mgen\u001b[0m\u001b[0;34m)\u001b[0m\u001b[0;34m\u001b[0m\u001b[0;34m\u001b[0m\u001b[0m\n\u001b[0m",
            "\u001b[0;31mStopIteration\u001b[0m: "
          ]
        }
      ]
    },
    {
      "cell_type": "code",
      "source": [
        "gen = create_generator()\n",
        "\n",
        "# generator.throw() - выброс ошибки\n",
        "for i in gen:\n",
        "    print(i)\n",
        "    if i > 7:\n",
        "        gen.throw(ValueError('Unexpected value > 7'))\n",
        "\n",
        "next(gen)"
      ],
      "metadata": {
        "colab": {
          "base_uri": "https://localhost:8080/",
          "height": 523
        },
        "id": "0HodnFctluYF",
        "outputId": "077476d2-60f9-43d6-eb80-c52c95a41736"
      },
      "execution_count": null,
      "outputs": [
        {
          "output_type": "stream",
          "name": "stdout",
          "text": [
            "0\n",
            "1\n",
            "2\n",
            "3\n",
            "4\n",
            "5\n",
            "6\n",
            "7\n",
            "8\n"
          ]
        },
        {
          "output_type": "error",
          "ename": "ValueError",
          "evalue": "Unexpected value > 7",
          "traceback": [
            "\u001b[0;31m---------------------------------------------------------------------------\u001b[0m",
            "\u001b[0;31mValueError\u001b[0m                                Traceback (most recent call last)",
            "\u001b[0;32m<ipython-input-11-c23754588c39>\u001b[0m in \u001b[0;36m<cell line: 4>\u001b[0;34m()\u001b[0m\n\u001b[1;32m      5\u001b[0m     \u001b[0mprint\u001b[0m\u001b[0;34m(\u001b[0m\u001b[0mi\u001b[0m\u001b[0;34m)\u001b[0m\u001b[0;34m\u001b[0m\u001b[0;34m\u001b[0m\u001b[0m\n\u001b[1;32m      6\u001b[0m     \u001b[0;32mif\u001b[0m \u001b[0mi\u001b[0m \u001b[0;34m>\u001b[0m \u001b[0;36m7\u001b[0m\u001b[0;34m:\u001b[0m\u001b[0;34m\u001b[0m\u001b[0;34m\u001b[0m\u001b[0m\n\u001b[0;32m----> 7\u001b[0;31m         \u001b[0mgen\u001b[0m\u001b[0;34m.\u001b[0m\u001b[0mthrow\u001b[0m\u001b[0;34m(\u001b[0m\u001b[0mValueError\u001b[0m\u001b[0;34m(\u001b[0m\u001b[0;34m'Unexpected value > 7'\u001b[0m\u001b[0;34m)\u001b[0m\u001b[0;34m)\u001b[0m\u001b[0;34m\u001b[0m\u001b[0;34m\u001b[0m\u001b[0m\n\u001b[0m\u001b[1;32m      8\u001b[0m \u001b[0;34m\u001b[0m\u001b[0m\n\u001b[1;32m      9\u001b[0m \u001b[0mnext\u001b[0m\u001b[0;34m(\u001b[0m\u001b[0mgen\u001b[0m\u001b[0;34m)\u001b[0m\u001b[0;34m\u001b[0m\u001b[0;34m\u001b[0m\u001b[0m\n",
            "\u001b[0;32m<ipython-input-3-40dfaf76c4e3>\u001b[0m in \u001b[0;36mcreate_generator\u001b[0;34m(start)\u001b[0m\n\u001b[1;32m      3\u001b[0m     \u001b[0mnum\u001b[0m \u001b[0;34m=\u001b[0m \u001b[0mstart\u001b[0m\u001b[0;34m\u001b[0m\u001b[0;34m\u001b[0m\u001b[0m\n\u001b[1;32m      4\u001b[0m     \u001b[0;32mwhile\u001b[0m \u001b[0;32mTrue\u001b[0m\u001b[0;34m:\u001b[0m\u001b[0;34m\u001b[0m\u001b[0;34m\u001b[0m\u001b[0m\n\u001b[0;32m----> 5\u001b[0;31m         \u001b[0;32myield\u001b[0m \u001b[0mnum\u001b[0m\u001b[0;34m\u001b[0m\u001b[0;34m\u001b[0m\u001b[0m\n\u001b[0m\u001b[1;32m      6\u001b[0m         \u001b[0mnum\u001b[0m \u001b[0;34m+=\u001b[0m \u001b[0;36m1\u001b[0m\u001b[0;34m\u001b[0m\u001b[0;34m\u001b[0m\u001b[0m\n\u001b[1;32m      7\u001b[0m \u001b[0;34m\u001b[0m\u001b[0m\n",
            "\u001b[0;31mValueError\u001b[0m: Unexpected value > 7"
          ]
        }
      ]
    },
    {
      "cell_type": "code",
      "source": [
        "def create_my_generator():\n",
        "    for x in range(10):\n",
        "        if x % 2 == 0:\n",
        "            val = yield x ** 2      # val = yield(x ** 2)\n",
        "            print(f'{val} was sent to generator, current state: {x}')\n",
        "        else:\n",
        "            val = yield -x          # val = yield(-x)\n",
        "            print(f'{val} was sent to generator, current state: {x}')\n",
        "\n",
        "\n",
        "generator = create_my_generator()\n",
        "\n",
        "first_val = next(generator)\n",
        "print(first_val)\n",
        "\n",
        "# generator.send(val)\n",
        "second_val = generator.send('Out val')\n",
        "print(second_val)"
      ],
      "metadata": {
        "colab": {
          "base_uri": "https://localhost:8080/"
        },
        "id": "dwkVHic0mJzR",
        "outputId": "5121413d-b31c-4189-f3a3-e47783e29902"
      },
      "execution_count": null,
      "outputs": [
        {
          "output_type": "stream",
          "name": "stdout",
          "text": [
            "0\n",
            "Out val was sent to generator, current state: 0\n",
            "-1\n"
          ]
        }
      ]
    },
    {
      "cell_type": "code",
      "source": [
        "next(generator)"
      ],
      "metadata": {
        "colab": {
          "base_uri": "https://localhost:8080/"
        },
        "id": "TAkZIlNZnrxT",
        "outputId": "77b8bcc0-acaf-43e7-ffe4-89cbc377d9ee"
      },
      "execution_count": null,
      "outputs": [
        {
          "output_type": "stream",
          "name": "stdout",
          "text": [
            "None was sent to generator, current state: 1\n"
          ]
        },
        {
          "output_type": "execute_result",
          "data": {
            "text/plain": [
              "4"
            ]
          },
          "metadata": {},
          "execution_count": 15
        }
      ]
    },
    {
      "cell_type": "markdown",
      "source": [
        "В этом задании нужно будет написать свою реализацию map(), который мы обсуждали в прошлом ДЗ. То есть нужно написать генераторную функцию, которая первым аргументом будет принимать функцию, а вторым некую последовательность. Полученный генератор должен генерировать значения из переданной последовательности, пропущенные через переданную первым аргументом функцию.\n",
        "\n",
        "Воспользуйтесь своей реализацией, чтобы применить лямбда функцию, поданную на вход, к поданной на вход последовательности. Вам нужно написать свой код в секции “YOUR CODE HERE”, остальной код можно оставить как есть:\n",
        "\n",
        "```\n",
        "def map(func, seq):\n",
        "   # YOUR CODE HERE\n",
        "\n",
        "func_in, seq_in = eval(input()), eval(input())\n",
        "\n",
        "for x in map(func_in, seq_in):\n",
        "   print(x)\n",
        "```"
      ],
      "metadata": {
        "id": "clAyq6gvpuh6"
      }
    },
    {
      "cell_type": "code",
      "source": [
        "def map(func, seq):\n",
        "    # YOUR CODE HERE\n",
        "    for i in seq:\n",
        "        yield func(i)\n",
        "\n",
        "func_in, seq_in = eval(input()), eval(input())\n",
        "\n",
        "for x in map(func_in, seq_in):\n",
        "   print(x)"
      ],
      "metadata": {
        "colab": {
          "base_uri": "https://localhost:8080/"
        },
        "id": "MpfWG_tLpA1k",
        "outputId": "518d483e-cf23-4a58-ced3-6b035761dd3c"
      },
      "execution_count": null,
      "outputs": [
        {
          "output_type": "stream",
          "name": "stdout",
          "text": [
            "lambda x: x ** 2\n",
            "range(-10, 11, 2)\n",
            "100\n",
            "64\n",
            "36\n",
            "16\n",
            "4\n",
            "0\n",
            "4\n",
            "16\n",
            "36\n",
            "64\n",
            "100\n"
          ]
        }
      ]
    },
    {
      "cell_type": "markdown",
      "source": [
        "В этом задании нужно будет написать свою реализацию filter() (https://docs.python.org/3/library/functions.html#filter), то есть генераторную функцию, которая принимает функцию и последовательность и фильтрует последовательность в зависимости от вердикта переданной функции. Воспользуйтесь своей реализацией, чтобы применить лямбда функцию, поданную на вход, к поданной на вход последовательности. Вам нужно написать свой код в секции “YOUR CODE HERE”, остальной код можно оставить как есть:\n",
        "\n",
        "```\n",
        "def filter(func, seq):\n",
        "   # YOUR CODE HERE\n",
        "\n",
        "func_in, seq_in = eval(input()), eval(input())\n",
        "\n",
        "for x in filter(func_in, seq_in):\n",
        "   print(x)\n",
        "```"
      ],
      "metadata": {
        "id": "_I-DgQFSwhbf"
      }
    },
    {
      "cell_type": "code",
      "source": [
        "def filter(func, seq):\n",
        "   # YOUR CODE HERE\n",
        "   for i in seq:\n",
        "    if func(i):\n",
        "        yield i\n",
        "\n",
        "func_in, seq_in = eval(input()), eval(input())\n",
        "\n",
        "for x in filter(func_in, seq_in):\n",
        "   print(x)"
      ],
      "metadata": {
        "colab": {
          "base_uri": "https://localhost:8080/"
        },
        "id": "oA3_n0Kyqojg",
        "outputId": "f90f5f4b-d1ea-45a6-c80e-40c4e04b560f"
      },
      "execution_count": null,
      "outputs": [
        {
          "output_type": "stream",
          "name": "stdout",
          "text": [
            "lambda x: x > 0\n",
            "(1, 2, 0, 3, -1, -2, 5)\n",
            "1\n",
            "2\n",
            "3\n",
            "5\n"
          ]
        }
      ]
    },
    {
      "cell_type": "markdown",
      "source": [
        "# 4. Декораторы"
      ],
      "metadata": {
        "id": "5r5hkwhlzlew"
      }
    },
    {
      "cell_type": "code",
      "source": [
        "def my_decorator(func):\n",
        "    print('Before wrapper def')\n",
        "\n",
        "    def wrapper():\n",
        "        print(\"Before func call\")\n",
        "        func()\n",
        "        print(\"After func call\")\n",
        "\n",
        "\n",
        "    print('After wrapper def')\n",
        "    return wrapper\n",
        "\n",
        "\n",
        "def my_func():\n",
        "    print('Howdy!')\n",
        "\n",
        "\n",
        "my_func()\n",
        "\n",
        "print('-----------------------------------------')\n",
        "\n",
        "my_func_decorated = my_decorator(my_func)\n",
        "\n",
        "print('-----------------------------------------')\n",
        "\n",
        "my_func_decorated()"
      ],
      "metadata": {
        "colab": {
          "base_uri": "https://localhost:8080/"
        },
        "id": "_1LVtCCQxFp6",
        "outputId": "d947b967-127a-4807-888a-7f0fff7a3920"
      },
      "execution_count": null,
      "outputs": [
        {
          "output_type": "stream",
          "name": "stdout",
          "text": [
            "Howdy!\n",
            "-----------------------------------------\n",
            "Before wrapper def\n",
            "After wrapper def\n",
            "-----------------------------------------\n",
            "Before func call\n",
            "Howdy!\n",
            "After func call\n"
          ]
        }
      ]
    },
    {
      "cell_type": "code",
      "source": [
        "@my_decorator\n",
        "def my_func():\n",
        "    print('Howdy!')\n",
        "\n",
        "\n",
        "my_func()"
      ],
      "metadata": {
        "colab": {
          "base_uri": "https://localhost:8080/"
        },
        "id": "IaAVHph102Xj",
        "outputId": "a8c690c9-de00-4a00-c130-36314fb98099"
      },
      "execution_count": null,
      "outputs": [
        {
          "output_type": "stream",
          "name": "stdout",
          "text": [
            "Before wrapper def\n",
            "After wrapper def\n",
            "Before func call\n",
            "Howdy!\n",
            "After func call\n"
          ]
        }
      ]
    },
    {
      "cell_type": "code",
      "source": [
        "def my_decorator_1(func):\n",
        "    def wrapper():\n",
        "        print(\"Before func call 1\")\n",
        "        func()\n",
        "        print(\"After func call 1\")\n",
        "    return wrapper\n",
        "\n",
        "\n",
        "def my_decorator_2(func):\n",
        "    def wrapper():\n",
        "        print(\"Before func call 2\")\n",
        "        func()\n",
        "        print(\"After func call 2\")\n",
        "    return wrapper\n",
        "\n",
        "\n",
        "@my_decorator_1\n",
        "@my_decorator_2\n",
        "def my_func():\n",
        "    print('Howdy!')\n",
        "\n",
        "\n",
        "my_func()"
      ],
      "metadata": {
        "colab": {
          "base_uri": "https://localhost:8080/"
        },
        "id": "pizIvX411jZ6",
        "outputId": "9d170f2c-9df1-44b7-bed5-ec951bea5298"
      },
      "execution_count": null,
      "outputs": [
        {
          "output_type": "stream",
          "name": "stdout",
          "text": [
            "Before func call 1\n",
            "Before func call 2\n",
            "Howdy!\n",
            "After func call 2\n",
            "After func call 1\n"
          ]
        }
      ]
    },
    {
      "cell_type": "code",
      "source": [
        "def my_decorator(func):\n",
        "    def wrapper(*args, **kwargs):\n",
        "        print(\"Before func call 1\")\n",
        "        func(*args, **kwargs)\n",
        "        print(\"After func call 1\")\n",
        "    return wrapper\n",
        "\n",
        "@my_decorator\n",
        "def phone(model:str, charge:int=100, storage:str='128 Gb', status:str='Working') -> None:\n",
        "    if not 0 <= charge <= 100:\n",
        "        print('Incorrect charge data!')\n",
        "        return\n",
        "\n",
        "    print(\n",
        "        f'This {model} is {charge}% charged. '\n",
        "        f'It has {storage} of storage, current status is {status}.'\n",
        "        )\n",
        "\n",
        "\n",
        "phone('Samsung')"
      ],
      "metadata": {
        "colab": {
          "base_uri": "https://localhost:8080/"
        },
        "id": "bNVWVl8b2J2E",
        "outputId": "098c137c-fcc6-48c2-b765-233f6c2fc369"
      },
      "execution_count": null,
      "outputs": [
        {
          "output_type": "stream",
          "name": "stdout",
          "text": [
            "Before func call 1\n",
            "This Samsung is 100% charged. It has 128 Gb of storage, current status is Working.\n",
            "After func call 1\n"
          ]
        }
      ]
    },
    {
      "cell_type": "code",
      "source": [
        "def my_decorator(func):\n",
        "    def wrapper(*args, **kwargs):\n",
        "        print(\"Before func call 1\")\n",
        "        func(*args, **kwargs)\n",
        "        print(\"After func call 1\")\n",
        "    return wrapper\n",
        "\n",
        "@my_decorator\n",
        "def phone(model:str, charge:int=100, storage:str='128 Gb', status:str='Working') -> None:\n",
        "    \"\"\"\n",
        "    :param model: model of phone e.g. 'Samsung', 'Oppo', etc.\n",
        "    :param charge: percent of charge available\n",
        "    :param storage: overall storage size\n",
        "    :param status: system status of phone\n",
        "    :return: None\n",
        "    \"\"\"\n",
        "\n",
        "    if not 0 <= charge <= 100:\n",
        "        print('Incorrect charge data!')\n",
        "        return\n",
        "\n",
        "    print(\n",
        "        f'This {model} is {charge}% charged. '\n",
        "        f'It has {storage} of storage, current status is {status}.'\n",
        "        )\n",
        "\n",
        "\n",
        "# выводится документация к декоратору\n",
        "help(phone)"
      ],
      "metadata": {
        "colab": {
          "base_uri": "https://localhost:8080/"
        },
        "id": "rbCw0DKm31zW",
        "outputId": "d68bc25b-1858-4be1-e15d-4c1d62d8ed38"
      },
      "execution_count": null,
      "outputs": [
        {
          "output_type": "stream",
          "name": "stdout",
          "text": [
            "Help on function wrapper in module __main__:\n",
            "\n",
            "wrapper(*args, **kwargs)\n",
            "\n"
          ]
        }
      ]
    },
    {
      "cell_type": "code",
      "source": [
        "import functools\n",
        "\n",
        "def my_decorator(func):\n",
        "    # это исправит документацию\n",
        "    @functools.wraps(func)\n",
        "    def wrapper(*args, **kwargs):\n",
        "        print(\"Before func call 1\")\n",
        "        func(*args, **kwargs)\n",
        "        print(\"After func call 1\")\n",
        "    return wrapper\n",
        "\n",
        "@my_decorator\n",
        "def phone(model:str, charge:int=100, storage:str='128 Gb', status:str='Working') -> None:\n",
        "    \"\"\"\n",
        "    :param model: model of phone e.g. 'Samsung', 'Oppo', etc.\n",
        "    :param charge: percent of charge available\n",
        "    :param storage: overall storage size\n",
        "    :param status: system status of phone\n",
        "    :return: None\n",
        "    \"\"\"\n",
        "\n",
        "    if not 0 <= charge <= 100:\n",
        "        print('Incorrect charge data!')\n",
        "        return\n",
        "\n",
        "    print(\n",
        "        f'This {model} is {charge}% charged. '\n",
        "        f'It has {storage} of storage, current status is {status}.'\n",
        "        )\n",
        "\n",
        "\n",
        "# теперь документация выводится верно\n",
        "help(phone)"
      ],
      "metadata": {
        "colab": {
          "base_uri": "https://localhost:8080/"
        },
        "id": "Yhz4-83N5o5l",
        "outputId": "879a71dc-e660-48be-bb8c-db7d83159df0"
      },
      "execution_count": null,
      "outputs": [
        {
          "output_type": "stream",
          "name": "stdout",
          "text": [
            "Help on function phone in module __main__:\n",
            "\n",
            "phone(model: str, charge: int = 100, storage: str = '128 Gb', status: str = 'Working') -> None\n",
            "    :param model: model of phone e.g. 'Samsung', 'Oppo', etc.\n",
            "    :param charge: percent of charge available\n",
            "    :param storage: overall storage size\n",
            "    :param status: system status of phone\n",
            "    :return: None\n",
            "\n"
          ]
        }
      ]
    },
    {
      "cell_type": "markdown",
      "source": [
        " Напишите декоратор, который будет кэшировать вызовы функции, которая будет передана на вход. То есть декоратор должен проверить нет ли в кэше (например, словаре) значения, и если нет, то вычислить и запомнить результат, если есть, то взять это значение. Дополните код ниже, дописав свой код в секции “YOUR CODE HERE”.\n",
        "\n",
        "```\n",
        "def cache_deco(func):\n",
        "   # YOUR CODE HERE\n",
        "\n",
        "code = []\n",
        "while data := input():\n",
        "   code.append(data)\n",
        "code = \"\\n\".join(code)\n",
        "exec(code)\n",
        "```"
      ],
      "metadata": {
        "id": "ekdgzyq-6vGV"
      }
    },
    {
      "cell_type": "code",
      "source": [
        "import functools\n",
        "\n",
        "def cache_deco(func):\n",
        "    # YOUR CODE HERE\n",
        "    cache = {}\n",
        "\n",
        "    @functools.wraps(func)\n",
        "    def wrapper(*args, **kwargs):\n",
        "        key = (args, tuple(sorted(kwargs.items())))\n",
        "        if key in cache:\n",
        "            return cache[key]\n",
        "        else:\n",
        "            cache[key] = func(*args, **kwargs)\n",
        "            return cache[key]\n",
        "\n",
        "    return wrapper\n",
        "\n",
        "\n",
        "@cache_deco\n",
        "def fib(k):\n",
        "    if k <= 2:\n",
        "        return 1\n",
        "    return fib(k - 1) + fib(k - 2)\n",
        "print(fib(300))\n"
      ],
      "metadata": {
        "id": "FfhDbqKB6FAD",
        "colab": {
          "base_uri": "https://localhost:8080/"
        },
        "outputId": "d9838ac6-4834-427b-86dd-5c0ddd9fa98c"
      },
      "execution_count": null,
      "outputs": [
        {
          "output_type": "stream",
          "name": "stdout",
          "text": [
            "222232244629420445529739893461909967206666939096499764990979600\n"
          ]
        }
      ]
    },
    {
      "cell_type": "markdown",
      "source": [
        "Напишите декоратор, который будет принимать натуральное число n – число повторений – и будет повторять вызов декорированной функции n раз, а также возвращать значение из последнего вызова. Дополните код ниже, дописав свой код в секции “YOUR CODE HERE”.\n",
        "\n",
        "```Python\n",
        "def repeat_deco(n=1):\n",
        "   # YOUR CODE HERE\n",
        "\n",
        "code = []\n",
        "while data := input():\n",
        "   code.append(data)\n",
        "code = \"\\n\".join(code)\n",
        "exec(code)\n",
        "```"
      ],
      "metadata": {
        "id": "gT-g0eEJCQ33"
      }
    },
    {
      "cell_type": "code",
      "source": [
        "def repeat_deco(n=1):\n",
        "    # YOUR CODE HERE\n",
        "\n",
        "    def decorator(func):\n",
        "        def wrapper(*args, **kwargs):\n",
        "            result = None\n",
        "            for _ in range(n):\n",
        "                result = func(*args, **kwargs)\n",
        "            return result\n",
        "        return wrapper\n",
        "    return decorator\n",
        "\n",
        "\n",
        "@repeat_deco(4)\n",
        "def hello():\n",
        "    print(\"hello\")\n",
        "\n",
        "hello()\n",
        "\n",
        "# code = []\n",
        "# while data := input():\n",
        "#    code.append(data)\n",
        "# code = \"\\n\".join(code)\n",
        "# exec(code)"
      ],
      "metadata": {
        "colab": {
          "base_uri": "https://localhost:8080/"
        },
        "id": "AsfD1lx0Af_I",
        "outputId": "63209ff2-5987-4e21-893d-e6eea459131d"
      },
      "execution_count": null,
      "outputs": [
        {
          "output_type": "stream",
          "name": "stdout",
          "text": [
            "hello\n",
            "hello\n",
            "hello\n",
            "hello\n"
          ]
        }
      ]
    },
    {
      "cell_type": "markdown",
      "source": [
        "# 5. Область видимости LEGB"
      ],
      "metadata": {
        "id": "EgZuJGJJHKTI"
      }
    },
    {
      "cell_type": "markdown",
      "source": [
        "- Локальные (Local)\n",
        "- Охватывающие (Encoding)\n",
        "- Глобальные (Global)\n",
        "- Встроенные (Built-in)"
      ],
      "metadata": {
        "id": "pfc61aPrY3Rz"
      }
    },
    {
      "cell_type": "markdown",
      "source": [
        "![image.png](data:image/png;base64,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)"
      ],
      "metadata": {
        "id": "mfaUJbVHkKvy"
      }
    },
    {
      "cell_type": "markdown",
      "source": [
        " Напишите функцию f, в которой глобальная переменная a типа int, полученная со стандартного ввода, увеличивается на 10.\n",
        "\n",
        "Дополните код ниже, дописав свой код в секции “YOUR CODE HERE”.\n",
        "\n",
        "```\n",
        "a = int(input())\n",
        "\n",
        "def f():\n",
        "   # YOUR CODE HERE\n",
        "  \n",
        "f()\n",
        "\n",
        "print(a)\n",
        "```"
      ],
      "metadata": {
        "id": "kdoI8AThZuPc"
      }
    },
    {
      "cell_type": "code",
      "source": [
        "a = int(input())\n",
        "\n",
        "def f():\n",
        "   # YOUR CODE HERE\n",
        "   global a\n",
        "   a += 10\n",
        "\n",
        "f()\n",
        "\n",
        "print(a)"
      ],
      "metadata": {
        "id": "M6UyI7CID0eE",
        "colab": {
          "base_uri": "https://localhost:8080/"
        },
        "outputId": "7ef197fd-1315-47cb-bce2-db36802d3ff0"
      },
      "execution_count": 1,
      "outputs": [
        {
          "output_type": "stream",
          "name": "stdout",
          "text": [
            "32\n",
            "42\n"
          ]
        }
      ]
    },
    {
      "cell_type": "markdown",
      "source": [
        "Напишите функцию g вложенную в f, в которой переменная b типа int, полученная со стандартного ввода в объемлющей области видимости увеличивается на 10.\n",
        "\n",
        " Дополните код ниже, дописав свой код в секции “YOUR CODE HERE”.\n",
        "```\n",
        "def g():\n",
        "   b = int(input())\n",
        "   def h():\n",
        "       # YOUR CODE HERE\n",
        "   h()\n",
        "   print(b)\n",
        "g()\n",
        "```"
      ],
      "metadata": {
        "id": "NtlYs6UOaya8"
      }
    },
    {
      "cell_type": "code",
      "source": [
        "def g():\n",
        "   b = int(input())\n",
        "   def h():\n",
        "       # YOUR CODE HERE\n",
        "       nonlocal b\n",
        "       b += 10\n",
        "   h()\n",
        "   print(b)\n",
        "g()"
      ],
      "metadata": {
        "colab": {
          "base_uri": "https://localhost:8080/"
        },
        "id": "9WdSmIQZaEgn",
        "outputId": "12630cfc-5183-4dd9-950f-8ae30a66a9a1"
      },
      "execution_count": 2,
      "outputs": [
        {
          "output_type": "stream",
          "name": "stdout",
          "text": [
            "24\n",
            "34\n"
          ]
        }
      ]
    },
    {
      "cell_type": "markdown",
      "source": [
        "# 6. Встроенные функции"
      ],
      "metadata": {
        "id": "x8riX43-giig"
      }
    },
    {
      "cell_type": "code",
      "source": [
        "# создание словаря\n",
        "d1 = dict(a = 1, b = 2)\n",
        "d2 = {1: 'a', 2: 'b'}\n",
        "\n",
        "print(d1, d2)"
      ],
      "metadata": {
        "colab": {
          "base_uri": "https://localhost:8080/"
        },
        "id": "1yd-qU95bQ6K",
        "outputId": "19ebe769-d048-4001-fca9-0df1b1f94a8e"
      },
      "execution_count": 6,
      "outputs": [
        {
          "output_type": "stream",
          "name": "stdout",
          "text": [
            "{'a': 1, 'b': 2} {1: 'a', 2: 'b'}\n"
          ]
        }
      ]
    },
    {
      "cell_type": "code",
      "source": [
        "# функция list() принимает итерируемые объекты\n",
        "a = list(range(4))\n",
        "b = list('list')\n",
        "\n",
        "print(a)\n",
        "print(b)"
      ],
      "metadata": {
        "colab": {
          "base_uri": "https://localhost:8080/"
        },
        "id": "KuAV8T_agqKP",
        "outputId": "78a7b958-07ba-4a30-913a-fb069e752a66"
      },
      "execution_count": 7,
      "outputs": [
        {
          "output_type": "stream",
          "name": "stdout",
          "text": [
            "[0, 1, 2, 3]\n",
            "['l', 'i', 's', 't']\n"
          ]
        }
      ]
    },
    {
      "cell_type": "code",
      "source": [
        "s = set([1, 1, 2, 3, 3, 4])\n",
        "s.add(5)\n",
        "s.remove(1)\n",
        "# frozenset можно использовать в качестве ключа словаря, т.к это хэшируемый объект\n",
        "fs = frozenset([1, 1, 2, 3, 3, 4])\n",
        "\n",
        "print(s)\n",
        "print(fs)"
      ],
      "metadata": {
        "colab": {
          "base_uri": "https://localhost:8080/"
        },
        "id": "NJSA0Wkahc89",
        "outputId": "1293b238-96b9-4604-ebb7-7e215bbbf69c"
      },
      "execution_count": 11,
      "outputs": [
        {
          "output_type": "stream",
          "name": "stdout",
          "text": [
            "{2, 3, 4, 5}\n",
            "frozenset({1, 2, 3, 4})\n"
          ]
        }
      ]
    },
    {
      "cell_type": "code",
      "source": [
        "l = list('list')\n",
        "\n",
        "# через enumerate() удобно выводить индексы объектов\n",
        "for id, el in enumerate(l):\n",
        "    print(f'id: {id} - {el}')"
      ],
      "metadata": {
        "colab": {
          "base_uri": "https://localhost:8080/"
        },
        "id": "molfwYbJjWN7",
        "outputId": "f2279127-0913-4e6e-cf5e-7c4854c74e3e"
      },
      "execution_count": 12,
      "outputs": [
        {
          "output_type": "stream",
          "name": "stdout",
          "text": [
            "id: 0 - l\n",
            "id: 1 - i\n",
            "id: 2 - s\n",
            "id: 3 - t\n"
          ]
        }
      ]
    },
    {
      "cell_type": "code",
      "source": [
        "l1 = list(range(1, 20, 2))\n",
        "l2 = list(range(5))\n",
        "\n",
        "# при помощи zip() можно итерироваться по нескольким объектам\n",
        "# итерация будет по самому итерируемому объекту\n",
        "for i, j in zip(l1, l2):\n",
        "    print(i, j)"
      ],
      "metadata": {
        "colab": {
          "base_uri": "https://localhost:8080/"
        },
        "id": "npFDaqPGk2R5",
        "outputId": "254510d2-b1cc-4c17-9363-5c2255027076"
      },
      "execution_count": 16,
      "outputs": [
        {
          "output_type": "stream",
          "name": "stdout",
          "text": [
            "1 0\n",
            "3 1\n",
            "5 2\n",
            "7 3\n",
            "9 4\n"
          ]
        }
      ]
    },
    {
      "cell_type": "code",
      "source": [
        "# фильтр по условию:\n",
        "def even(num):\n",
        "    if num % 2 == 0:\n",
        "        return num\n",
        "\n",
        "nums = list(range(10))\n",
        "for n in filter(even, nums):\n",
        "    print(n)"
      ],
      "metadata": {
        "colab": {
          "base_uri": "https://localhost:8080/"
        },
        "id": "0JT3lV5VlmFk",
        "outputId": "52fd3a55-2249-42a6-b38b-63b1181b1f3d"
      },
      "execution_count": 22,
      "outputs": [
        {
          "output_type": "stream",
          "name": "stdout",
          "text": [
            "2\n",
            "4\n",
            "6\n",
            "8\n"
          ]
        }
      ]
    },
    {
      "cell_type": "code",
      "source": [
        "# сортировка:\n",
        "lst = ['a', 'abcd', 'qwerty', 'ab']\n",
        "\n",
        "sorted(lst, key=len)"
      ],
      "metadata": {
        "colab": {
          "base_uri": "https://localhost:8080/"
        },
        "id": "aQUDCGzVmkkJ",
        "outputId": "18d9994e-73a5-48d6-abad-961a1882a105"
      },
      "execution_count": 18,
      "outputs": [
        {
          "output_type": "execute_result",
          "data": {
            "text/plain": [
              "['a', 'ab', 'abcd', 'qwerty']"
            ]
          },
          "metadata": {},
          "execution_count": 18
        }
      ]
    },
    {
      "cell_type": "code",
      "source": [
        "t = [(5, 6), (1, 2), (3, 4)]\n",
        "\n",
        "sorted(t, key=lambda x: x[1])"
      ],
      "metadata": {
        "colab": {
          "base_uri": "https://localhost:8080/"
        },
        "id": "JRrVAdbOnBxO",
        "outputId": "17e9151f-5171-4d64-a843-458f4568abde"
      },
      "execution_count": 23,
      "outputs": [
        {
          "output_type": "execute_result",
          "data": {
            "text/plain": [
              "[(1, 2), (3, 4), (5, 6)]"
            ]
          },
          "metadata": {},
          "execution_count": 23
        }
      ]
    },
    {
      "cell_type": "code",
      "source": [
        "nums = [-1, 2, 3, 4]\n",
        "\n",
        "# any()\n",
        "print(any(map(lambda x: x > 0, nums)))\n",
        "# all()\n",
        "print(all(map(lambda x: x > 0, nums)))"
      ],
      "metadata": {
        "colab": {
          "base_uri": "https://localhost:8080/"
        },
        "id": "5BrcvGw1nmtg",
        "outputId": "36a4b3fd-bf03-479d-c0f9-f66674b32682"
      },
      "execution_count": 25,
      "outputs": [
        {
          "output_type": "stream",
          "name": "stdout",
          "text": [
            "True\n",
            "False\n"
          ]
        }
      ]
    },
    {
      "cell_type": "markdown",
      "source": [
        "Представьте, что у вас есть словарь с ключами и их частотами (то есть насколько часто встречался каждый ключ)  в качестве значений. Напишите функцию make_most_common_keys, которая принимает словарь частот и выводит отсортированный (например через функцию sorted) по убыванию частот (то есть значений ключей) список ключей.\n",
        "\n",
        "Дополните код ниже, дописав свой код в секции “YOUR CODE HERE”.\n",
        "\n",
        "```\n",
        "from typing import List, Dict\n",
        "\n",
        "def make_most_common_keys(d: Dict[int, int]) -> List[int]:\n",
        "   # YOUR CODE HERE\n",
        "\n",
        "code = []\n",
        "while data := input():\n",
        "   code.append(data)\n",
        "code = \"\\n\".join(code)\n",
        "exec(code)\n",
        "```"
      ],
      "metadata": {
        "id": "5fe_gTGdpbKP"
      }
    },
    {
      "cell_type": "code",
      "source": [
        "from typing import List, Dict\n",
        "\n",
        "def make_most_common_keys(d: Dict[int, int]) -> List[int]:\n",
        "   # YOUR CODE HERE\n",
        "    d = dict(sorted(d.items(), key=lambda x: x[1], reverse=True))\n",
        "    return list(d.keys())\n",
        "\n",
        "\n",
        "d = {5:3, 3:5, 0:2, 4:6, 7:10}\n",
        "print(make_most_common_keys(d))\n",
        "\n",
        "# code = []\n",
        "# while data := input():\n",
        "#    code.append(data)\n",
        "# code = \"\\n\".join(code)\n",
        "# exec(code)"
      ],
      "metadata": {
        "colab": {
          "base_uri": "https://localhost:8080/"
        },
        "id": "zDrzLZF9oYiG",
        "outputId": "eccdd142-e3f9-4e45-fc7e-381a178828fb"
      },
      "execution_count": 44,
      "outputs": [
        {
          "output_type": "stream",
          "name": "stdout",
          "text": [
            "[7, 4, 3, 5, 0]\n"
          ]
        }
      ]
    },
    {
      "cell_type": "markdown",
      "source": [
        "Написать функцию get_indexes которая принимает два списка и возвращает список индексов, в которых элемент из первого списка меньше элемента из второго списка по данному индексу. Желательно проходиться сразу по двум массивам одновременно (вспомните функцию zip). Для нахождения индексов можно использовать enumerate вместе с zip.\n",
        "Дополните код ниже, дописав свой код в секции “YOUR CODE HERE”.\n",
        "\n",
        "```\n",
        "from typing import List\n",
        "\n",
        "def get_indexes(nums1: List[int], nums2: List[int]) -> List[int]:\n",
        "   # YOUR CODE HERE\n",
        "\n",
        "code = []\n",
        "while data := input():\n",
        "   code.append(data)\n",
        "code = \"\\n\".join(code)\n",
        "exec(code)\n",
        "```"
      ],
      "metadata": {
        "id": "-kHkE80Rt_Nn"
      }
    },
    {
      "cell_type": "code",
      "source": [
        "from typing import List\n",
        "\n",
        "def get_indexes(nums1: List[int], nums2: List[int]) -> List[int]:\n",
        "   # YOUR CODE HERE\n",
        "   result = []\n",
        "   for id, (n1, n2) in enumerate(zip(nums1, nums2)):\n",
        "       if n1 < n2:\n",
        "           result.append(id)\n",
        "   return result\n",
        "\n",
        "\n",
        "# code = []\n",
        "# while data := input():\n",
        "#    code.append(data)\n",
        "# code = \"\\n\".join(code)\n",
        "# exec(code)\n",
        "\n",
        "nums1 = [1, 2, 3, 4, 5]\n",
        "nums2 = [5, 4, 3, 2, 1]\n",
        "indexes = get_indexes(nums1, nums2)\n",
        "print(indexes)"
      ],
      "metadata": {
        "colab": {
          "base_uri": "https://localhost:8080/"
        },
        "id": "AoXjWO0ZqqS8",
        "outputId": "42004d72-8c3c-4666-c684-246087401942"
      },
      "execution_count": 49,
      "outputs": [
        {
          "output_type": "stream",
          "name": "stdout",
          "text": [
            "[0, 1]\n"
          ]
        }
      ]
    },
    {
      "cell_type": "markdown",
      "source": [
        "# Конец модуля"
      ],
      "metadata": {
        "id": "K_MAdx9YyVLD"
      }
    },
    {
      "cell_type": "markdown",
      "source": [
        "Необходимо написать генераторную функцию solution, которая будет фильтровать данные из последовательности data функцией func_filter, к полученным данным применять функцию func_map и возвращать в качестве значения каждый второй элемент полученной последовательности. Нужно пользоваться здесь концепцией генератора, то есть обрабатывать не все данные разом, а только те, что необходимы для возвращения следующего значения. Дополните также код своей реализацией кэшируещего декоратора из ДЗ 4:\n",
        "\n",
        " ```\n",
        "def cache_deco(func):\n",
        "   # YOUR CODE HERE\n",
        "\n",
        "def solution(func_map, func_filter, data):\n",
        "   # YOUR CODE HERE\n",
        "\n",
        "code = []\n",
        "while data := input():\n",
        "  code.append(data)\n",
        "code = \"\\n\".join(code)\n",
        "exec(code)\n",
        "```"
      ],
      "metadata": {
        "id": "vkKw2WMSyOWp"
      }
    },
    {
      "cell_type": "code",
      "source": [
        "def cache_deco(func):\n",
        "    # YOUR CODE HERE\n",
        "    cache = {}\n",
        "\n",
        "    @functools.wraps(func)\n",
        "    def wrapper(*args, **kwargs):\n",
        "        key = (args, tuple(sorted(kwargs.items())))\n",
        "        if key in cache:\n",
        "            return cache[key]\n",
        "        else:\n",
        "            cache[key] = func(*args, **kwargs)\n",
        "            return cache[key]\n",
        "\n",
        "    return wrapper\n",
        "\n",
        "def solution(func_map, func_filter, data):\n",
        "   # YOUR CODE HERE\n",
        "\n",
        "code = []\n",
        "while data := input():\n",
        "  code.append(data)\n",
        "code = \"\\n\".join(code)\n",
        "exec(code)"
      ],
      "metadata": {
        "id": "8Y6-VCmgu4EJ"
      },
      "execution_count": null,
      "outputs": []
    },
    {
      "cell_type": "code",
      "source": [],
      "metadata": {
        "id": "ltAkgmy5yy82"
      },
      "execution_count": null,
      "outputs": []
    }
  ]
}