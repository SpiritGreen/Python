{
  "nbformat": 4,
  "nbformat_minor": 0,
  "metadata": {
    "colab": {
      "provenance": [],
      "authorship_tag": "ABX9TyNQE6//GqiBJ1WKUnrwxQgr",
      "include_colab_link": true
    },
    "kernelspec": {
      "name": "python3",
      "display_name": "Python 3"
    },
    "language_info": {
      "name": "python"
    }
  },
  "cells": [
    {
      "cell_type": "markdown",
      "metadata": {
        "id": "view-in-github",
        "colab_type": "text"
      },
      "source": [
        "<a href=\"https://colab.research.google.com/github/SpiritGreen/Python/blob/main/%D0%9E%D1%81%D0%BD%D0%BE%D0%B2%D1%8B%20Python%20-%20Vk/%D0%9C%D0%BE%D0%B4%D1%83%D0%BB%D1%8C_1_%D0%92%D0%B2%D0%B5%D0%B4%D0%B5%D0%BD%D0%B8%D0%B5_%D0%B2_Python.ipynb\" target=\"_parent\"><img src=\"https://colab.research.google.com/assets/colab-badge.svg\" alt=\"Open In Colab\"/></a>"
      ]
    },
    {
      "cell_type": "markdown",
      "source": [
        "# 1. Знакомство с командной строкой"
      ],
      "metadata": {
        "id": "Y_5JZc16kr6u"
      }
    },
    {
      "cell_type": "markdown",
      "source": [
        "Необходимо написать программу, которая будет считывать со стандартного ввода имя пользователя и выводить приветствие вида “Hello, [Username]”."
      ],
      "metadata": {
        "id": "94-xCkX7kz46"
      }
    },
    {
      "cell_type": "code",
      "source": [
        "name = input()\n",
        "print(f'Hello, {name}')"
      ],
      "metadata": {
        "colab": {
          "base_uri": "https://localhost:8080/"
        },
        "id": "z_LoEi4kk3fs",
        "outputId": "d0e73f8b-f220-40c2-ac10-170bbdc895cf"
      },
      "execution_count": 1,
      "outputs": [
        {
          "output_type": "stream",
          "name": "stdout",
          "text": [
            "Spirit\n",
            "Hello, Spirit\n"
          ]
        }
      ]
    },
    {
      "cell_type": "markdown",
      "source": [
        "Необходимо написать программу, которая будет считывать со стандартного ввода название города и время и выводить информацию в формате “Current location is [Location] and time is [Time]”."
      ],
      "metadata": {
        "id": "fnrSvFLKlRF6"
      }
    },
    {
      "cell_type": "code",
      "source": [
        "location, time = input(), input()\n",
        "print(f'Current location is {location} and time is {time}')"
      ],
      "metadata": {
        "colab": {
          "base_uri": "https://localhost:8080/"
        },
        "id": "phAsTsbik96P",
        "outputId": "a4c4d3e5-3492-4046-a9cb-6e90449ea9d7"
      },
      "execution_count": 2,
      "outputs": [
        {
          "output_type": "stream",
          "name": "stdout",
          "text": [
            "London\n",
            "15:26\n",
            "Current location is London and time is 15:26\n"
          ]
        }
      ]
    },
    {
      "cell_type": "markdown",
      "source": [
        "# 2. Управляющие выражения"
      ],
      "metadata": {
        "id": "BOeURmPq2KGk"
      }
    },
    {
      "cell_type": "code",
      "source": [
        "while data := input():\n",
        "    print('Entered:', data)"
      ],
      "metadata": {
        "colab": {
          "base_uri": "https://localhost:8080/"
        },
        "id": "XbpQgUW4o_NU",
        "outputId": "517ae200-a634-4556-b002-4861cb9f54d9"
      },
      "execution_count": 4,
      "outputs": [
        {
          "name": "stdout",
          "output_type": "stream",
          "text": [
            "data\n",
            "Entered: data\n",
            "text\n",
            "Entered: text\n",
            "24\n",
            "Entered: 24\n",
            "\n"
          ]
        }
      ]
    },
    {
      "cell_type": "code",
      "source": [
        "b = 2\n",
        "c = 0\n",
        "a = b if b > c else c\n",
        "print(a)"
      ],
      "metadata": {
        "colab": {
          "base_uri": "https://localhost:8080/"
        },
        "id": "CIG90QW-2VwX",
        "outputId": "0091573f-5027-4901-e4b8-81780213bcb4"
      },
      "execution_count": 5,
      "outputs": [
        {
          "output_type": "stream",
          "name": "stdout",
          "text": [
            "2\n"
          ]
        }
      ]
    },
    {
      "cell_type": "markdown",
      "source": [
        "Нужно написать программу, которая будет считывать со стандартного ввода целочисленные границы промежутка (сначала левая, потом правая, каждая на отдельной строке). А дальше будет считывать целые числа со стандартного ввода пока не встретит пустую строку, которая будет означать конец ввода. Нужно будет проверить входят ли все введенные числа в промежуток, проверка включает в себя границы промежутка."
      ],
      "metadata": {
        "id": "Wmnx5o0ffG5T"
      }
    },
    {
      "cell_type": "code",
      "source": [
        "left, right = int(input()), int(input())\n",
        "flag = True\n",
        "\n",
        "while data := input():\n",
        "    if not (left <= int(data) <= right):\n",
        "        flag = False\n",
        "\n",
        "print(flag)"
      ],
      "metadata": {
        "colab": {
          "base_uri": "https://localhost:8080/"
        },
        "id": "OsyNieVCfSvA",
        "outputId": "6c19ae42-2ec9-443d-9f2f-efc0a8d5afc8"
      },
      "execution_count": 4,
      "outputs": [
        {
          "output_type": "stream",
          "name": "stdout",
          "text": [
            "1\n",
            "10\n",
            "20\n",
            "\n",
            "False\n"
          ]
        }
      ]
    },
    {
      "cell_type": "markdown",
      "source": [
        "Необходимо будет написать программу, которая будет считывать со стандартного ввода строку и выводить на стандартный вывод является ли строка “правильной”. Строка считается правильной, если в ней есть латинская буква “a” или “o”, но нет букв “i” и “e”. Строка содержит только латинские буквы в нижнем регистре."
      ],
      "metadata": {
        "id": "ZE35_MKBhx5t"
      }
    },
    {
      "cell_type": "code",
      "source": [
        "word = input()\n",
        "\n",
        "if 'a' in word or 'o' in word:\n",
        "    flag = True\n",
        "    if 'i' in word or 'e' in word:\n",
        "        flag = False\n",
        "else:\n",
        "    flag = False\n",
        "\n",
        "print(flag)"
      ],
      "metadata": {
        "colab": {
          "base_uri": "https://localhost:8080/"
        },
        "id": "CFKlnQ6lgrwW",
        "outputId": "50209bc9-b978-4705-9351-d17ba700c464"
      },
      "execution_count": 6,
      "outputs": [
        {
          "output_type": "stream",
          "name": "stdout",
          "text": [
            "pilot\n",
            "False\n"
          ]
        }
      ]
    }
  ]
}