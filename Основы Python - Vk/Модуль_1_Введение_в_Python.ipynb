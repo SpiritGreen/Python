{
  "nbformat": 4,
  "nbformat_minor": 0,
  "metadata": {
    "colab": {
      "provenance": [],
      "authorship_tag": "ABX9TyN7JTamY2VZcDL7aGKTqLIN",
      "include_colab_link": true
    },
    "kernelspec": {
      "name": "python3",
      "display_name": "Python 3"
    },
    "language_info": {
      "name": "python"
    }
  },
  "cells": [
    {
      "cell_type": "markdown",
      "metadata": {
        "id": "view-in-github",
        "colab_type": "text"
      },
      "source": [
        "<a href=\"https://colab.research.google.com/github/SpiritGreen/Python/blob/main/%D0%9E%D1%81%D0%BD%D0%BE%D0%B2%D1%8B%20Python%20-%20Vk/%D0%9C%D0%BE%D0%B4%D1%83%D0%BB%D1%8C_1_%D0%92%D0%B2%D0%B5%D0%B4%D0%B5%D0%BD%D0%B8%D0%B5_%D0%B2_Python.ipynb\" target=\"_parent\"><img src=\"https://colab.research.google.com/assets/colab-badge.svg\" alt=\"Open In Colab\"/></a>"
      ]
    },
    {
      "cell_type": "markdown",
      "source": [
        "# 1. Знакомство с командной строкой"
      ],
      "metadata": {
        "id": "Y_5JZc16kr6u"
      }
    },
    {
      "cell_type": "markdown",
      "source": [
        "Необходимо написать программу, которая будет считывать со стандартного ввода имя пользователя и выводить приветствие вида “Hello, [Username]”."
      ],
      "metadata": {
        "id": "94-xCkX7kz46"
      }
    },
    {
      "cell_type": "code",
      "source": [
        "name = input()\n",
        "print(f'Hello, {name}')"
      ],
      "metadata": {
        "colab": {
          "base_uri": "https://localhost:8080/"
        },
        "id": "z_LoEi4kk3fs",
        "outputId": "d0e73f8b-f220-40c2-ac10-170bbdc895cf"
      },
      "execution_count": null,
      "outputs": [
        {
          "output_type": "stream",
          "name": "stdout",
          "text": [
            "Spirit\n",
            "Hello, Spirit\n"
          ]
        }
      ]
    },
    {
      "cell_type": "markdown",
      "source": [
        "Необходимо написать программу, которая будет считывать со стандартного ввода название города и время и выводить информацию в формате “Current location is [Location] and time is [Time]”."
      ],
      "metadata": {
        "id": "fnrSvFLKlRF6"
      }
    },
    {
      "cell_type": "code",
      "source": [
        "location, time = input(), input()\n",
        "print(f'Current location is {location} and time is {time}')"
      ],
      "metadata": {
        "colab": {
          "base_uri": "https://localhost:8080/"
        },
        "id": "phAsTsbik96P",
        "outputId": "a4c4d3e5-3492-4046-a9cb-6e90449ea9d7"
      },
      "execution_count": null,
      "outputs": [
        {
          "output_type": "stream",
          "name": "stdout",
          "text": [
            "London\n",
            "15:26\n",
            "Current location is London and time is 15:26\n"
          ]
        }
      ]
    },
    {
      "cell_type": "markdown",
      "source": [
        "# 2. Управляющие выражения"
      ],
      "metadata": {
        "id": "BOeURmPq2KGk"
      }
    },
    {
      "cell_type": "code",
      "source": [
        "while data := input():\n",
        "    print('Entered:', data)"
      ],
      "metadata": {
        "colab": {
          "base_uri": "https://localhost:8080/"
        },
        "id": "XbpQgUW4o_NU",
        "outputId": "517ae200-a634-4556-b002-4861cb9f54d9"
      },
      "execution_count": null,
      "outputs": [
        {
          "name": "stdout",
          "output_type": "stream",
          "text": [
            "data\n",
            "Entered: data\n",
            "text\n",
            "Entered: text\n",
            "24\n",
            "Entered: 24\n",
            "\n"
          ]
        }
      ]
    },
    {
      "cell_type": "code",
      "source": [
        "b = 2\n",
        "c = 0\n",
        "a = b if b > c else c\n",
        "print(a)"
      ],
      "metadata": {
        "colab": {
          "base_uri": "https://localhost:8080/"
        },
        "id": "CIG90QW-2VwX",
        "outputId": "0091573f-5027-4901-e4b8-81780213bcb4"
      },
      "execution_count": null,
      "outputs": [
        {
          "output_type": "stream",
          "name": "stdout",
          "text": [
            "2\n"
          ]
        }
      ]
    },
    {
      "cell_type": "markdown",
      "source": [
        "Нужно написать программу, которая будет считывать со стандартного ввода целочисленные границы промежутка (сначала левая, потом правая, каждая на отдельной строке). А дальше будет считывать целые числа со стандартного ввода пока не встретит пустую строку, которая будет означать конец ввода. Нужно будет проверить входят ли все введенные числа в промежуток, проверка включает в себя границы промежутка."
      ],
      "metadata": {
        "id": "Wmnx5o0ffG5T"
      }
    },
    {
      "cell_type": "code",
      "source": [
        "left, right = int(input()), int(input())\n",
        "flag = True\n",
        "\n",
        "while data := input():\n",
        "    if not (left <= int(data) <= right):\n",
        "        flag = False\n",
        "\n",
        "print(flag)"
      ],
      "metadata": {
        "colab": {
          "base_uri": "https://localhost:8080/"
        },
        "id": "OsyNieVCfSvA",
        "outputId": "6c19ae42-2ec9-443d-9f2f-efc0a8d5afc8"
      },
      "execution_count": null,
      "outputs": [
        {
          "output_type": "stream",
          "name": "stdout",
          "text": [
            "1\n",
            "10\n",
            "20\n",
            "\n",
            "False\n"
          ]
        }
      ]
    },
    {
      "cell_type": "markdown",
      "source": [
        "Необходимо будет написать программу, которая будет считывать со стандартного ввода строку и выводить на стандартный вывод является ли строка “правильной”. Строка считается правильной, если в ней есть латинская буква “a” или “o”, но нет букв “i” и “e”. Строка содержит только латинские буквы в нижнем регистре."
      ],
      "metadata": {
        "id": "ZE35_MKBhx5t"
      }
    },
    {
      "cell_type": "code",
      "source": [
        "word = input()\n",
        "\n",
        "if 'a' in word or 'o' in word:\n",
        "    flag = True\n",
        "    if 'i' in word or 'e' in word:\n",
        "        flag = False\n",
        "else:\n",
        "    flag = False\n",
        "\n",
        "print(flag)"
      ],
      "metadata": {
        "colab": {
          "base_uri": "https://localhost:8080/"
        },
        "id": "CFKlnQ6lgrwW",
        "outputId": "50209bc9-b978-4705-9351-d17ba700c464"
      },
      "execution_count": null,
      "outputs": [
        {
          "output_type": "stream",
          "name": "stdout",
          "text": [
            "pilot\n",
            "False\n"
          ]
        }
      ]
    },
    {
      "cell_type": "markdown",
      "source": [
        "# 3. Базовые типы данных"
      ],
      "metadata": {
        "id": "VzjznYOi9Gui"
      }
    },
    {
      "cell_type": "code",
      "source": [
        "# Можно вывести знак положительного числа:\n",
        "# sign = '+'\n",
        "\n",
        "print(f'{3:+} or {-3:+}')"
      ],
      "metadata": {
        "colab": {
          "base_uri": "https://localhost:8080/"
        },
        "id": "eyL1FniM9Kig",
        "outputId": "0d3ec503-7eec-4c46-eb3d-c9477c0bd007"
      },
      "execution_count": null,
      "outputs": [
        {
          "output_type": "stream",
          "name": "stdout",
          "text": [
            "+3 or -3\n"
          ]
        }
      ]
    },
    {
      "cell_type": "code",
      "source": [
        "# Разделение больших чисел:\n",
        "# sep = ','\n",
        "\n",
        "print(f'{10000:,}')\n",
        "print(f'{100000:+,}')\n",
        "\n",
        "print(f'{100000:+_}')"
      ],
      "metadata": {
        "colab": {
          "base_uri": "https://localhost:8080/"
        },
        "id": "GwvT5yOe9RnL",
        "outputId": "ca602110-5a96-488c-fa7f-a9e5f37acf43"
      },
      "execution_count": null,
      "outputs": [
        {
          "output_type": "stream",
          "name": "stdout",
          "text": [
            "10,000\n",
            "+100,000\n",
            "+100_000\n"
          ]
        }
      ]
    },
    {
      "cell_type": "code",
      "source": [
        "# Заполнение чисел:\n",
        "# :fill align sign # 0 width sep .precision type\n",
        "\n",
        "# fill = '$', align = '=', sign = '+', width = '5':\n",
        "print(f'{3:$=+5}')\n",
        "print(f'{3:$=5}')\n",
        "\n",
        "# fill = '$', align = '>', sign = '+', width = '5':\n",
        "print(f'{3:$>+5}')\n",
        "# fill = '$', align = '<', sign = '+', width = '5':\n",
        "print(f'{3:$<+5}')"
      ],
      "metadata": {
        "colab": {
          "base_uri": "https://localhost:8080/"
        },
        "id": "14rtT_zm9_sN",
        "outputId": "cbedc687-d927-4646-ce7e-6b41623ed46f"
      },
      "execution_count": null,
      "outputs": [
        {
          "output_type": "stream",
          "name": "stdout",
          "text": [
            "+$$$3\n",
            "$$$$3\n",
            "$$$+3\n",
            "+3$$$\n"
          ]
        }
      ]
    },
    {
      "cell_type": "code",
      "source": [
        "print(f'{3:0>5}')"
      ],
      "metadata": {
        "colab": {
          "base_uri": "https://localhost:8080/"
        },
        "id": "6O-kJ236_DG4",
        "outputId": "6431b3ce-7c2d-4d56-b9c2-45d7709e8cc7"
      },
      "execution_count": null,
      "outputs": [
        {
          "output_type": "stream",
          "name": "stdout",
          "text": [
            "00003\n"
          ]
        }
      ]
    },
    {
      "cell_type": "code",
      "source": [
        "# Разные системы счисления:\n",
        "i = 42\n",
        "\n",
        "print(f'binary: {i:b}; octal: {i:o}; hex: {i:x} or {i:X}')"
      ],
      "metadata": {
        "colab": {
          "base_uri": "https://localhost:8080/"
        },
        "id": "M2ItanAS__EO",
        "outputId": "cb00f861-1c54-463b-e939-f8a002b5d610"
      },
      "execution_count": null,
      "outputs": [
        {
          "output_type": "stream",
          "name": "stdout",
          "text": [
            "binary: 101010; octal: 52; hex: 2a or 2A\n"
          ]
        }
      ]
    },
    {
      "cell_type": "code",
      "source": [
        "print(f'binary: {i:#b}; octal: {i:#o}; hex: {i:#x} or {i:#X}')"
      ],
      "metadata": {
        "colab": {
          "base_uri": "https://localhost:8080/"
        },
        "id": "kZT15HQrAiM_",
        "outputId": "5e090f8a-539e-43ab-bbb1-7bb6e534b906"
      },
      "execution_count": null,
      "outputs": [
        {
          "output_type": "stream",
          "name": "stdout",
          "text": [
            "binary: 0b101010; octal: 0o52; hex: 0x2a or 0X2A\n"
          ]
        }
      ]
    },
    {
      "cell_type": "code",
      "source": [
        "# Точность чисел:\n",
        "\n",
        "n = 1234.5678\n",
        "print(f'{n:.2f}')\n",
        "\n",
        "# width = '10'; precision = '2f'\n",
        "print(f'{n:10.2f}')\n",
        "print(f'{n:#>10.2f}')"
      ],
      "metadata": {
        "colab": {
          "base_uri": "https://localhost:8080/"
        },
        "id": "QSbQp4x9A86U",
        "outputId": "a367f748-7068-41e9-97ac-f5e08355913d"
      },
      "execution_count": null,
      "outputs": [
        {
          "output_type": "stream",
          "name": "stdout",
          "text": [
            "1234.57\n",
            "   1234.57\n",
            "###1234.57\n"
          ]
        }
      ]
    },
    {
      "cell_type": "code",
      "source": [
        "# Экспоненциальный формат:\n",
        "print(f'Экспоненциальный формат: {n:.2e}')\n",
        "\n",
        "# Научный формат:\n",
        "print(f'Научный формат: {n:.2g}')"
      ],
      "metadata": {
        "colab": {
          "base_uri": "https://localhost:8080/"
        },
        "id": "uBFn7P1XBSIp",
        "outputId": "f472dfda-4022-4e83-d825-98242f725776"
      },
      "execution_count": null,
      "outputs": [
        {
          "output_type": "stream",
          "name": "stdout",
          "text": [
            "Экспоненциальный формат: 1.23e+03\n",
            "Научный формат: 1.2e+03\n"
          ]
        }
      ]
    },
    {
      "cell_type": "markdown",
      "source": [
        "Необходимо написать программу, которая будет считывать три числа и выводить их в определенном формате. Первое число целое, второе с плавающей точкой, третье целое неотрицательное. По примерам необходимо определить требуемый формат данных.\n",
        "\n",
        "![image.png](data:image/png;base64,iVBORw0KGgoAAAANSUhEUgAAAwkAAAJsCAYAAAC21e/RAAAAAXNSR0IArs4c6QAAAARnQU1BAACxjwv8YQUAAAAJcEhZcwAADsMAAA7DAcdvqGQAAMWeSURBVHhe7N0HfBRl+gfwJ6RBCCX0DqETOoh0kCJFEKWjYPfPnWc99ezeebY79Synnv1OQRBEmoUiVYr03nvvLQRCSeU/v2dnws5md7ObbCDZ/L585sPs7O7sZnb3fd/nrSE1YuOuCBERERERkamQ+T8REREREZFikEBERERERDYMEoiIiIiIyIZBAhERERER2TBIICIiIiIiGwYJRERERERkwyCBiIiIiIhsGCQQEREREZENgwQiIiIiIrJhkEBERERERDYMEoiIiIiIyIZBAhERERER2TBIICIiIiIiGwYJRERERERkE1IjNu6KuR9QYWHhEhoaLoUKheoWEhJi3kNERERERHlZQFsSEAhERBSRokVLSuHC0RIeHmkECmEMEIiIiIiI8pGABQkICKKiShhBQmEGBURERERE+VhAgoTIyCjdGBwQEREREeV/OQ4SChcuqq0IREREREQUHHIUJKD1ICwswrxFRERERETBINtBAloP2IJARERERBR8shUkWLMYERERERFR8MlWkBAezhmMiIiIiIiCVTaDBHYzIiIiIiIKVn4HCVhJma0IRERERETBy+8gITQ03NwjIiIiIqJg5HeQUKhQqLlHRERERETBiEECERERERHZ+B0kcDwCEREREVFw8ztIICIiIiKi4MYggYiIiIiIbBgkEBERERGRDYMEIiIiIiKyYZBAREREREQ2DBKIiIiIiMiGQQIREREREdkwSCAiIiIiIhsGCUREREREZMMggYiIiIiIbBgkEBERERGRDYMEIiIiIiKyYZBAREREREQ2DBKIiIiIiMiGQQIREREREdkwSCAiIiIiIhsGCUREREREZMMggYiIiIiIbBgkEBERERGRDYMEIiIiIiKyYZBAREREREQ2DBKIiIiIiMiGQQIREREREdkwSCAiIiIiIpuQGrFxV8x9n0RHx5h711atWjXk1r69pHDhSPOIf1JT02T+b4tl9ep15hHKi1q2bCZdbuogYWGhEn82QX78cbocO3bCvJeIiIiIroV8EyR06tRO/vHmy1K8eDHziH+SkpLlgw8+lTFjfzCPUF40YvhgeeKJhyQyMkIOHz4qTz71kmzZst28l4iIiIiuBXY3ojylZs0aEhERbt4iIiIioushX7YkXL58WX6dNV8Szyea97oXEREh3bt3lpiYkmxJyKMGD75N/vTQA9pyEBISIlFRRaRQIUfsypYEIiIiousjX7YkJCenyCwjSPjnW//2uk2c9JNcvHjJfBblRZFGIFesWLRu0dFFMwIEIiIiIrp+WCJzo1SpGGnX7kZtvcAWF1fPvCf/c/3bmjVrbN7jv0Bcp6TkZDl/PjFjQ1B35YpfjVtEREREFGD5srvRuXPn5fkXXpOFC5eY97qHQut7774ulStXdNvdaPy4r6Rhw/oyd+5CeeLPL+gMSg8//KB07tTe1i8ehdYTJ07KhAk/Gs+fkKl1wvm9bd68TYbd8aB5z1V9+vSQl158SmvLLV9/8528994n5q2r78eSmJgof3/1HZk5c655xO6xx0bKA/ePsNW+u57T0rVrR3nwwbskrkE9CQ0NNY864HWmTZ8tn3zyPzlzJt48elWgrpMvOHCZiIiI6PpjS4KhZs3qMmhQP/nvVx/Kzd1vyjRwFn3ly5cvJ4888qD8651XpVKliuY9vkE/+759e9oCBF8ULVpUpwR1B+fEfVl1z8Hjnnv2cX3fjRvFZQoQIDo6WoYO6S+jR3/q8fUgt68TEREREeUNDBIM1apVMQrST0jp0qV0UPRvC36Xz78YJZ9++j+ZMXOOnD2boI9DIbhDhzbyl6cf0cK3r7p06SjNmjYyb/kOr4fnVahQzjxyVYvmTSS2RjXzlmePPjpShg0bIOHhjgL9iZOnZOzYH+Sxx5+Xd/71sa4bkZKSovdVN67Da68+L02aNNTbrnL7OhERERFR3sAgwYDadXRv2bVrj/zxoaeNgvWz8vHHX8onRuH3mWdekaHDHpRFi5ZqdxoUgNEP/5beN5vP9g6F5EED+2krQmLiBS1YZwXdf1auXKv7VapUdDtuoHXrG6RkyRJaWF+yZIV51A7vs3evbvr34b3jb7jrrod0UPf8+Ytk9Ojxcu99j8jLf/2HLlwGVapUknvuGab7rnLzOhERERFR3sEgwXT69JmMmnVXR44cldffeE927tyjt1HwRx9/X6CQbA3oXbd+k+zbe0D3vUlPvyJr123QAMBdlyO8/g03NNOC+PHjJ2X//oPmPXYYB4Faf9i7d7+8+95/9G9xNW3aLPl29PfaooBztrqhuXRo39q81y63rhMRERER5R0MEkzLl6/2WCMPKACjS01qaqrexuDdRo0a6L4nKCTf2q+X/o/WgR9/nC5XjH++QEH76NHjWmh37XKEgdI1alTV/fUbNsvlpCTdd4bHN6hfR/dRs79w4VLZvXuf3nZn3vyFxt94TPcxHWn9BnV131VuXCciIiIiylsYJBiw7sKmzdvMW57t2LE7Y8YeDPbFFKDe3HLLzRJnFrbXrt3ocZYid/A6Gzdt1X3XLkdoWUALA7ovLV60zDxqh/cWFRWl+wg07r33Dtm4YbHHbeqUMVK9uiPwCAsLc/u35dZ1IiIiIqK8hUGCATXtV9LTzVuBgZr8/v37SuHChbW//+Qpv5j3+G7VqrVy6ZK9yxHO27JFEy34Hzp0RLsluYPxClFFHUFCdlSqWMHcuyo3rhMRERER5T0MEgwocIcEeKXf7t06S726tXV/zer1MmfOAt33x7p1m+TYMXuXo+bNmkhFowCPAjvGOBw7dsJ8tB1mGrp44aLuI9DA2gkPP/KMz9sXX47S5zrLjetERERERHkPS3wGzPdf3+y/703durV0fAFgjIG7hccAhfnet9ysMwHFx5+ViRN/NO/xDwYbu3Y56tCxjc6UhNWJf1/svqsR4L1dvOgIEvA+ihWP1sXnfN3cLWAW6OtERERERHkTgwRT6xtbSKtWzc1bmWFhsG5dO2l/fdi376BsMgvwrnr36p4xaHjp0pWy+Pflup8dVpcj9O3HjEONzUHABw4ckhUr1+i+O2hhwDgIwIJreO8YROwJ/r5hQ/vrtKXexhAE8joRERERUd7EIMGElYL/8vSjRuE+86w+KDQ/+8yj0rBhfb2NQbmzZ/+m+64iC0dKv369dPEyTBf6408zzHuyx+pyBLfe2ksHF6enp8vSZSszBgd7MnfeQn0PEBtbXV7527NuAwUce/mlp+SFF56Uzz97Tz766C1tDXEnUNeJiIiIiPIuBgkG9O9HwbtBg7ryzTf/0ULy3XcPMwrlPeWVV56VH374Wrp27aR98vFYTAE6fcZs89l2tWvFSu3aNc3HrfQ6XagvnLscoUUAW0LCOR3nkBW89s8//yppaWmOcQ3NGst3Y7/Uv++5Zx/X7cN//0NGj/pUV0jGYzDIetQ349yOdQjkdSIiIiKivItBggFTe34/YarWuqMv/U2d28tfnn5E3nzjZRk44FYpV7aMPg4FX3TxwWJiWdXinzhxUqZM9X9GI3esLkeWPXv2+dyFCQuojRo9XpKSkvW29fcNHz5Yty5dOkrx4sX0PoyfeP/9T2TW7Pl621VuXCciIiIiynsYJJgO7D8oDzz4mMye85sWhp2h0Hv8+An5+OOv5LHHnnO7arEzPB6Ll61cudY8kjPOXY6wSJm/Yxzef/9TeebZv8nGTVu0VcEVCvLTZ8yR++5/RKZMmWYedS+Q14mIiIiI8qaQGrFxvi0BbIqODp6FscaP+0r7z6OW/YMPPpUxY3/Q4+hbj1l8rMG3p06ddjvbT37k+redO3feCEIcA5w9KYjXiYiIiKggY0uCG5iyE/3pvU0Hml+5/m1ZBQjeBPN1IiIiIirIGCQQEREREZENgwQiIiIiIrJhkEBERERERDYMEoiIiIiIyKZAz25ERERERESZsSWBiIiIiIhsGCQQEREREZENgwQiIiIiIrJhkEBERERERDYMEoiIiIiIyIZBAhERERER2TBIICIiIiIiGwYJRERERERkwyCBiIiIiIhsGCQQEREREZENgwQiIiIiIrJhkEBERERERDYMEoiIiIiIyIZBAhERERER2TBIICIiIiIiGwYJRERERERkwyCBiIiIiIhsGCQQEREREZENgwQiIiIiIrJhkEBERERERDYMEoiIiIiIyIZBAhERERER2TBIICIiIiIiGwYJRERERERkwyCBiIiIiIhsGCQQEREREZENgwQiIiIiIrJhkEBERERERDYMEoiIiIiIyIZBAhERERER2TBIICIiIiIiGwYJRERERERkwyCBiIiIiIhsGCQQEREREZFNSI3YuCvmvk+io2PMvWurVq0acmvfXlK4cKR5xL34swkya9Z82bt3v3mEiCh/6N+/j9SrW9u85V5aWpps2LhFFi1aKhcvXjKPEhERBVa+CRI6dWon/3jzZSlevJh5xLP09HTZsmW7/OeT/8rixcvMo0SU34RFFpdyDQZKmdp9pFB4EfOoe+lpSXL+6Bo5vPYrSU48Zh7NXz54/03p1q2Tecu7c+fOy08/z5SPPvqCwQIRZSho6SblntCSMWVfMfd9EhHh/QuXW6pXryrdu3WWyEjvLQkQEhIi5cqVlfbtW8vhQ0dl95595j1ElF9ElaojdXq8L8UqNJeQ0HC5dHavJJ07JMkXTrjdUi6dlkKhERJZrJKcO7LKPEv+0qtXN6lZs7p5yzukhY0bx0lsbHVtVUhJSTXvIaKCqiCmm5R78mVLQmJiovz735/LkaPHzXsdSpQoJrf0vllat24p4eHhemyPESA8+dRLsns3AwWi/AIZVr2eH4qRe8mRtV/J6V0z5cqVNPPe4OXckrD49+Uybtwk3XfWrFkj6XdrLylfvpzeRvejr776Vj7+z1d6m4gKpoKablLuyZctCZcvJ8nUH6fLwoVLZP/+gxnbjh27Zdq0WXI5KUlatmwmYWGhUqxYtJw8dVrWrNlgnomI8rqqrR6RIqVqybFNY+XktinGkSsSUihcokrV1owwomj5LLfQiGKSlpSgz80vnFsSdu7cI59/8Y0tjcO2fPlqmTN3oTRv1lhbTAsVKqQVJAuM9DAx8YI+l4gKnoKablLuyZctCeiL+/wLr2mQ4E6FCuXkk/+8I3Xq1NLb6Lf74ouv636gxcXVkzJlSpu3RA4ePMxB0ybna5OeliZ79h6QI0eO6u28ICqqiDRq1EAKFy6st08ZwSTGshR0lSpVlJqx1aRQaKje9uW6WM85fORYjr//IYXCpMlgRw36xsnDJD3lkpSs1sHIAB81MrBoPe6rlEtnZN/v/5ALJ7eYR/I255aEuUYg8MSfX9B9dx588C55+E8PSFhYmJw+fUaefe7vGkDkdegeVbVqZfMWf3fOsvPbu9ac0/XLly/Lpk1bC/yYmFKlYqR+/Tr6WwSUUdat26j7nljPOXs2ISCfcUFONyn3BGWQAOPHfSUNG9bXfcx29NTTL2sC/M7br0iTJg31+KpV6+ThR/6SKYH7vwfvloceuk+7LCHzfcEIMJYsWWHe65hpacSIIdqyUbJkCfOoAwZNHzt2XL4bN0l++OFHj4nnM888JncZ5/DF1998J++994l5y34tDh8+qt2p3CUy3h43YvhgeeKJhyQyMkI2b94mw+54UI9748vrIuH7w8h75JZbbs50bdAtYteuvfLJp/+VefMWmUf9k5PrZsHnN3LkvXJT5/YaKFiuXLlifHYn5LPPv5bJk38xj17lXIDzdG7w9jjre5mUlCwffPCpjBn7g3mPnafH+frZO0Om/t67r0vlyhW9/nYGDOgr9917p1SrVkVrpy24LmfOxMv3E6bKqFHjMn2nW7VqLq+/9qLx+6qgNdlvv/OhTJkyzbzXf2GFS0qj/mPlcsIB2Tb9IaPAFCmNBnwnhcIKy4VT2+RKeor5SO9Cw6OkSEytjPPkB/4ECc6/4YSEc/KcESSgi5LrfTn5fe/bd0DeeP0lfU8Y6+Wp+2afPj3kpRefMvKHovr9eOedj2TipJ/Mex3pwj33DJM+RrqA1g+cy2J9v375ZZb87+uxuu9Oly4d5c03XjReI+sCj7u/ORh/e77I6XUDpJMjhg+RIUNuy/T54T39/MtM+eST/2X67Hz9Hnp73LVMd5358rpdu3bUYD2uQT0JNQM7C7pFT5s+2+11QVnkgw/ekAb160pKSor8979jdKKVnCjI6SblnqBcJwGFQGRWgEI7MjZALTYK71aTPAb9DejfV/ctSNQHDrxVAwQUan/++VdbgIAE99NP3pVBA/tlKgQDEngkAE/++U/y1luv6L47lSpWMPeCB7p4jR79qdx55yC31waJaL16teVf77wqzz37uK2A7qucXjcEiEj8b+ndPdPrI+OrWLG8PP/cE3L33cPMo8EPBbj333tD/vbXZ6RGjWq2QgrgupQuXUoe+uN98vln7+nvyxmm7MT9gN9d82ZNdD+7UCMGVl/awiWqakZ3/tg62Tn7Kdk19zmftu0zH5OkxKPG86vpbB/BplTpGCOdclwrFELQihNoKAB+N26inDhxUm/j+zHQSPucoeUWv3l89ijULv59mS1AwG8O3xsUgjGOwrmACdb36+67h8p/Pn5bC07uVDaC0PDwCPNWcMjpb88XOb1uSCdfe+0FefjhB9x+frh/yODb5eWXns5Wmp4f4e9EHoa8rHGjuEwBAiAoGzqkv+aJyBud1a4da3wujrIByhotWjTV/Zxgukm5IeiCBBTKn3ryYa2RgRMnTskip2lQMWZhydIVmpmh1mLw4NtsCS9qS1AjCqgtGzd+su4DMru/PP2IFiQBQQRqPfCYsWN/0HOfOHlKz43EvnOndvp4dwlnkSKOLi6w/8Ah2bBhs22zMuX8AtfmtVefl+rmdUftyOrV6+Tvr74tTz31sraq4NoAEsVhwwbIo4+O1Nv+yMl1Q2EGnwcyY0Ar0ahR4+XhR56RN954Vz9vfHbofnT/fXdKu3Y36uOCGb6byNxRY4bvLP5+XNcvvxqt1+Wzz77W2lIE2ygcNGvWWF79+/O24HfP3v1aawbofrBt+07dz6kQ4x8UCnP8ftJTLur//khLPq//+9vcntdhPQUUzKzPbPmKNbnWzXHlyrUyY8ZcTe/wegiwnX8bqDBpGFdP9/H7G++UZuJ78uwzj2m3Cnx/8D1C68SECVM1zZw6dZocML5v1vcL3f9eeukpt5UrhY3ffmioI8tCy4nrb3/X7r16nvwiEL89X+T0uj30x/ulW1fHe0RN/Lx5CzVNx4ZWEaT1eH9dunQw0s3h5rOCG/Iu5GHWBCnI2/B9fuzx5+Wdf32seR+uCyBPRN5o9WCAw4ePaFcywO8qqxYpfzDdpEDKl0ECCoqPPPygjB3zuW2b+MM38uPUb6Vjx7aaaKEWbPTo8ZoQOkMm5q5mrGfPrtKp09XnYmYRqw89EvQ/P/FQRl9aJLYoAKNZ9M0335N/vvVvee75V+XWW+/Qrhb44XtLOEuUcEToSHTHG68zfMQfbNvGjVv1/vxi2NABUqVKJd3HtXnt9X/Jvfc9IhMn/iSzZs+XV197xwjI7tMMBpkhal7Q9QAtM/7IyXWrXStWihaNkkuXLuvYESTo/3r3Y83oxn8/Rf708F806APU8Pn73vIjzAaGAh++q/jO4rs7ZMh98uGHX+h1QRP40GEP6GxiCAAAzfZ3GBmkBS1tDz30tHz88Zd6Db/7bqJ5D+VE48YNMqVx2ObOmSKv/O1Z/S3gt7R+/Sb5+uvvzGflDlSEWF2MULONAAVQ8Ln11p76e8b3Z+rU6RpUWJBOo8UW8P354otRcmu/OzV9QJr58l//IX36DtPj1vcLj8fzXKGbj9XnG11FXX/7k4y0Jj9NAxuI354vcnLdypYtLdWqVZYLFy5qnvjhR1/I40+8oGk6NgQzSOMRZOA70Llze62MCWb4zHr36qZ/L35/mH74rrse0u/z/PmLtMyBvA/fbSzuCsgb0d3Ogt/SQ3/6i7z/wafy9F/+Ku++9x/zHqK8JV8GCYjeGzSoqxmU84auLNYgVET2zzz7N/l2zAS97QyZGDIzJMyoHelx801y440ttKBrFUKXLl1pazJHf9T69R0roaKAitoed/2ukZC+9fa/ZcGC3/W2u4QTA/es1gUkrhcu+h/pBxISMOdCyD//8Ve5rV9vty0g7mDK2XbtWmVkdgjC3F0bdIl46+2PdNYWiIkpKb2MwMxXOb1u6K89YOA9cmPr7nJLn6GZgkcEhHONICY1NVX/FnQ9y8tw/VATaX1u6LaAvr0IcHzVt2+PjGu6du1G/e7iO+wKfcXR9c4K8BD8OrfAbd22Qz43CnrOBUTKGfT9dk3jsFkzGuE3gH78KLR5mxAgp79vwPlRaWJ9N/CbxzgEpJkVzS6Am7dsz9TNCONV8FvCe0Wa4KnfNY7jfjwOj8fz8HxnVpc2uN5pZl767WUlJ9ft5MnT+v1q36G3tG5zsxaAXc2cOTejVhyt7KiMyavQPW/goH4Zn9tXX34gTzz+R49d3NzB9966pmi9QwHf3e8PPQu+Hf19RktLqxuaS4f2rc17Hb+p//1vrMyZs8A8QpT3BF13I0u5smW0vyASAHcmGxnS1q07dB+ZLgakNW/eWG8fP35Cxn5nH9iEDMsa+HXgwEH59dd5uu8OEvoZRsJpdcGoUqWiEdRcLXCiJSQiwtFHFAnI6dPuB+pdKwiMrAIINiSCr7/+okydMkZbV7KCmj8ruMLA33nzPQ9KRsK4YOHvWhiAOnVq+lzzlBvXDYEAAkBrSzyfmFFrV9rI8PNyoIACBrpnWJ9b9+6d5dlnH5cfp46Ru+4aaj7KsxbNm2S0jCHwnTt3gdtCigWtQJiJA5BJ1q3jCJrp+kCggIIm+qrj8/ckp79vy/QZs2XZspW6j/EHTz/1iPTo0UULQBjnhRYk/P4tTZs2yig0oxCJwqQ3v6C75glHl0Q8D893VjQqytxzdBW8nvLTby/Q1w3dnVDYtdLM6GLRxns7p/ehks7qzpkX4TeDIMb63Fq3vkEeeGCEjB37ubz99itZBnnIqxrUr6P7CNoWLlyaaRC/s3nzFxp5nmOsEKZjr9/A92CEKC/Il0ECZolAM2fjJh1sG2o6Hnn0GVmzZr0WQpFgDR8+SAfVuUJhddKknzVhRiaHQAG1NKgJR/9b1xpR5wGzBw4ctmWG7qCGIT7ekahj0BgGj1lKxZTUTBZQIEXBNLuQaP33q3/Lkt9nZtre+uffMl4nO1Ar9OKLT0mPm7uYR9xzbs7GLB7fj/+vbNyw2OOG2aOQWAO6/zhPIetNIK4bMveR/3eP/Dpzoqxbu0DfKwZLWhv+Xl9mAUENqrtrjq1DhzbmozyLiAjXfq3uno+tbl3H9L3ZgUHjjz36f1kOvkbmbrW8YXwOCjnuPi9r+/TTd7UGFRCslSnr2+dG2YPZjVzTOGz9bhuuLZkoNCLtQn9/jLXxt5uHr79vC9JKzLJjFTTLlCml3xsUljDOCzWnztBVBd9zQI30mrXe16pBy541bgnPw/OdlS1XRv9HSx/ygOwqaL+9QFw3zOKDmvdVK+cZaecP+n6c001frhke4+56Y8PnYX1XvMlpuusJeif06tkty8HXCCKizKALv717773D7edlbQjEscYTII/0p6WJKC8IqpYEZGILFiyRh/70tJFpOWq8kBDf2ren2x8+HnPkqH1GkNTUNG1JcFW69NUf94GDh8w9z7Zv3+UxQQ43EnlrIBn6gmLxt+xCYINCLWopXDcUqK3CuDfoh+9cCPnLM3/TPvsQY2R6w0cM9ppwWiu/Zgfeu68JZ06vG2rAUOv6yCMPGvsV9NplF1o13F1zbMj0s4IMBtfU3fOxWQPivME0jOizbH1u9z/wqH6WKLThez/EZVC+q/Lly/qUMbvjrhBH1wYqINBvHX2grZna0FKJKZndyenv2xnmfre6C1rwfTt+PPOEAc7pQlaVKpaTZkuCK7y/cLMiIi0tXS5fcrT2ZUdB+u0F4rph2mm0yqPm3Ze0zRNcV3fXGxveJz6XrOQ03UWrzVvG78b63Hr2GqyD560uQR06tNbpuz1BEBhV9GrLjL+CcVZDCm5BFSRYNFj4bbGRIDgKkagxswbPOXvwgRFSq6Y9IUdC079/30wzSDh3balW1TGDjzcYH4Eadnecp6RDIIHZPrILLR/o1nT+fOYNBQirW48/0C3gvfc/yRh0hWuE5nFPnIMq1BailcfXDQUWLMbji5xeNwyGRBcGZAZoicAgsxdefM32fjDLkdVNzBsMfnZ3zbEhI8oKChP4nrp7PjZrZgx/oPULA8St5m3ULKMfrCco2CUnO14HtcMYaOd8LbLa3I07oWsHNfeYWQqQbjXwsWucv79vZ8PvHCwtW9qna0RFBMZ1YRyBM+d0wddWDqvW2xW6sFjpaUpKco6mey1Iv72cXjfMXDVwgGNKcOQlmIXn/fc/zfR+duzYbT7DM1xXd9cbGz4PfC5ZyWm66wo9CnDt0W0IEOC1bdNK991B693FC45xHXgvWDvB9Vp42774cpQ+lyi/CMogAZKSk41EzZHoIIGLjIzUfQv64lr9aVFg/ODfn2Wsp4A5jO91mokAnPtyoktNVpkeBtnGxDjWCnBNnNG9xqpFio8/qwlkdqGG7oEHH5d27Xtl2rACq1XT6C8U3E+ZTf9IOL31M0WBHU3ZgH78mN4Ns3P4smFmHNeFZjzJyXVD0NasmSNAQGby8X++0tmNMCDQ+f0kJKD1J+sarfHfT3Z7zbEtdppy1xMUED766Au3z8fmS6brDjLx/fsP6j6+85WM76onzuMv0O0rLCzUdi2y2nJrys0r6e5nWrli/CO7FCOdszj3Pc+KP79vC2qSBw26uoYMBrFithxAqwEG7jq3SNjShdKl9Pne4H6MJQP8PtBFyeLc1RC/+wQzwMmOgvTby+l1a9u2VcZn+ttvi+W++x/RgdTO72XHjl1GuqoP8QrX1d31xobPwwqavMlpuuvJps1bM76ryN89QV510Rz8jcC8WPFo27XIagvkVKeumG5SbgjaICEurr6R+TkCA9f+6yjgI0OzBtuioIqZOyZP+UULkKgZ69Wrm20KTGSGVoEbAYC3AX9IVDFFmtW3/dCho7J169XEATMzobCKmpPsZki5DQVyZF6Q1SDhNavXZxT0MZNK717ddd8TXFdMm+jvoOCcXDfUphUp4sjs0MK0d6/7VogWLZtm/N35Eb57Vt/lrPogo9UHK2ADCop9brk624o7mAFkyJDbdSYwb4/LqdTLZyU1yTEQkjxDobpyZce0w+DPoFR/ft8WTOFozWSESR/GfjdJC22Y8hgwNeTtt/fRfXBOF8qVKyN9+/TQfU9wPx4HeB6mdrVgwKf1fjG4OVBrcQRSXvzt5fS6OS+KiTUc3FXMYP0Ga+2g/ApdXq1xddb32R1UymEmKkA5AetHeOtWhh4Jw4b2199Gbo9HYLpJuSEogwTMLoE5+FGghH37DtoGzaHJ3Op+hCZxLNGOxA8Lfm3cuEWPI7G/2ziPlSBjRp5t2xwJLGoQMPgWCxq5wuMxoxKmPQXUuGE6VKtPLjJRq0btrJEYrd9wNSPMK/A3DDUypAoVHAk/Ch87du7SfXdwbZcvX6OFd/Tzx/XH6qruIKPDwjJvvvGyjB71qQZrvsjpdUOGfemSI4NDv1asEuwKAzgR/Fnfm/zo/vtHSE2zCx2a4LeZM3h5Mnv2bxkZf4sWTeSN119ym5k1MX4vf//7czqw779ffaifnzMUYv4w8p5MXU6y68DSdyX5kvv+6X4J0ko0FEyQzqBvO2Ae+w1m2pUVf3/fgMkfOpnrz6CyBGkmumpgljd01cBvH4VdnNcqNDmnCyhQIb18+E8P6H2usJYM7sfj8Hh037GmKMb5sIAbCnHo8rJ23Ua3hdXr7Xr99jwJxHWzZlSCOnVqZQpQUAi+a8SQjAqx/AgDnm/ufpPu4zpt3uJYK8cTTJNtBeSoMMSaJe4CBRx7+aWn5IUXntSxcB999JatBwKu3f33D9eZsQKF6SYFmiN0zmdQyEP/chRKnIUUCpEqlStp7YdV0EO/2++/n6L7gIje0+I/SEBRM4ZpOdHK0LRpQw0oMJMI7hv97ffaLI9ZPXA/ltLHsuvInNONc6HGBs2zmCkJr4/Mbv78xdo8i8LnvffcIXWNwqnVZSYtNU0L0+4K1M6JSdeunaRli6Zy/MRJI6H50jwaONY86pYKFctL2TKl9W/ANcLfgGnenGstXY0ZO0GaGNcLq0tqoPTEH2XAgL6yYsUaralEFwXUOKErl1UQwCI0aL3xJpDXDWMYMO0g3st9990pMaVKyrJlq/S7cJMR1PXo0UU/Q2QUeI95HQJZFBzwfgFdOlCjl1HQWrVW14bw1mKDee3btmulmSSehwzrhhuaydJlK+WMWbtcq1asdtVCIRAw6BXfaQt+U2++8ZK+Plrt3v/gsxwvqHbu6CrdnFkrifol/8Z7Yi2m5qpo0aK6wBW+x4DPGuu6zJ49X2+7yunvG4UdFP7x+VtpmvNMRkgzW7ZsooUeFJqQZqJ/PiBdwN+BdBPPH2mk2WildU4XUDuOFfKt3xwqatAdEOd64vE/GAXophk12snJyTp+wt11wYBSzIMP1t+M18BCcN6mrM6OvPLbcyeQ1w3d0rAuAz6ntm1ukHfe/rv8+OMMnTQCFS0I7JCm5pc001onobcRPAG6heF6WXnLwUNHsly3AD0P0E31rruGaN6BfO27sV/KipVr5LDxfMDEGC1bNssYD4JyyKhvxmVUFuI39d67r2tQid/gt99OCMiCakw3KdDyZUsCEix3i6k1bhSniXdGgBB/Vt5//xNdGRJQeEUtNxJ0QJM51ktw5lwzhtcZOPDWjIQeA12R+VmrNSOBsFbAHD58sNZ2o28uXh+J5vLlq3WJdgQYyJRRE2MlRoBgw/VvsDYEGhYUvHEsrkE9DZACzXUedfQLtgoQuB6ffvY/85Geoa/lCy+8ltENCBkGCgZoOcC1wf+YAg/HcW0WLFyScW28CeR1++zzbzJmdcFsGKgBw/R9H/77HxrQ4Psxe85vOoNLfoD36zxXO/rSWoUUZFjvvvuJ+UjvXn75TZkxY45+3oCCBbqM4XPD1sYoHDgXUt78x/u2hehqGpmsVZOIx7nOb0/Zg++y9dk6byhgIG0CX35LOf19o9CPghQcPXpMgwJn+C6g0ITz4bzdb74po3YU6cKLL73hNV3Abet7i9bat97+UFsptMWvXh1blxd8v5DmOv891ob573EesP7mRkaegDQk0PLKb8+dQF637ydM0RkD8Xchv8O6CO+++5qmm489NlIDBFS+oLuuFTDlZfg7nddJwFg1K29Bvv7uu//xadwACvSjRo/PGCyN7wMqmqzPDV1qMwIEl3IIICC3pv52BBpMMylvypdBgjdIbBGtT5gwVQdZOc8CMXjwbRkzTjg3mbtCJojMEFAjcM/dwzQRAAQKI//wZz2vu1lwkFDinJg95PEnnnd7/rwOszagBulvr7ylg5+zKshbkHn938gntBbZuZnagmuDDOXvr74tjz767DW/Nnh/zxl/j7WOhjN0R/r66+80017t5v78ABmWtQLoY4895/P1xeeLzxkBMD4fd387Pk98riPu+mOmAYKYYSfhnKMvLH5X1oJbgZKe6vj+FQr3vS+2JTTcEbykpVzfFXoDDd2LEMz+9W//9Pu35M/v23mCB9QuT5z4s9tCqvPilJhWFQG41XXGShdGjRqv3TRQ4HSG2zg+evT38oc/PpllITgvul6/vdyG9/fa6/+SCT9MzRhobcH3Ae/niT+/oP9768ufV6G8cOrUGW3VQb6O/N1XmOXpmWf/Jhs3bckI8pzh2k03AkDXcghgcg+rshHXES3agcZ0kwIhpEZsnF+9z6Kjc3fwTX6DpkarxgBQ2+Nu5gn0vX/iiYd0PAPm0x52x4PmPd6h5garQeM1MDf3k0+9lKszJAQSWmCs2hJ0x9qz94DfgUFuXTfUjForniLzQ6HJW2GpIEG3kZqx1aRQqGMdCayWm9V3znrOmfizAf9+FgqNkIa3fyuhEdFy4eQWo1CZOUN2JzS8qBSJqSmXz+6TbTMeNo/S9eacLoCn7xcehy4ZqKVHEP/8C6/pDDG+GD/uK605R+H9gw8+1Qqh/CA7vz1XuXXdEPRh4T4d45DN9DxYOV8bwHXPqkXaeg7yndxovWa6SYEQdC0J1xp+3M5TnOXWtJD5ETI367qgf25eylDwOVnvDf2jGSBchc8Jn5d1fXwppFjPCXSAAOlpybJr3guSmpQgRcvGSXS5xj5tmtElHJA9C14xz0R5gXO64Ov3q6DIzm/vWsGMU+iPj/eV19Lz68352mDzpdBvPSc3AgRgukmBwCCBiPK8S/G7ZdPkO2XduD5+bdumPyTJFzOvBkxEFOyYblJOMUggIiIiIiKb0JIxZf1qU4qI8H8QDImER0TIhcQLsnnzVp2v2nmhIG+wEmdqapouxobnoWkyu6so50e8bkQFE2Z9wYC5nTt362DmVavX6kwxvigaHaVdCjds2CIrV63LmIiiIOB1I6JA4cBlIiIiIiKyYXcjIiIiIiKyYZBAREREREQ2DBKIiIiIiMiGQQIREREREdkwSCAiIiIiIhsGCUREREREZMMggYiIiIiIbBgkEBERERGRDYMEIiIiIiKyYZBAREREREQ2DBKIiIiIiMiGQQIREREREdkwSCAiIiIiIhsGCUREREREZMMggYiIiIiIbBgkEBERERGRDYMEIiIiIiKyYZBAREREREQ2DBKIiIiIiMgmpEZs3BVz3yfR0THm3vVTokSM1K/fSC5duiRbtqyT1NRU857MQkJCpGrVWGnUsJk+D44dPyJr1y6Xs2fP6O2slCxZSpo3by01qteS4iVKSvyZ07Jv3y5ZtXqJXLx4wXwUEVHeExVV1Ej/mkuNGrUkNDRMkpKTZOvWDbJ9+2ZJT08zH5W1YD1PhQqVpWFcMylXroLejjfyhXXrVsixY4f1tq9yep7ChYvo3wObNq+Vy5cv6b4nOX298PBwadyohdSr10jKlq0gly5flOPGc1es/N3vv52IglO+DBLq1W0o/foNk4Rz8TJ27Bdy4UKieY9dmTLlpG+fwVKpUhXjVojjoOnKlSuy2UiIZ83+2WNijACjW7c+0rJFG82EXCUnJ8uChb/KqlVL9HxERHkF0q92bbtI27Y3SUREhHn0qsTEczJt+iTZvXu7ecS9YD0Pgoy+fQZJrVr19Zx2V+TAgb0y9cfxej5vAnWesmXKy/ARI3V/7Jgv5OSp47rvKhCvV6dOA7ml90ApWjTaPHIV8rIdOzbrNcwqUCGi4BZaMqbsK+a+TyIiiph7109tI3GsXbueXLx0UTZuXC0pKcnmPVdVrFhFhg65VwMFPG7NmuUye87Psn37JqPAHyqlSpXRmhhsOJaenm4+0wGJb+9e/aVlyzaaaO7avU1mzJgsy5cvkkOH9mnrQokSJSW2Rm1JMYKFw4cPmM8kIrq+kH717Hm7tGndSdO7g0aa9dtvM2Xx7/PkzJlTmv4VL15S6tZpKGfiT8mpUyfMZ9oF63mKFSsudwx7QFuZU1JStMJo9uyfZcOG1ZJs5CdlylTQc9WsVVd27twiyclJ5jPtAnUeqFqlhsQ1aKqtIBuN57trpQ7E69Wv31j63TpUihQpLCdOHpd586fLwgWztBUGlWGlS5fVloXy5SvJtu0bM+WNRFRw5IsgAd2EmjVrJdWq1ZS4uCbSokUbCQ+PMAr/F9wGCWi2HdB/uCZ2qI1Ba8PWbRu0ZiU+/rRs27ZRC/VISNFUW6RIUdm1a5v5bIcGDZpIh/bdJC0tTeYYwcW8edMl4dxZTbhPGgnreiNRLlashBGMVJaYmNIaaHjLAIiIrhV0j+zQvouxd0UWLZoj06dPMgqEx7TV9fCRA7Ju/QpNV5F+Va1aQ/bu2+W2RTYYz4NAA4Vk5CeJieflh4mjZNXqpZq+Y0MLxI6dm6VGjdpayYQafneF5ZyeB/lUs6Y3SvUatbRmv3XrjtpKkJKa4jZICMT7RpBxa98hxv/FZNPmdTJx4mg5evSwvhbOgXzsrJFH1qxZTyvCTp85qfkdERVM+WLgcoXylaRTxx7S5aZeckPLdhJlFOq9adbsRilfvqJcuJgo06ZNlISEePOeqzCmAAX/1NQ0iTMCgipVqpv3iISFhUmrG9obgUiYrF233NhWmPdchdqeZcsXaGJdsmSMtm4QEQVaoUKhWuFRvHgJ84h36ELSqlV7fd7GjWtlydL5mbpDohYaLaOHDx+U6Oji0q7tTVoIdRas56lbJ84oSNfRx6J1+dCh/eY9V6EFYtr0idrdBoVyVBq5yul5ihnvr0PHbpqvtW3TWYMbbwLxvps2aWV8l8rIsWNHZNasn/RcrrZs3SAHD+7VfBBj+Yio4MoXQQIGGi9cNEvm/zZTt3XrV2oNvzuOwV/NjIyhkGzZsl6OHDlo3pMZmlcxQAvPQeuEpUyZ8kYGU0zi48/ImjXLzKOZoXkbLRN4rfIVKptHiYgCp3SpMnLXXX/UWmRf1K/XWJ+DllNUZLgWpC0oIK5c9btO/BAbW0fQRdNZMJ4HAQMqkTBo98CBPdqq7AkK4ehmisJy82at9X9LIM5z3vg7Fi+am5GvLVu2UMe5uROI10NXIlSGXb58WVavXupxvAGu637jNaBEyVJZVsoRUfDKF0ECWgIwFmDp0t90271rm8d+khhjUKJEKU0AESR4g0xk8+Z1RqKYrs+zBnEhcPjk07fl08/e0SDAEySmVkZVqFC+uJREFORq1aqrFRcHD+6T06dPmkfd27Nnh5w5c1KKFCmifeKdBeN50IUGXUxRybTZyB88BRqWTZvWasEd/fxLlSprHg3MeZBHYYY8K19D19nUtMw1+xCI10tLS5Xx3/9P3nv/77J+wyo95km6WQmH4CSkkOvgaCIqKIKuZIvCfmRkpAYWngatOcPAN9SsFIsuoYO1/IGgIkoDiyty4vhRx0EiouukaNFiEhNTxihEpmuXyqygoIquJ0ZxUKpXr+k4aAjW85QvV9EIHKLk4sVEOXw4c3cdV8eNdP38+QQNNipXqmoeDdx5fHWtX69M2fL6f+L5c27HhhBRwRB0QQJqTgAJZFLSZd335sKF8zp2ISIiXGJKljKP+qZmzbpSskQpXa/hyFHP3ZqIiK6FKKMgWSQqSpKTU3TefF+cOOGo4MBEDJGRhXU/WM+DmY/CwsJ1oK672YNcaf5gbGjBcG5JCNR5fHUtXw+tFlgTCJVfmE6ViAqu4AsSYkrr/4k+1n4gkEhOStLEFDMm+QqzRGCu7rCwUJ0R4ujRQ+Y9RETXBypJwsMiJC09VS4knjePeocpotGNJTQsLKP/erCex6ohR7rvSyUSWDXpkYUdgQYE6jy+ulavh+5F7dt11UDh5KkTsn7DSvMeIiqICnxHeoxLSE113w/UEwQIA/qPMKdYPSGLFs/Jso8oEVFWunTprfPgO2+9et0uEeGRUrpMuUz3YcP0mTmRkpzkcYyXP4L1PFjJORACdR5f+ft6CBC6d+8rjRs31/EMmGL2/HnvC8ARUXDjaFs/IUAYOuQ+qVy5mq7BMGHCN0xIiSgg0H8cM/I4b1g4CzXhRaOiM92HLaako/WUKLsQIGCROkwxjmnBZ8yY5HUGJSIqGIIuSLAWNCsU4tufhundikT5NsUb5rEeNuwBKVeuos6uMWXKWLdrMBARZceYsV/Im/94zrZ9+eX7unAkpr50vQ/bipWLzWc7ao9Rex6Cfz7OuIY++1gTxlnQnueyo6uOztpjbL4o6Wb9gkCdx1e5+XpYd+KW3gOlRfMbdfrYuXN/0RmUiIh8S23zkXNmrX5MTCmfEtOw8HAJDwvXLkfnzp01j2aGFSyHDb1fV7HEgDhMJefL7ElERNcKJmzANJqYT98an5UVDAg2ip9yyWlQbLCex1Gpc0WioqJ1ywpacCIiInUf6+JYAnUeX+XW6+F69u07SJo2bSlJSUkyfcYkt4uHElHBFHRBwvFjh3WaPNQiYcsKBsQVKVJUa1DOeFgTAS0HQwbfq2MQDh8+IN9P+JotCESU52AFeExbiZlwypbzbUrniuZCkFg80hpbFaznOXX6hFEYTtbpq7FSflYc+UhxrUQ665Q/BOo8vsqN10OA0K/fMF18FIO8f/r5+yzXFiKigiXogoQDB/fqrA5Ykh+rS2YFg/6wrgIWTcPiO66wWufQIffqbA849w8TR3EMAhHlSZj5BukUxNaoozXK3qDiA2vLYBagfft3m0eD9zxYKDMh4YwULlxYz5OVmrF1dfV9BClHnGawC9R5fBXo10OAMHDAXVKvbpxcuHhBpk4dJzt3bjXvJSJyCLogAU2rWEgGmUizpq28ZiYo+NepjZlBrsiuXdsEMx05Q5AxeNA9WiuDBXwmThzt0xzVRETXy+7d23V2mvLlK0mtmvXMo+41jGumhUl0tdy/375IWTCeB4us7T+wx9gLkbiGTbVm3hMUpBs1ai6YHvvQ4f227qiBOo+vAvl6hQsX0XwN6/wkJibKpEnf+rRAHREVPEEXJKBZGQP5UPNUrVqstLqhvXmPHcYrWPNBnzp9UtauW27e41CjRm0ZOPAuI6OJ1iX+0YKAhJqI6FpKSr5sFHT3yOEjvi3YuHfvTi0Yo7DYqXMP7XbiTqVKVaV5i9aaZqIfumsLabCeZ82aZcaxBClTuqx07tRD8wJ3bmzV0ThXFV2UbMWKq4PDLYE6j68C8XpRUUVl0KC7NX/DuZCvHTqU9QrORFQwhZaMKfuKue+TiIgi5t71U6Z0OalXr5EGAhs3rpaUlGTzHoezZ8/oTERIKKtUqSGhhUI1IUSmAahJuaV3f2ncuIWORZg952fbYmgIHAYZAUKx6OLaBDtl6lh9HBHRtYYBpZiO0p/aXkyqULdunE6PWr1aTe1ygkKjpVatenL7bcMkumgxPS9mtMHsQa6C8TyXLl0UzJJUo0YtbZUoUbykHDy4L6MlGbP93NS5p7Rt21lvL1ky3+10oIE6jwVT3DZp0lL3N25YnanVOhCvd1u/YdqCgNaFCT+MkuPHj5j3EBFlFlIjNs5RcvZRdHT2p3ELlHp1G+qAq4Rz8TJ27BdGJpF5dWUkmL163iZNm7bSGhe0AiCDweqTmB0jNDRMC/6//TZTVq763XyWA2YwGj5ipE6P6itMT4jpC4mI8gJ0l+x/+53aXTI9PU0SEs46aqKN9C3KnPkHEzFMnjLGOO55nFUwngd5Qts2N0nHjt0y8oJTp47rfTgPWitw7tVrlsmcOb9kVDC5CtR5wMp3YOyYL3QdHlc5fb0Rw0dKNSO48hWm3vX0Xogo+AVlSwIgcdy1e5ucTYiX8uUqav/U4sVLam0NEtojRw7KpMljZMfOLeYzrrJqdMLDI8wjWcNsRxuM90JElBecO5cgW7ZskBIlSkpMTGntx44WVqRraJ1YsnS+TJs2SdNRb4L1PAcP7ZMjRjBRvnxF7bqEoAP/h4YW0hmRfvxxnBa2sxKo82TVkmDJyevh/LhWvkpJTfH6XogouOXLloTsiIwsLMVR83QlXZta2X2IiAoKVIygG2VYaJiOcUBBOzuC9TyogUclEhbhPHc+IcsAw5NAncdX1/r1iKhgKTBBAhERERER+SboZjciIiIiIqKcYZBAREREREQ2DBKIiIiIiMiGQQIREREREdkwSCAiIiIiIhsGCUREREREZMMggYiIiIiIbBgkEBERERGRDYMEIiIiIiKyYZBAREREREQ2DBKIiIiIiMiGQQIREREREdkwSCAiIiIiIhsGCUREREREZMMggYiIiIiIbBgkEBERERGRDYMEIiIiIiKyCakRG3fF3PdJdHSMuXf9lCxZSpo3by1Vq9SQmFKl5VzCWTly5KAsX7FIzp49Yz7KPzVq1JaKFavI0aOHZN++XebRrIWHh0vDuGZSJKqo3vb2/MKFi0ijhs11f9PmtXL58iXdd2a9D1/gb926dYN5y65QoVCpV6+hNGjQRMqXq2i8zwg5c+akHDau09q1y326TtZ1rlG9lhQvUVLiz5zWv23V6iVy8eIF81G+qVmzrpQvX0mSki7Lpk1rJTk5ybwnM+s6hUdEmEc8S09Pk23bNklCQrx55KqQkBCpWjVWmje7UcqVryhFCkfJqVPHZdeubbJ23XJJSUkxH5lZoD4HopzC9zjO+B0XLVpMtm7bIOfPnzPvEYky0h2kP5eTLsnmzev195CVQJ/P23PwG8Jv6dCh/XLw4F7zqHd5/XwxMaWlbt2GEh9/Wnbs2GwedUA6V85Ib3ft2mqkNSfMo5nl1zyMiAqWfBUkIDHr3v1WadK4hYSGhplHr0Liv2HDapk952evBUB3brlloDRr2krWrV8p06dPMo9mrX27rtKpU3cj43U0ynh7ftky5WX4iJG6P3bMF3LSKLC6st6HLw4c2CNjxn5h3rqqfr1G0rPn7UYhINo8YnflyhXN3KYZ79NdoIJCRLdufaRlizZur3NycrIsWPirrFq1RM+VFWRcgwfdY7yforJw4Rz5fck88x73rOsUVcSRaXmDz/mnn8bLdpfMukyZctK3z2CpVAkF/RDHQScXL12QefOm6/fFnUB8DkSBULx4SRkx3JFu4Ht27txZ3YdGjVpIH+O7it/zlKnfmUe9C/T5vD2n/+13aoEaac2mTWvMo97l9fN17NhdOnboLosWz5FFi+aYR0XCwsKM6/oHKVWqjHw/4Ws5fPiAec9V+T0PI6KCJd90N0ICPKD/CGnezFFw27Fzi4wZ87l8+eX7Mv77/8nefbs0kWtm3H+zkQijoOsrPDamZCnzlu9Q+G3Zsq2xFyKpqamOg14g8wgP8147XiqmtP6/bdtGmf/bTK/b6jXL9LHOWt3QXm69dagGCKhd/+23X+Wr//5br9OPP46TA2ZtWT0jkEAGiUzLGa5F71795cZW7fW283XG848dOywREeHSrestxmM66GO8wflv6tzTCC6LGYXpvbJi5SLzHs+s65SYeF4WL57r9m+3toWLZsmx40fMZzqgJm/Y0PuNAKGqEQxclCVL5mdcg19//VFr6hCA9Lj5Nqlfv7H5LLucfg5EgYLvs/V7Pn8+wTzqgFbC0NBQOWr8Ln0V6PNVqVLdeE4hrQl3FhlZWH/LaDU8ceKoeTRref18qP1HAf7EcftzihUrYWzF5cKFRCONydyyGQx5GBEVLPkmSGjcuKXExtbWQt/kKWNl4sTRWuBFbfyePTtk3LivjALxTElPT5e4uGbGY+uYz3QPTbNt296k2+BBd2tG4g8k+J079dDCL5qWN29ea95zFbrN3NCynb5Gly69pXv3vpkK5c5wzrCwcM2ANm9eJ0uX/uZ1c+3igsy/bdvOxmuEac36F1++J0uWztcMENdp85b1minNnDlFWwNwPTsZf4MzFJobNmxu3J8is2b9ZLvOeP43oz6R9etXS6FChaRFizaaKXrTonkbqV69phb4582f4VPtWHhEpJ4f3aMWLprt9m+3tuXLF9m6GiGz7NzpZq0tRU3ef43g4LcFv2Zcg9VrlsqXX70ve/fuNIKdCOnQvqt+Ts5y+jkQBRJaxdBd8NixI7aWO3zX0VKWlJSkwbuvAnk+PKescb6kpGQ57lLQLlEiRn+HaKlw1x3Qnbx+PnTRQjBw+fJFOXHymHnUAQFWkSJREh9/yggUzptHr8qPeRgRFWz5IkhAIQ5dX5DgL1u2UHbu3GreY7dy1e+a8aHwhyZkb+LimkqXm3rpVrt2A3HX9OtNyxZtjUS6ltbEofDrrtNNseji0qFjN32Ntm06a6bkDWq2IiIjjb0rkmZkFP5q2vQGI8EvLqdOn9RAwFOBfO26FdonH9A3GX1sAZkGWiIQZOB+PM4VmsOXLV+ghf6SJWOkdq365j2ZIWhp3bqj7q9cuVj7uvoiyshoUZuJzNJfyFirV6+tmfSvs3609be24Log+EBXK/ztVarUMO9xyOnnQBRIFStUlrS0tEyFXEfNdQm5dOmCEVCfMo9mLZDn8/Yc/P4jjIAfxzEWyRd5/XxI89AKg3TFtRWmbLkKWrngrhUmv+ZhRFSw5YsgAYW5//7vQ/nPJ2/LihWLzaOZobnUqt0pU7qs/u/Jli3rbV1GfB20BqWNc994o6OrDd7PaaNQ7s75xHOyeNHV7jLIHFCD7wkyEtREpaSmSIKfg9dQsK1WNVb3UbONJm9vNm5cIxcvXtTXQw0YlClTXmuV4uPPyBovXWiQqWLQHprGyxsFDncQcHTt0luDlv379+hgZ1+VMj+7sz7W7jlDjdy/P3xN/vf1R15rQ9HlKNEIJFCjanUtsuTkcyAKJG9dYnC8SJGiWshzLbB6EujzeXtOdrou5fXzlStbwbiGkToo2bV7DoKvVCPNOHnC3sIA+TUPI6KCLV/ObuQNBqs2adJSZ2f4btxX5tGs+TroCzVBgwbeJXXqxGmBdOKk0Zqw+/L8rAYuo2Zr+J3/pxkNBhSiIO4r1IhjMCIKtz/99L1s277JvMc91IYNNx5fpnQ5mTPnF1mx0nPG5Q5eq1q1mh7/3tY3dpQuXXrpLEjjv//arz6/1meIrkRz500zjwYWug3gbyhduozMmvWzLYjJyedAlFONG7eQrl1v0bSmkBGIo2B/5Uq6oBvQFaf63tBCoVpgTUlJNQJaR+XDaaPwOnHSt3Lp0kW9DYE+32233aHdZiAsNExr49E6Zz3HgnFFaJXE66SZMwqtX79K5s+fofuWvHw+XKtBg+6WsmXL623Hc8I1yEpNswcJkcbrYFY5tEqkG9cXlxbnWr9hlfkI3+TlPIyICpZ8MybBF6gBrlChku4fPLRP/w+0Ro2aGxlQXe1us2DhLE1cAwUDz9BcnWRkQMiE0N+/RfPWckvvAbph39MYAPThLxQaamT+jtmLchMCjChjQy7oOngPUMi2uhlhUG9hI6Nt3bqTjncoXryEHvcGTfqAmj9kuuh7ixlFBgwYof/jNo7nRPnyFbUbwuXLl+XoMXs3qJx8DkQ5VblydSkaZfzGihTVNE0L98b3HRUAOGZtKMAaRT4ttFrHUEB1LtBDIM+HY+XKVci4HwVwcH6OtTnGX4XoeXG7iPHaZ10CbhzPy+dDyyrGcNifI3pe65i1obsPri2usXU7wWnmKF/k9zyMiIJL0LQkINPDrDxNm7Y0CpfntAbGnyZUX2pRMLf1nXc8KCVKlMw0lWcgWhIwn3+vXrdrn9RzRgG5bp04zXScIQDYvXub/DJtom2tgqstA2Vl7tzpOt+2N1bLQ5RRePBn+j9AzWTvXgMkJSVZp/pznjXEuZYKtZWOY/ZYNDHxnJE5zZYNG1ZlCmiQYTtq+MvqtWxQH/O5Z57KFd2p5v82w+MUpt5gbMiQIffq57Fz5xatKXV+Hzn5HIgCKSfTbboTyPN5e07lytVk6JD7tGvimLGf+1QQzevnC/TUsa7yQx5GRAVLvmxJQOLfpMkNGTM7YNagh/74tCaumDli5q9TA97HEoVEzCeNRNbXqTz9hf7xKFBjWrp6dRtqLbY1BScydSuTwyA1JPTOtdk67Z7WgoXo9Ka4Rt7UjK2rtWQXLyYa591vHs0aXrNd2y7G+UNl+/ZNmQYjW7VUgGt27lyCrFu3QmusMOUf3ifGKaBGHhmia4sA3neosaEmHzNDYSGkkyePy9JlC/Q6ILDAGgcIHPD8Nm06m890DwEBWjWs78qA/sPlwQce1wAB1xPfFddAJSefA1Egeern7hiQ63m6TU8CeT5vz/HWd9+TvH4+BBuBGt8QrHkYEQWXfBkkoLa5TZtOGTM7YL5+FAYTExNl6pTvPM4ckRPoKoPZJDAADQVeTzMH5YQ1YBfdeFCg/s8nb+lUeZhmE7V+o0Z/IlOM2ygko0tPt659NOG3oD8t3hemMWx9Yyfbfc5Q+G3fvqsWhPcf2ONzn3tkuJjnG7X8J43MFQVm5wI2msoxOxIyQLzHyZPH6t8wfcZk+f33eTrl30cf/0ML/GhlwGxMmPXJGc6BbhCAc+DvxZSl6NuL64Ca+88++5deH2TK7YwM1tvUfxXKV5JOHXtkfFfwOeL7s2//bvlh4iitsXOV08+BKBDQZaWEUaBLTknOVGAsXbqc/lZQWHU33aY7gT6f9Rw83vU5mNAAvwl/pmbN6+fD+K3IyAg5feZUpooFdF9Ey6q3VZadBWseRkTBJV8GCaj5OXhwn851jw0DvFBbhJrxoUPv05ruQBbaUDju0KGbYJAbVhnGEv65AYPs4PDhg7pwGRJzVxiQjFmSUMjGdJ8o8FtQoMVc1xif0KnTzbrKMQr0FkfG1FmvEa4V+htjliNf4BqgeR7N9OgmNWHCN5kK2DVr1tUZkpD5YNEyd4OnMYUqCvwrjeuIz6hlyza294h+vBhcic947txpbs+B6zLDCDww1SsKAVivwRPMMIXvh/VdwWeHmtQa1WvJA/c/5jbAyOnnQBQI0cZvLrpoMU3bsDmz1jo442OAD4E+n/Uc/A6d4XeNtQmQDvgzQ1leP18FI7AA13FY1toJCL6wRoIvgjUPI6Lgki+DBBRuUUgcN/6/uqHv5ocfvaEr6yJhxRLzzZrdaD4659q376aZCvqo+zsLkD+werC1+qa3Wh4EAmg+L1KkiK7+aUHt1oyZU4z3+LsWxmvXri9/GPmUvPD8P3V76slXdFpS1CjC1m0bNYPKCmq4hg17QGvNUQOJWnR3iw9hQDFaEY4cOaDdc7xBFyQMnEO3IWvqVkAmO/rbT7X1YNMmz4v7IEPdsnm9sXdFM2934xYA4yXQYmB9V3Duj//zT13ECBk7Vp12DlIgp58DUSDg94YBspiGF61WzlCrjQD1uD/Tdwb4fOi65O45GOeEDcH16dO+1axDXj4f0jUEHViU7ZTLc5D2oFtk4vlzmqb5IljzMCIKLqElY8q+Yu77JCLCvjptXoKuMyWKx2itbnGjAIh5pNNcpqnzBANtUdg8dvyIrakXxzt1vFlrflAAP+Uy2Nji6fnOMMMIpraDjRtWZxrwiqn4cCyr94w+8vXrNTIK76V0YK3r62Faux3bN2ste+HChXV6P8z5jwwM3QlQ84V1AtANyF0tuTNkjEMG36v/YxrTCT9847Z7EjK2Nq07akCxcdMaXRvBG8yYUqdOA+0fi9r+Xbu26XEsoIb7snpfgG5JuO7odrRt60afBxCj4I/gCAvB4fXTUtNswVKgPgcif6AgigGwaJGrWrWG1DGCfASwCESLFS+hx6ytTu0GWuDHbxqFf7SI4Tfj/BsI9Pnw227WrJVOfYxV1FEJgdl+rOdY56pRvbZWGKD7DX7PlY1zYcYhVDBgETdLXj8fnoNxA3hOzdg6UgPTql65YlyXi0YeUzXjfLVq1ZNKxm1cqzDj9XAsJqaUdj1y7ZaUlbyehxFRwRJ06ySg0Nav31Bt+nU3g5AnnmZ2wMBUZCgXLia6ne7TgtmCUOBE4RuF6MtJl2Xu3F904K4lq9mN/DFwwAgdoOzPTBTIeNAFCcHDjJmTs+xqhEwSMxXh78Jg3clTxrjtww+oTfN33YWs1lrIStWqsUYAc48GQdm5ntZ85AeMjBmzlWRHdj4HIndQgB8x4g9ameAvBLaTJn+r3VYsgT4fJhLo0eNWY8//bjDHjYInfmOoQbfk9fP16tVfpzvOjl27tsqEH0aZt/yTl/MwIipYgi5IQMEWC2FhkaBAJLBWQdZfaM53ff1ABQmotcf7QiF5zdrlMnPmFPMez1CjhhaB6tVrae3Ujz+N91rLhYACAQK65KBrzuTJY7zW1Du/J18WQcvO3+DKykyxnsGYMZ9rTaA/MD4D3a+yGyQE4m8gsuA3imk2MSYHrWR9+w4WzPL18y8TtCuLBb9hLI6GefTnzP5Zj2HxLqyUjm6GlkCfT7vVmF0V3T3HgmlW69VrKAsWzBZMMQxJyZczFTbz+vmwpktkBNaOEGnUuIVOsrB23QpZtfJ3PQZIA5B3YCzWr7OmyrGjjq5NSP9dx334Ki/nYURUsBQy/8/TMK/3c8++oTUiaEL3Bgksms1RANZVL3Pop5+/1/7pWW0oeAP+x+1vv/1MZ8HwFZr3H3/8JXn8sRe1ydcbTMWHWh9/+hC3bXOTkXHW1Fqi3xb86jVAwHtBiwMCBNQkYlYibwEC4HzW34vBzVl9TtbfgOZ950F0t/UbJs8/9w/N8LJStVqsFnqsvsARERFac4rvSlZTowL6LAO6HFhy+3Mg8gTd4BDoolCG1jG0+GEu/oNGkI5j1lYkKkp/X4eMArB1DM9zLtBDoM+HQq+352CLP3taAxO0ROw/sDvjuLva6Lx+Phyz7i9ZIkbTKgw2to5hQ207xiNgKml0sbSOuwYIBSEPI6Lgky+ChJ27tmo/9WpGoRBTbHqCmrOmTVpqH/X4M6fdDq71l3NG4W1D0zDgf9x2l8l6g6n4MHc5xgtgSjz8Le6g5qr1jR11Fgz0Ld6129GX3xsUfG+4oZ2kpqbptKUIFDxBs/TAgXcZ54/WsQ0Y9OvL+ADYvWubFkwwBau3zwl/Q5vWnY3XKG5c37NG5nq1SwMGPKPvbFyDpjplnydo6cBCaxi4vH37Zu0mkJycrGMbcH5MKYjHeFKpUlWpZgRNeD7mDLfk5udA5Ctv8/h7WuvAm0Cfz9NzvK1N4E1ePh9mhUOFAMYgYVyWM29rJzgrCHkYEQWffBEkoOC2YoWjjzum9kThzXURLtSS3dJ7oNaWo6C6ctXvtswQj8cgPiyAhQJeXoP3isW6UCMeG2sU1AegoG5fpAt/Q4+b+2k/etR+Y4YgT2MELLgueA7+x2qg3mYMQn/Uvn0GaR9mDFxDn2RcS19hCtZ9+3bq++zQwbGyq7vP6da+jrEAyICWLV9o+xusaVwjIsJ11eOmTVtl+rxQwMesRCigY72G9RtWmveIrF69xHgPu/W+wYPu1kGFrsqXr2S8hyH6d54+fcr2/Nz6HIj8UdH4juN77zqPv7XWAbrYoSDnq0CeD916SsaUdvuc7Ky3kNfPhwHRCC4Sjcc7d9MCa+0EpEPeWmcDkYfh/ubNW2ulDxHRtZBvZjfCwFkU1jCLBPqAt27dSVfDbVC/sdbMdOt6ixb+UGhbsWKRUVhcaj7TATXLvY1CJwaZYlAWVvF1ltOZHXx5flazGyUmntN5u2vVrCdly5aXVq3aSYO4pvp3tmjeRlflxMwZyIxWr1kmCxfNNp/pWefOPaV+vYZaa/bzLz94bRUoZlzfZs1vFMwtjkGPWJ0T/Xe9bcjQNmxcbZ5BtHsSavBLlSqt/YJvvLGjzjKCRXywsmiXm3rqdUKAsGjRXFllZISu9u03zlGhimDGkbrGdcWAxNpGYb9hw2Y6Swc+e/SxRovIlCnf6edpwee/f/9uia1RW2Jiykgj4zkt8XzjPVjPR99idBHAQL5p0ydlqh3Mjc+ByFfojoLugfgdOoLoqzXU5cpX1O/g+XMJsspI43yZ+SbQ58PvEgN6z8afkZUrF+tvzoLfGNYNQeueL9MrQ14/H1aQb9CgiXbTwsxtzrCaO2Z+W79uZaYAzFVO87AePW6Tjh26SV3jORhH5VoxcS3yMCIqWPJFSwKgQIaBoVj5FoXC8PAwLYxaC1mhVgaFve+//9ptn/tLRuEYiS8yQTT75lXbt2/SQbTWrCIY7Iy/EbVHqF3H3z5l6jiZPftnrzVXgO46zZu1Fl+6GQUKAp9x4/8nc+dN18II3jPeO/4G/C3W54TF2JYsne/2b0AtGmYG+W3BLO0WgICgWrWaeg6dstT4DDcagck3o/6TqYAPyDyxKjLmHEffYwQErs9Ht6b//vfDjOvsKpCfA5E/vHWJsboNHT9+VLvY+SLQ5/Ol69Lhw74v1pXXz1e+XEXt/nPUJQiwuiFdvnxZDh85aB71LMd5mOZbV/T9+/pZERHlRL6d3QgJNOaRtmCeem8JJ5rarQIi+mjmB86zk0BOZsy4XpxnHMEgPIxB8KcLEzjPMuJu1pWs5PT5wfA5EFHe4m8ehiAC6y+gNZjpDxFdC0E3BSoREREREeVMvuluRERERERE1waDBCIiIiIismGQQERERERENgwSiIiIiIjIhkECERERERHZMEggIiIiIiIbBglERERERGTDIIGIiIiIiGwYJBARERERkQ2DBCIiIiIismGQQERERERENgwSiIiIiIjIhkECERERERHZMEggIiIiIiIbBglERERERGTDIIGIiIiIiGwYJBARERERkQ2DBCIiIiIisgmpERt3xdz3SXR0jLl3/ZQoESP16zeSS5cuyZYt6yQ1NdW8x87Xx5UsWUqaN28tNarXkuIlSkr8mdOyb98uWbV6iVy8eMF8lEONGrWlYsUq5i3fXLiQ6PX1iYjciYoqKo0aNjfSnVoSGhomSclJsnXrBtm+fbOkp6eZj8pasJ4nO8LDwyUurpnUqlVPIiMiJS0tVXbt2iYbN62RlJQU81HeNWjQRPON3bu3y4kTR82j7gXDNQvEa/t6zfy5thUqVJaGxmdZrlwFvR1/9oysW7dCjh07rLdz07W6JoULF9HXgU2b18rly5d035Wv5R0if+TLIKFe3YbSr98wSTgXL2PHfqGFcHeyelxISIh069ZHWrZooz9yV8nJybJg4a+yatUSuXLFcZluuWWgNGvaSvd9der0Ca/vk4jIGdKmdm27SNu2N0lERIR59KrExHMybfokLVx4E6znya4mTVpKl5t6S9Gi0eaRq5KSLsu8+TO0kGml956MGD5SqlWrKXPm/CIrVi42j9oFwzUL5Gv7cs3Al8ehgN63zyAj0Kuv79Huihw4sFem/jhe31+gXetrUrZMeRk+YqTujx3zhZw8dVz3XflaLiLyR2jJmLKvmPs+iYgoYu5dP7WNhKF27Xpy8dJF2bhxtaSkJJv32Hl7HH7ovXv1l5Yt22iGsGv3NpkxY7IsX75IDh3ap9F9iRIlJbZGbUkxgoXDhw/o81DThEI/Whqy2pKMiL+M8QO/eOmC1/dJRGRB2tSz5+3SpnUnCQ0NlYNGevTbbzNl8e/z5MyZU1KqVBkpXryk1K3TUM7En5JTp06Yz7QL1vNkV5s2naV7tz4SGRkpJ04el8WL58p8IyhADW6xYsWNND9GatWsK2mpqUYesN98VmYIMFq2bKsF1T17dsjhI468wVkwXLNAvrYv1wx8eRw+qzuGPSBVq8Zqfrx581qZPftn2bBhtSQbeWyZMhX0vdWsVVd27twiyclJ5jNz7npck6pVakhcg6baOrHR+BtdezdYfC0XEfkjX7QkWM1ohQqFagIRF9dUoooUzVRD7+vjAM18ffsM1gBh7txfZO26FeY9DjgHgoimTVtKfPwZGTP2czl/3vdaCSQmQwbfq03a69avlOnTJ5n3EBF5hq6PPXv00/1Fi+bKkqXzbTXb6C7Tu/cAadSwmSQmnpfx33/ttqtCsJ4nO2Jj68iA/sM1QFi/frXMmDnF1iUE6XXnTj2MQKKTpKamyY8/jdcCpsXqFlKoUCE9FwpueI6nGuBguGY5fW1fr5k/1xbHBw28S+rUidPXnDxlTKaArkyZcjJwwF1SunRZLXxPnDQ6YF1vrsU1sboXhUdE6H6c8RyUbVDZ6NyS4E95hyi78sXA5QrlK0mnjj2ky0295IaW7fSH4I6vjwsLC5NWN7Q3ftBhRnCwPFOAAMhAli1foD901DAhSvcHxi5UqVJdLhlRPZqviYiygtrFVq3aa8a/cePaTIUQQO0pWj0PHz4o0dHFpV3bm7Sg4SxYz5MdSO/btulsBAiFZf/+PTJr9o+Z+ozjvSxYOEu2bdukXUjw2ijwWdAlFfkKAolqVWO9vq9guGaBeG1fr5k/17auERzUqFFHX3v2nJ/dtvig9n7a9Inadx9deVAwD4RrdU2KGc/r0LGbPg7fWwQD7vha3iHKiXzR3Qi1ABcuntcEHt14EhLipWzZCpoIODer+fq4cuUqStOmN+gAHyQ0ngYC4TgSpRIlSsn5xHM6uM1XnTrdLJUqVjXex05ZscJ9X0MiImdNGreUxo2ay4UL52XGzMkeuxakp6drela7dgPt3rD/wB5bS2ewnic7UGFz440dJS0tTdP706dPmvdkdu58gtSr10hfG487edJRa5uSmqKDYa2upMWLlfDYTSQYrlkgXtvXa+br41CgxhhCtBTgcQjqPDl3LkHKlqugA5uLRkXL5i3r9L3mxLW6Jnj+ZaNscuDgXn3M8WNHtMySfiXd1t3I1/IOUU7ki5YEfPkxVmDp0t90220U1t394H19HH6kn3z6tnz62TsSH3/aPJoZagmsmgI0D/oKCRPGMmDg8+o1yzLVNhARuVOrVl2jMFRIDh7c57UwCyhYnDlzUooUKaLdFpwF63myI7ZGHW0dOHXquBwwCmzeHD16SI4cOaitDwguLJi1xspXsKGg6EkwXLNAvLav18zXx6GbDmYxQrC3ecv6LPPVTZvWah6McQKlSpU1j2bftbomKORjZkXrMSjwp6ZlnnXL1/IOUU5wnQQv0LwYZWyYLeHEcd/7eTZu3MJ4bjEjszmQZaZERARIM2JiyhiFn3StGcwKChPHjh0x9kKkevWajoOGYD1PdqD2uVIlx5TVKNxl1TcdBU/U/ELFCpW1i5I/guGaXc/X9qZ8uYpGoTtKLl5MlMOHPQ8stxw38uzz5xO0oF65UlXzaPbk1WtClNsYJHhRs2ZdKVmilHZLOnL0oHnUOwyWql+vkWZGGLCcVaZERARRRgGoSFSUJCen6HzvvrAGRRYrViKjQBus58kOdOUoYmwo3KFm1xfxZ04J+pbjudj8ERTX7Dq+tjfouhMWFq7dbTx19XGGWnpsqP3PaUtCXr0mRLmNQYIHmC0AcyGHhYXK9u2btBnaFw3qN9HnHj9+xDY7BhGRN+gWER4WIWnpqXIh0XN3FmeY7hDdL0LDwrSLDATrebIDgzlR0MeMRb4ULCHRKFhigTV9bTfr53gTDNfser62N2XKltf/sZ4FNl9YM/xEFs5ZIT2vXhOi3MYgwQ0U8gf0H6GtAidPnZBFi+eIL+MK8Dx0NcJj0R8StVFERLklJTkpIP2Qg/U82ZGcZLz2lWv32sFwza7na3uDVZCvl7x6TYj8wSDBBQr6Q4fcJ5UrV9P5iCdM+MbnmSKwgAqmSz195pRs277RPEpERERElL8wSHCC+YiHDXtApxvD7AVTpozVGQR8gUVPmje/UQfKbdm8PqOZk4jIF6j1RM1jCP75OJsa+jtjvRdnwXqe7EhNS9UVlDEdvbs56d0pUbKUhIddXSPBH8Fwza7na3uTdNnRxQifo6+fZUkPawz4K69eE6Lc5tu3vQDA3MvDht4vZcuU1wFH47//n19L3Nep00AwOOrs2XjZtHmteZSIyDeYiQVTHWIRr1Ixpc2j3mEwJWZQueQ0mDNYz5MdKFheTrosGPBa0sfXRoUPFsy6dPGi9iv3RzBcs+v52t44KuyuSFRUtG5ZwTiAiIhI3T9z5pT+n1159ZoQ5TYGCQa0HAwZfK+OQTh8+IB8P+Frn1sQAIlR82at9f+du7YagYJvsx8QEVmwunvi+XNaoMVCUL7ANJ0QH38mY9xUsJ4nOy5euiAJZnpsnTMrmGozNDTUKNgl6uaPYLhm1/O1vTl1+oQkJSULpiZHt96soCYf3YdTU1PkrJf1kHyRV68JUW4r8EFCxYpVZOiQe3WhFqxw+MPEUeLvapW1ataT8uUrGQnJOVmzZpl5lIjId5ixBWkQYAGwrGZEQaUGFm7EDCr79u82jwbvebJr9+4dRiEtXc+JQqM3aEWIjXUsoobX9rdwFwzX7Hp/Xp5gEdSEhDPGZ1RY31dWasbWlejoYlrAP+Lj7ISe5NVrQpTbCnSQUKVKdRk86B6tccACKRMnjva7WRB9I5s1u1GbIZEYZLUSIxGRJ7t3bxesEotKB1Q+eNMwrpkWgs6dOyv799sXeArW82THPuMcGCOG2ueGDZubR92zuo1eunRR33N2BMM1u56v7QkWKHMsdBcicQ2baouCJ8iPGzVqbuTPheTQ4f363nIqL14TotxWYIMELLk/cOBdxg85WpdQRwsCEiF/4TwINpCprFq1xDxKROS/vXt3aqEChZxOnXt4rPmuVKmqNG/RWmu6165bkan1M1jPkx2ouNm8Zb1W6NzYqoO2HruD9+RYGydMtu/YLEeO+LaApqtguGbX87W9QUs9xgeUKV1WOnfqoZ+pOze26mi8tyq6mNqKFYvNozmTV68JUW4qkEECuhb17TNIikZFy86dW2XS5G+zvaYB1kXAaorIUHxdcI2IyB0ULBYsnK1dFzGJAlo6UXPprFatejJo4F2afu3bt1tWr85cORGs58muZcsWyImTx7V2d0D/4RJbw9GlyIL3gpnt0E0EU18vWjTbvMd/wXDNrvfn5QkCPhT6MdNQkyYt5ZbeA7SLmAUDzrvc1Es6dOiqfwMei25KgZBXrwlRbgqpERvnV6fL6OjATCmWE/XqNpR+/YZJwrl4GTv2C4/TjXp6HH7gw0eM1NU4fXXgwB4ZY5zDGWoMsKZCaGiYTJ4yRlskiIhyCq2T/W+/U9AVMj09TRISzjpqUI20K8qcNQWTLCDd8VZTGaznyQ5McT140N06UQUKfCjsxceflpiY0ka+VlxrpTHpxMRJ3+oMd96MGD5SqlWrKXPm/CIrVrqvqQ6GaxbI1/blmkFWj8Pn1LbNTdKxYzfNe1HBd8oI7ADvCzX9eK+r1yzTc+CzDqRrfU2s8gqMHfOFBrHu+FouIvJHaMmYsq+Y+z6JiLgatV8vZUqXk3r1Gulgoo0bVxuJRLJ5j52nxyHKRy1EeHiE3vYFZjvaYJzDWZs2naV69VragrD497lGgsHVFYko586dS5AtWzYYBduSWohF/2sUcpFmJSUlyZKl82XatEmatnkTrOfJDpxzy9YN+lqY8hrTaOK10RKclpYq6zes9nltHOQfeC4qhg4fOWAetQuGaxbI1/blmoEvjzt4aJ8cMQri5ctXNArrxbXAjv9DQwvpbEI//jhOg4TccK2viVVegY3Gd9TTuElfy0VE/siXLQlERAUFak7RRTIsNEySki9rISU7gvU82VW8eAmJjCgsWHANLQiBrnF2FgzX7Hp/Xp6g5aB48ZJSKKSQnDuf4FPhPFDy6jUhChQGCUREREREZMPF1IiIiIiIyIZBAhERERER2bC7ERER5VkYWNy16y1SsoR/ec/ZhHiZN2/6Ne2jnldg5r327bpmuTKwK0wJvipIp+3kNSHyH4MEIiLKszB7zPDhI3X2Fn+cOn2iwE4FaU2HiUG9/li3fqVMnz7JvBVceE2I/McggYiIiIiIbDgmgYiIiIiIbBgkEBERERGRDYMEIiIiIiKyYZBAREREREQ2DBKIiIiIiMiGQQIREREREdkwSCAiIiIiIhsGCUREREREZMMggYiIiIiIbBgkEBERERGRDYMEIiIiIiKyYZBAREREREQ2DBKIiIiIiMiGQQIREREREdkwSCAiIiIiIhsGCUREREREZMMggYiIiIiIbPwOEq5cuWLuERERERFRMPI7SEhPTzP3iIiIiIgoGDFIICIiIiIiG7+DhLS0FHOPiIiIiIiCkd9BQmpqCsclEBEREREFMb+DBEhJSTL3iIiIiIgo2GQzSLjM1gQiIiIioiCVrSABAUJy8iXzFhERERERBZNsBQmALkfsdkREREREFHyyHSRAUtJFSU1NNm8REREREVEwyFGQAJcvX2CLAhERERFREMlxkABoUcDGwcxERERERPlfQIIEQGvCxYsJkpzMmY+IiIiIiPKzgAUJYM16dOHCWbl8OVEDh7S0VAYNRERERET5SEiN2DiW4ImIiIiIKENAWxKIiIiIiCj/Y5BAREREREQ2DBKIiIiIiMiGQQIREREREdkwSCAiIiIiIhsGCUREREREZMMggYiIiIiIbBgkEBERERGRDYMEIiIiIiKyYZBAREREREQ2DBKIiIiIiMiGQQIREREREdkwSCAiIiIiIhsGCUREREREZMMggYiIiIiIbBgkEBERERGRDYMEIiIiIiKyYZBAREREREQ2DBKIiIiIiMiGQQIREREREdmE1IiNu2LuB1RYWLiEhoZLoUKhuoWEhJj3EBERERFRXhbQlgQEAhERRaRo0ZJSuHC0hIdHGoFCGAMEIiIiIqJ8JGBBAgKCqKgSRpBQmEEBEREREVE+FpAgITIySjcGB0RERERE+V+Og4TChYtqKwIREREREQWHHAUJaD0IC4swbxERERERUTDIdpCA1gO2IBARERERBZ9sBQnWLEZERERERBR8shUkhIdzBiMiIiIiomCVzSCB3YyIiIiIiIKV30ECVlJmKwIRERERUfDyO0gIDQ0394iIiIiIKBj5HSQUKhRq7hERERERUTBikEBERERERDZ+Bwkcj0BEREREFNz8DhKIiIiIiCi4MUggIiIiIiIbBglERERERGTDIIGIiIiIiGwYJBARERERkQ2DBCIiIiIismGQQERERERENgwSiIiIiIjIhkECERERERHZMEggIiIiIiIbBglERERERGTDIIGIiIiIiGwYJBARERERkQ2DBCIiIiIismGQQERERERENgwSiIiIiIjIhkECERERERHZMEggIiIiIiIbBglERERERGTDIIGIiIiIiGwYJBARERERkQ2DBCIiIiIismGQQERERERENgwSiIiIiIjIJqRGbNwVc98n0dEx5t61VatWDbm1by8pXDjSPOKf1NQ0mf/bYlm9ep15hPKqUqVi5NZbe0rHDm2kevVqEhoaKgcPHZYVy1fLuPGT5cyZePORRERERJQb8k2Q0KlTO/nHmy9L8eLFzCP+SUpKlg8++FTGjP3BPEJ5Uc+eXeWpJx+WihXLm0fs4uPPyvvG5zhlyjTzCBEREREFGrsbUZ7R4+Yu8uKLT3kMECAmpqS88Pyf5c47B5lHiIiIiCjQ8mVLwuXLl+XXWfMl8Xyiea97ERER0r17Zy1YsiUhb4uLqydvv/13qV6tit5Gi8G3306QSZN/lsKFC8vddw2R/v37SlRUEb1/z5598uRTL8nu3fv0NhEREREFTmjJmLKvmPs+iYhwFNKuterVq0r3bp0lMjJSLl68JF98MUrGfjdRFv++3ON28tRp6dq1kwYWaWlpsmzZKtmwcYt5RspLRo68V9q3u1FCQkIk/myCvP76u/LDxB/l0qXLct4IBvF5hhj/WrRoomMUoqKi5PChI/w8iYiIiHIBuxu5gYGz7YwCK1ovsKGWO1i4/m3NmjU27/FfoK5TbGx1aX1jCw0Q0tPTZaIRHMyaPd+896qly1bKyZOndD8yMkLKlS+r+0REREQUWPmyu9G5c+fl+Rdek4ULl5j3uodC63vvvi6VK1d0291o/LivpGHD+jJ37kJ54s8v6AxKDz/8oHTu1F4iIsLNR4lcuXJFTpw4KRMm/Gg8f4K2ZDhzfm+bN2+TYXc8aN5zVZ8+PeSlF58yrl9R84jI1998J++994l56+r7sSQmJsrfX31HZs6cax6xe+yxkfLA/SOkUKGrsZ7rOS1du3aUBx+8S+Ia1NOaeGd4nWnTZ8snn/zP7cxBgbpOnqALUaNGDaR+/bpS3ij4T5s2S7Zs2W7ee1WFCuXkk/+8I3Xq1NLbnv5WIiIiIsoZtiQYatasLoMG9ZP/fvWh3Nz9JlvBF1DDXb58OXnkkQflX++8KpUqVTTv8Q0KwX379rQFCL4oWrSotGzZzLxlh3PiPucAwR087rlnH9f33bhRXKYAAaKjo2XokP4yevSnHl8Pcus6IZhYsWKN8frj5Z13PnIbIAC6nKH1AtDikHQ5SfeJiIiIKLAYJBiqVatiFKSfkNKlS+mg6N8W/C6ffzFKPv30fzJj5hw5ezZBH4dCcIcObeQvTz+ihW9fdenSUZo1bWTe8h1eD89DDbqrFs2bSGyNauYtzx59dKQMGzZAwsMdBfoTJ0/J2LE/yGOPPy/v/OtjXTciJSVF78Og4ddefV6aNGmot13l9nXKSs8eXTOChISEc7J+/SbdJyIiIqLAYpBgQO06+rjv2rVH/vjQ00bB+ln5+OMv5ROj8PvMM6/I0GEPyqJFS7U7DQrA6Id/S++bzWd7h0LyoIH9tBUhMfGCFqyzgu4/K1eu1f0qVSq6HTfQuvUNUrJkCS2sL1mywjxqh/fZu1c3/fvw3vE33HXXQ/LPt/4t8+cv0pr7e+97RF7+6z90sDBUqVJJ7rlnmO67ys3rlJW77x6mC6zhvDj/ylVrdTAzEREREQUegwTT6dNnMmrWXR05clRef+M92blzj95GwR99/H2BQrI1oHfd+k2yb+8B3fcmPf2KrF23QQMAd12O8Po33NBMC8zHj5+U/fsPmvfYYRwEav1h79798u57/9G/xRXGAHw7+nttUcA5W93QXDq0b23ea5db18mbO4YNkD/+4V6dChU2btwi777LsQhEREREuYVBgmn58tUea+QBBWB0qUlNTdXbGLyLwbbeoJB8a79e+j9aB378cbpcMf75AgXto0ePa6HdtcsRBkrXqFFV99dv2CyXkzL3zcfjG9Svo/uoeV+4cKnXNQXmzV9o/I3HdL9YsWip36Cu7rvKjevkzcN/ekCefPJP+p7g4MHD8tbbH7oNdoiIiIgoMBgkGJKTU2TT5m3mLc927NidMWMPBvta/eM9ueWWmyXOLGyvXbvR4yxF7uB1Nm7aqvuuXY7QsoAWBnRfWrxomXnUDu8NawkAAo17771DNm5Y7HGbOmWMDgyGsLAwt39bbl0nT/7854fkvvuGZ7Qg7Nt3QJ57/lXZYARGRERERJR7GCQYUNN+JT3dvBUYqMnHCsEo4KK//+Qpv5j3+G7VqrW6mJhzlyOct2WLJlrwP3ToiHZLcgfjFaKKOoKE7KhUsYK5d1VuXCd30PLy91eek3vuHqZjIGDr1h067oEBAhEREVHuY5BgQIE7JIupRP2F1aHr1a2t+2tWr5c5cxbovj/Wrdskx47Zuxw1b9ZEKhoFeBTYMcbh2LET5qPtMNPQxQsXdR+BBtYTePiRZ3zevvhylD7XWW5cJ1dodXjj9Zfk9ttvyRhwvXzFannizy/K1m07zEcRERERUW5ikGDAfP/1zf773tStW0truQFjDNwtPAYozPe+5WatBY+PP6srCGcHBhu7djnq0LGNzpR0/nyi/L7YfVcjwHu7eNERJOB9FCserYvP+bq5W6sg0NfJFdZVeP21F6Rbt066/gMCBMzChBYEjkEgIiIiunYYJJha39hCWrVqbt7KDAXYbl07aX992LfvoGwyC/CuevfqnjFoeOnSlTmaqtPqcoS+/ZhxqLE5CPjAgUOyYuUa3XcHLQwYBwEocOO9YxCxJ/j7hg3tr9OWehtDEMjr5Azv7a1//lXXV0CLRVpamsyYMUdX1vY1yCAiIiKiwGCQYMJKwX95+lGjcJ95Vh8Ump995lFp2LC+3sag3Nmzf9N9V5GFI6Vfv166eBmmC/3xpxnmPdljdTmCW2/tpYOLsdrw0mUrMwYHezJ33kJ9DxAbW11e+duzbgMFHHv5pafkhReelM8/e08++ugtbQ1xJ1DXydULzz+pLSVWgDBhwlT5+6tvZ/k3EhEREVHgMUgwoFsLCt4NGtSVb775jxaSrcW7XnnlWfnhh6+la9dOWoDFYzEF6PQZs81n29WuFSu1a9c0H7fS63ShvnDucoQWAWxYbRjjHLKC1/7551+10K3jGoxC+Hdjv9S/77lnH9ftw3//Q0aP+jSjBh+DrEd9M87tWIdAXidXRZ0GWeP5CIjmzJ4iS36f6XF7842XzWcQERERUSAxSDBgas/vJ0zVWnf0pb+pc3v5y9OPaCF04IBbpVzZMvo4FHzRxQeLiWVVw33ixEmZMtX/GY3csbocWfbs2edzFyYsoDZq9HhJSkrW29bfN3z4YN26dOkoxYsX0/swfuL99z+RWbPn621XuXGd3EEghHEXWBvB22aNeyAiIiKiwGKQYDqw/6A88OBjMnvOb1oYdoZC7/HjJ+Tjj7+Sxx57LstBtHg8Fi9buXKteSRnnLscYZEyf8c4vP/+p/LMs3+TjZu2aKuCKxTkp8+YI/fd/4hMmTLNPOpeIK8TEREREeVNITVi43xbAtgUHZ29hbHyovHjvtL+86hl/+CDT2XM2B/0OPrWYxYfa/DtqVOn3c72kx+5/m3nzp03ghDHAGdPCuJ1IiIiIirI2JLgBmbTQX96b9OB5leuf1tWAYI3wXydiIiIiAoyBglERERERGTDIIGIiIiIiGwYJBARERERkQ2DBCIiIiIisinQsxsREREREVFmbEkgIiIiIiIbBglERERERGTDIIGIiIiIiGwYJBARERERkQ2DBCIiIiIismGQQERERERENgwSiIiIiIjIhkECERERERHZMEggIiIiIiIbBglERERERGTDIIGIiIiIiGwYJBARERERkQ2DBCIiIiIismGQQERERERENgwSiIiIiIjIhkECERERERHZMEggIiIiIiIbBglERERERGTDIIGIiIiIiGwYJBARERERkQ2DBCIiIiIismGQQERERERENgwSiIiIiIjIhkECERERERHZMEggIiIiIiIbBglERERERGTDIIGIiIiIiGwYJBARERERkQ2DBCIiIiIismGQQERERERENgwSiIiIiIjIhkECERERERHZMEggIiIiIiIbBglERERERGQTUiM27oq575Po6Bhz79qqVauG3Nq3lxQuHGkecS/+bILMmjVf9u7dbx4hIsof+vfvI/Xq1jZvuZeWliYbNm6RRYuWysWLl8yjREREgZVvgoROndrJP958WYoXL2Ye8Sw9PV22bNku//nkv7J48TLzKBFR3vbB+29Kt26dzFvenTt3Xn76eaZ89NEXDBaIiCjggjJIsKBV4fXX/iWzZs83jxBRfhIWWVzKNRgoZWr3kULhRcyj7qWnJcn5o2vk8NqvJDnxmHk0f/EnSIArV67I3LkL5cWXXmegQESqoKWblHvyZZCQmJgo//7353Lk6HHzXocSJYrJLb1vltatW0p4eLge27Nnnzz51Euye/c+vU1E+UNUqTpS86bXjAzPUTFw6exeSUtO1H1vLicckEOrPjX2/Era8gTnIGHx78tl3LhJuu+sWbNG0u/WXlK+fDm9je5HX331rXz8n6/0NhEVXAUx3aTcky+DBDSzP//Ca7Jw4RLzXrt77hkmjz4yUiIjIyQ1NVW7HSETJaL8IbJYJanX80ORQqFyZO1XcnrXTLlyJc28N3g5BwloIXjizy/ovqtKlSrKu/96VRo1aqC3d+7cLX96+C9y7NgJvU1EBU9BTTcp94SWjCn7irnvk4gI701XuaV69arSvVtno+AfKUlJyZqB7t9/0LzX7vjxE9KhQ2spXbqUFCpUSE6cOCXz5i007w2suLh60qBBPX1/2PB6Z88mmPcWbM7XpmqVSpKali7nz2ddo3GtREUVkebNm0itWrH6HosWjZKTJ0+b9xZcKIA2bdJQasRW9/m6WM8JDQsLyPe/aqtHpEipWnJs01g5uW2KceSKhBQKl6hStTUjjChaPsstNKKYpCXhveSfmrFevbpJzZrVdR+TL8z8da7uu8LvKCampNzQspmmObBy1Vo5fPio7udlscb3qonxXbHSTP7ursrOb+9ac07Xy5cvK/HxZyUlJdW8t2AqVSpG8xJ8t3Fd8NvMKmC3nlOsWHTAPuOCmm5S7gnKlgQYP+4radiwvu5jtqOnnn5ZE+B33n5FMyhYtWqdPPzIXzL15f2/B++Whx66T7ssnT59Rl548XVZsmSFea9jpqURI4Zo0FKyZAnzqAMGTR87dly+GzdJfvjhR4/9hJ955jG5yziHL77+5jt5771PzFv2a4FCAbpTYaC2K2+PGzF8sDzxxEPa2rJ58zYZdseDetwbX14XCd8fRt4jt9xyc6Zrg24Ru3btlU8+/a8RtC0yj/onJ9fNgs9v5Mh75abO7TVQsKB/NxL2zz7/WiZP/sU8epVzLa+nc4O3x1nfSwS6H3zwqYwZ+4N5j52nx/n62TtDpv7eu69L5coVvf52BgzoK/fde6dUq1Ylo+AJuC5nzsTL9xOmyqhR4zJ9p1u1ai6vv/ai8fuqIImJF+Ttdz6UKVOmmff6L6RQmDQZ7Ohms3HyMElPuSQlq3UwMsBHjQwsWo/7KuXSGdn3+z/kwskt5pG8zdeWBHD+DScknJPnnvu7dlFyvS8nv+99+w7IG6+/pO8pJCTEY/fNPn16yEsvPmXkD0X1+/HOOx/JxEk/mfc60gW08PYx0oVy5crquSzW9+uXX2bJ/74eq/vudOnSUd5840XjNbL+Drj7m4Pxt+eLnF43QDo5YvgQGTLktkyfH97Tz7/MlE8++V+mz87X76G3x13LdNeZL6/btWtHefDBuyTOCJpCQ0PNow7oFj1t+my31wVlkQ8+eEMa1K9rBFgp8t//jtEeDzlRkNNNyj1BuU4CCoHIrACFdmRscOTIUS28oyADjRvHyYD+fXXfgkR94MBbNUBAofbnn3+1BQhIcD/95F0ZNLBfpkIwIIFHAvDkn/8kb731iu67U6liBXMveLRs2UxGj/5U7rxzkNtrg0S0Xr3a8q93XpXnnn3cVkD3VU6vGwJEJP639O6e6fWR8VWsWF6ef+4JufvuYebR4IcC3PvvvSF/++szUqNGNVshBXBd0Cr30B/vk88/e09/X84wZSfuB/zumjdrovvZhQwNGV7S+SOa0RUKjZRqrf+sxy+c2iaJJzb6tF2K3y3hRUppJhmMSpWOMdKpMN1HIeTwkcAPOkQB8LtxE+XEiZN6G9+PgUba56xChXL6m8dnj0Lt4t+X2QIE/ObwvUEhGOMonAuYYH2/7r57qPzn47e14OROZSMIDQ+PMG8Fh5z+9nyR0+uGdPK1116Qhx9+wO3nh/uHDL5dXn7p6Wyl6fkR/k7kYcjLGjeKyxQgAIKyoUP6a56IvNFZ7dqxxufiKBugrNGiRVPdzwmmm5Qbgi5IQKH8qScf1hoZQFejRU7ToE6bNkuWLF2hmRlqLQYPvs2W8KK2BDWigNqyceMn6z4gs/vL049oQRIQRKDWA48ZO/YHPfeJk6f03EjsO3dqp493l3AWKVLY3BPZf+CQbNiw2bZZmXJ+gWvz2qvPS3XzuqN2ZPXqdfL3V9+Wp556WVtVcG0AieKwYQPk0UdH6m1/5OS6oTCDzwOZMaCVaNSo8fLwI8/IG2+8q583PrvChQvL/ffdKe3a3aiPC2b4biJzR40ZvrP4+3Fdv/xqtF6Xzz77WmtLEWyjcNCsWWN59e/P24LfPXv3a60ZXL58WbZt36n72YWMDqy+tIVLVJVCYYXl/LF1snP2U7Jr7nM+bdtnPiZJiUeN51fT2T6CCdZTQMHM+syWr1iTa2vDrFy5VmbMmKvpHV4PAbbzbwMVJg3j6uk+fn/jndJMfE+efeYxqV+/jn5/8D1C68SECVM1zZw6dZocML5v1vcLYyxeeukpt5UrhY3ffmioI8tCy4nrb3/X7r16nvwiEL89X+T0uj30x/ulW1fHe0RNPLruIk3HhlYRpPV4f126dDDSzeHms4Ib8i7kYdYEKcjb8H1+7PHn5Z1/fax5H64LIE9E3mj1YIDDh4/IqVOOLkb4XWXVIuULppuUG/JlkICC4iMPPyhjx3xu2yb+8I38OPVb6dixrSZaqAUbPXq8JoTOkIm5qxnr2bOrdOp09bmYWQStD4AE/c9PPCRVq1bW20hsUQBGs+ibb74n/3zr3/Lc86/KrbfeoV0t8MP3lnCWKOH48SHRHW+8zvARf7BtGzdu1fvzi2FDB0iVKpV0H9fmtdf/Jffe94hMnPiTTkH76mvvGAHZfZrBIDNEzQu6HqBlxh85uW61a8VqH99Lly7LwYOHNUH/17sfa0Y3/vspOvATQR+ghs/f95YfYTYwFPjwXcV3Ft/dIUPukw8//EKvC5rAhw57QGcTQwAAaLa/w8ggLWhpe+ihp+Xjj7/Ua/jddxPNe3ImxPgHhcIcQXZ6ykX93x9pyef1f3+b2/OCxo0bZErjsM2dM0Ve+duz+lvAb2n9+k3y9dffmc/KHagIsboYoWYbAQqg4HPrrT3194zvz9Sp0zWosCCdRost4PvzxRej5NZ+d2r6gDTz5b/+Q/r0HabHre8XHo/nuUI3n7AwR0EIXUVdf/uTjLQmP/WND8Rvzxc5uW5ly5aWatUqy4ULFzVP/PCjL+TxJ17QNB0bghmk8Qgy8B3o3Lm9VsYEM3xmvXt1078Xvz8sanjXXQ/p93n+/EVa5kDeh+82pmEH5I3obmfBb+mhP/1F3v/gU3n6L3+Vd9/7j3lPzhX0dJMCK18GCYjeGzSoqxmU84auLKgFBkT2zzz7N/l2zAS97QyZGDIzJMyoHelx801y440ttKBrFUKXLl1pazJHf9T69R0roaKAitoed/2ukZC+9fa/ZcGC3/W2u4QTg5us1gUkrhcu+v8jDiQkYM6FkH/+469yW7/ebltA3MGUs+3atcrI7BCEubs26BLx1tsfyc6de/Q2Bnf1MgIzX+X0uqG/9oCB98iNrbvLLX2GZgoeERDONYIYzIiFvwVdz/IyXD/URFqfG7otoG8vAhxf9e3bI+Oarl27Ub+7+A67Ql9xdL2zAjwEv84tcFu37ZDPjYKecwGRcgZ9v13TOGw4jnQLvwH040ehzarMcCenv2/A+VFpYn038JvHOASkmRXNLoCbt2zP1M0I41XwW8J7RZrgqd81juN+PA6Px/PwfGdWlza43mlmXvrtZSUn1w0DavH9at+ht7Ruc7MWgF3NnDk3o1YcreyojMmr0D1v4KB+GZ/bV19+IE88/kePXdzcwffeuqZovUMB393vDz0Lvh39fUZLS6sbmkuH9q3Nex2/qf/9b6zMmbPAPEKU9wRddyNLubJltL8gEgB3JhsZ0tatO3QfmS4GpDVv3lhvY3aksd/ZBzYhw7IGfh04cFB+/XWe7ruDhH6GkXBaXTCqVKmos0FY0BISEeHoI4oE5PRp9wP1rhUERlYBBBsSwddff1GmThmjrStZQc2fFVxh4O+8+Z4HJSNhXLDwdy0MQJ06NX2uecqN64ZAAAGgtSWeT8yotSttZPh5OVBAAQPdM6zPrXv3zvLss4/Lj1PHyF13DTUf5VmL5k0yWsYQ+M6du8BtIcWCViBr5iJkknXrOIJmuj4QKKCgib7q+Pw9yenv2zJ9xmxZtmyl7mP8wdNPPSI9enTRAhDGeaEFyXlGl6ZNG2UUmlGIRGHSm1/QXfOEo0sinofnOysaFWXuOboKXk/56bcX6OuG7k4o7FppZnSxaOO9ndP7UElndefMi/CbQRBjfW6tW98gDzwwQsaO/VzefvuVLIM85FUN6tfRfQRtCxcuzTSI39m8+QuNPM8xVgizGNVv4HswQpQX5MsgAbNEoJmzcZMOtg01HY88+oysWbNeC6FIsIYPH6SD6lyhsDpp0s+aMCOTQ6CAWhrUhKP/rWuNqPOA2QMHDmc5vRlqGOLjHYk6Bo1h8JilVExJzWQBBVIUTLMLidZ/v/q3LPl9ZqbtrX/+LeN1sgO1Qi+++JT0uLmLecQ95+ZszOLx/fj/ysYNiz1umD0KiTWg+0+ZMqV1PyuBuG7I3Ef+3z3y68yJsm7tAn2vGCxpbfh7fZkFBDWo7q45tg4d2piP8iwiIlz7tbp7Pra6dWuZj/QfBo0/9uj/ZTn4Gpm71fKG8Tko5Lj7vKzt00/f1RpUQLBWpqxvnxtlD2Y3ck3jsPW7bbi2ZKLQiLQL/f0x1sbfbh6+/r4tSCsxy45V0CxTppR+b1BYwjgv1Jw6Q1cVfM8BNdJr1m7QfU/QsmeNW8Lz8HxnZcuV0f/R0oc8ILsK2m8vENcNs/ig5n3VynlG2vmDvh/ndNOXa4bHuLve2PB5WN8Vb3Ka7nqC3gm9enbLcvA1gogoM+jCb+/ee+9w+3lZGwJxTIkKyCP9aWkiyguCqiUBmdiCBUvkoT89bWRajhovJMS39u3p9oePxxw5ap8RJDU1TVsSXJUuffXHfeDgIXPPs+3bd3lMkMONRN4aSIa+oJeTknQ/OxDYoFCLWgrXDQVqqzDuDfrhOxdC/vLM37TPPsQYmd7wEYO9JpzWyq/Zgffua8KZ0+uGGjDUuj7yyIPGfgW9dtmFVg131xwbMv2sIIPBNXX3fGzWgDhvMA0j+ixbn9v9DzyqnyUKbfjeD3EZlO8Kc5z7kjG7464QR9cGKiDQbx19oK2Z2tBSiSmZ3cnp79vZunUbM7oLWvB9O34884QBzulCVpUqlpNmS4IrvL9wsyIiLS1dLl9ytPZlR0H67QXiumHaabTKo+bdl7TNE1xXd9cbG94nPpes5DTdRavNW8bvxvrcevYarIPnrS5BWF8J03d7giAwqujVlhl/BeOshhTcgipIsGiw8NtiI0FwFCJRY2YNnnP24AMjpFZNe0KOhKZ//76ZZpBw7tpSrapjBh9vMD4CNezuOE9Jh0ACs31kF1o+0K0Jiyu5bihAWN16/IFuAe+9/0nGoCtcIzSPe+IcVKG2EK08vm4osGza5Nsg7ZxeNwyGRBcGZAZoicAgsxdefM32fjDLkdVNzBsMfnZ3zbEhI8oKChP4nrp7PjZrZgx/oPULA8St5m3ULKMfrCco2CUnO14HtcMYaOd8LbLa3I07oWsHNfeYWQqQbjXwsWucv79vZ8PvHCwtW9qna0RFBMZ1YRyBM+d0wddWDqvW2xW6sFjpaUpKco6mey1Iv72cXjfMXDVwgGNKcOQlmIXn/fc/zfR+duzYbT7DM1xXd9cbGz4PfC5ZyWm66wo9CnDt0W0IEOC1bdNK991B693FC45xHXgvWDvB9Vp42774cpQ+lyi/CMogAZKSk41EzZHoIIHDSs3O0BfX6k+LAuMH//4sYz0FzGF8r9NMBODclxNdarLK9DDINibGsVaAa+KM7jVWLRJWq0QCmV2ooXvgwcelXftembZnn/t7Rk2jv1BwP2U2/SPh9NbPFAV2NGUD+vFjejfMzuHLhplxXBea8SQn1w1BW7NmjgABmcnH//lKZzfCgEDn95OQgNafrGu0xn8/2e01x7bYacpdT1BA+OijL9w+H5svma47yMStlcjxna9kfFc9cR5/gW5fYWGhtmuR1ZZbU26S71KMdM7i3Pc8K/78vi2oSR406OoaMhjEitlyAK0GGLjr3CJhSxdKl9Lne4P7MZYM8PtwXoXWuashfvcJZoCTHQXpt5fT69a2bauMz/S33xbLffc/ogOpnd/Ljh27jHRVH+IVrqu7640Nn4cVNHmT03TXk02bt2Z8V5G/e4K86qI5+BuBebHi0bZrkdUWiKlOia6loA0S4uLqG5mfIzBw7b+OAj4yNGuwLQqqmLlj8pRftACJmrFevbrZpsBEZmgVuBEAeBvwh0QVU6RZfdsPHToqW7deTRwwMxMKq6g5yW6GlNtQIEfmBVkNEl6zen1GQR8zqfTu1V33PcF1xbSJ/g4Kzsl1Q21akSKOzA4tTHv3um+FaNGyacbfnR/hu2f1Xc6qDzJafbACNqCg2OeWq7OtuIMZQIYMuV1nAvP2uJy6ku5+OsYrxj+6CoXqypUd0w6DP4NS/fl9WzCFozWTESZ9GPvdJC20YcpjwNSQt9/eR/fBOV0oV66M9O3TQ/c9wf14HOB5mNrVggGf1vvF4OacrsWRG/Liby+n1815UUys4eCuYgbrN1hrB+VX6PJqjauzvs/uoFIOM1EByglYP8JbtzL0SBg2tL/+NnJ7PALTTcoNQRkkYHYJzMGPAiXs23fQNmgOTeZW9yM0iWOJdiR+WPBr40bHMuRI7O82zmMlyJiRZ9s2RwKLGgQMvsWCRq7weMyohGlPATVumA7V6pOLTNSqUTtrJEbrN1zNCPMK/A1DjQypQgVHwo/Cx46du3TfHVzb5cvXaOEd/fxx/bG6qjvI6LCwzJtvvCyjR32qwZovcnrdkGFfuuTI4NCvFasEu8IATgR/1vcmP7r//hFS0+xChyb4beYMXp7Mnv1bRsbfokUTeeP1l9xmZk2M38vf//6cDuz771cf6ufnDIWYP4y8J1OXk+xIvXxWUpM8Z9TkWFUe6Qz6tgPmsd9gpl1Z8ff3DZj8oZO5/gwqS5BmoqsGZnlDVw389lHYxXmtQpNzuoACFdLLh//0gN7nCmvJ4H48Do9H9x1rimKcDwu4oRCHLi9r1210W1i93q7Xb8+TQFw3a0YlqFOnVqYABYXgu0YMyagQy48w4Pnm7jfpPq7T5i2OtXI8wTTZVkCOCkOsWeIuUMCxl196Sl544UkdC/fRR2/ZeiDg2t1//3CdGSsQmG5SbnCEzvkMCnnoX45CibOQQiFSpXIlrf2wCnrod/v991N0HxDRe1r8BwkoasYwLSdaGZo2bagBBWYSwX2jv/1em+Uxqwfux1L6WHYdmXO6cS7U2KB5FjMl4fWR2c2fv1ibZ1H4vPeeO6SuUTi1usykpaZpYdpdgdo5MenatZO0bNFUjp84aSQ0X5pHA8eaR91SoWJ5KVumtP4NuEb4GzDNm3OtpasxYydIE+N6YXVJDZSe+KMMGNBXVqxYozWV6KKAGid05bIKAliEBq033gTyumEMA6YdxHu57747JaZUSVm2bJV+F24ygroePbroZ4iMAu8xr0Mgi4ID3i+gSwdq9DIKWqvW6toQ3lpsMK9923atNJPE85Bh3XBDM1m6bKWcMWuXa9WK1a5aKAQCBr3iO23Bb+rNN17S10er3fsffJbjBdUOLH1XytS71byVA/m4Es1aTM1V0aJFdYErfI8BnzXWdZk9e77edpXT3zcKOyj84/O30jTnmYyQZrZs2UQLPSg0Ic1E/3xAuoC/A+kmnj/SSLPRSuucLqB2HCvkW785VNSgOyDO9cTjfzAK0E0zarSTk5N1/IS764IBpZgHH6y/Ga+BheC8TVmdHXnlt+dOIK8buqVhXQZ8Tm3b3CDvvP13+fHHGTppBCpaENghTc0vaaa1TkJvI3gCdAvD9bLyloOHjmS5bgF6HqCb6l13DdG8A/nad2O/lBUr18hh4/mAiTFatmyWMR4E5ZBR34zLqCzEb+q9d1/XoBK/wW+/nRCQBdWYblKg5cuWBCRY7hZTa9woThPvjAAh/qy8//4nujIkoPCKWm4k6IAmc6yX4My5ZgyvM3DgrRkJPQa6IvOzVmtGAmGtgDl8+GCt7UbfXLw+Es3ly1frEu0IMJApoybGSowAwYbr32BtCDQsKHjjWFyDehogBZrrPOroF2wVIHA9Pv3sf+YjPUNfyxdeeC2jGxAyDBQM0HKAa4P/MQUejuPaLFi4JOPaeBPI6/bZ599kzOqC2TBQA4bp+z789z80oMH3Y/ac33QGl/wA79d5rnb0pbUKKciw3n33E/OR3r388psyY8Yc/bwBBQt0GcPnhq2NUThwLqS8+Y/3bQvR1TQyWasmEY9znd8+O84dXSV7fvubecvBWknUL/m3UUi/y9Zn67yhgIG0CXz5LeX0941CPwpScPToMQ0KnOG7gEITzofzdr/5pozaUaQLL770htd0Abet7y1aa996+0NtpdAWv3p1bF1e8P1Cmuv891gb5r/HecD6mxsZeQLSkEDLK789dwJ53b6fMEVnDMTfhfwO6yK8++5rmm4+9thIDRBQ+YLuulbAlJfh73ReJwFj1ay8Bfn6u+/+x6dxAyjQjxo9PmOwNL4PqGiyPjd0qc0IEFzKIYCA3Jr62xFo5DzNBKabFGj5MkjwBoktovUJE6bqICvnWSAGD74tY8YJ5yZzV8gEkRkCagTuuXuYJgKAQGHkH/6s53U3Cw4SSpwTs4c8/sTzbs+f12HWBtQg/e2Vt3Twc1YFeQsyr/8b+YTWIjs3U1twbZCh/P3Vt+XRR5+95tcG7+854++x1tFwhu5IX3/9nWbaq93cnx8gw7JWAH3ssed8vr74fPE5IwDG5+Pub8fnic91xF1/zDRAEDPsJJxzNHPjd2UtuEW5B92LEMz+9W//9Pu35M/v23mCB9QuT5z4s9tCqvPilJhWFQG41XXGShdGjRqv3TRQ4HSG2zg+evT38oc/PpllITgvul6/vdyG9/fa6/+SCT9MzRhobcH3Ae/niT+/oP9768ufV6G8cOrUGW3VQb6O/N1XmOXpmWf/Jhs3bckI8pzh2k03AkDXcghgcg+rshHXES3aRHlRSI3YOL8alqKjc3fwTX6DpkarxgBQ2+Nu5gn0vX/iiYd0PAPm0x52x4PmPd6h5garQeM1MDf3k0+9lG9mSEALjFVbgu5Ye/Ye8DswyK3rhppRa8VTZH4oNHkrLBUk6DZSM7aaFAp1rCOB1XKz+s5ZzzkTfzbg38+oUrWlbs9/y/lja2X3/JfMo75p0PdLiSxWSTZNGa59dun6c04XwNP3C49DlwzU0iOIf/6F13SGGF+MH/eV1pyj8P7BB59qhVB+kJ3fnqvcum4I+rBwn45xyGZ6Hqycrw3gumfVIm09B/lObrReM92kQGCQcI0UxCAhEHjdqFBohDS8/VsJjYiWCye3yJUrmWvt3AkNLypFYmrK5bP7ZNuMh82jlF8UxCAhEHjdCJhuUiAEXXcjIgou6WnJsmveC5KalCBFy8ZJdLnGPm2a0SUckD0LXjHPRERUMDDdpEBgkEBEed6l+N2yafKdsm5cH7+2bdMfkuSLjr6/REQFCdNNyqnQkjFl/QoXIyJ8X8iFrgqPiJALiRdk8+atOl+180JB3mAlztTUNF2MDc9D38XsrqKcH/G6ERVMmPUFfWF37tytg5lXrV6rM8X4omh0lI4N27Bhi6xctS5jIoqCgNeNiAKFYxKIiIiIiMiG3Y2IiIiIiMiGQQIREREREdkwSCAiIiIiIhsGCUREREREZMMggYiIiIiIbBgkEBERERGRDYMEIiIiIiKyYZBAREREREQ2DBKIiIiIiMiGQQIREREREdkwSCAiIiIiIhsGCUREREREZMMggYiIiIiIbBgkEBERERGRDYMEIiIiIiKyYZBAREREREQ2DBKIiIiIiMiGQQIREREREdkwSCAiIiIiIpuQGrFxV8x9n0RHx5h7+UOJEjFSv34juXTpkmzZsk5SU1PNezILDw+XuLhmUqtWPYmMiJS0tFTZtWubbNy0RlJSUsxHeVeyZClp3ry11KheS4qXKCnxZ07Lvn27ZNXqJXLx4gXzUb6pWLGK1KhRW/dTkpNl0+a1cvnyJb1NROQqKqqoNGrY3Eg3akloaJgkJSfJ1q0bZPv2zZKenmY+Kms8j2cNGjTRdH737u1y4sRR86h7FSpUloZGnlKuXAW9HX/2jKxbt0KOHTust7NSqFCo1KvXUBo2bCYVylcy8qQ0OW685to1y2Tf/t1y5Yrv2TfyN7yXIsY1gKNHD2neRETkSdAHCfXqNpR+/YZJwrl4GTv2C7lwIdG8x65Jk5bS5abeUrRotHnkqqSkyzJv/gxN3D0lyiEhIdKtWx9p2aKNZj6uko1C/oKFv8qqVUt8StiLFSsud97xf1K6dFm9ffHSBRk75gs5eeq43iYisiD9ade2i7Rte5NERESYR69KTDwn06ZP0oKtNzyP9/PAiOEjpVq1mjJnzi+yYuVi86gdgpG+fQZJrVr19bXtrsiBA3tl6o/j9XU9KVeuogzoP1xKlSpjHnF2RQ4fPmicY5wkJMSbx7xr366rdOrU3Xg/jg4E69avlOnG30xE5EloyZiyr5j7PomIKGLu5Q+1jUS6du16RiH7omzcuFpSUpLNe65q06azdDcK+JGRkXLi5HFZvHiuzDeCAtQSobBesmSM1KpZV9JSU+XQof3ms65CJtC7V39p2bKNBgC7dm+TGTMmy/Lli4zH79NapxIlSkpsjdraInD48AHzme7hfN269pGaNetIamqa3k5NTZGNG1b73RpBRMEN6UPPnrdLm9adJDQ0VA4aac5vv82Uxb/PkzNnTmkhs3jxklK3TkM5E39KTp06YT7Tjufxfh5AJVLLlm01CNizZ4ccPpI5LUeeccewB6Rq1Vhtgd68ea3Mnv2zbDDS72Qj/ylTpoK+Zs1adWXnzi2SnJxkPvMqtCIPHXKftoQjCPh9yTyZO2eabDDysFTjnGXLVpCYmFKClubt2ze5zdec4Xzdu/c18m+0kKdJoUKF5NjxI8brbzUfQUSUWdAFCUhUmzVrpTU9cXFNpEWLNhIeHqE18e6ChNjYOtKzRz9til2/frX88MMoOWIk/CiMo0kYtS2hhUKlSpXqxlZDa/LPnDlpPtsBzc8d2nfTxHfOnJ9l3rzpknDurJ7jpBF0rDcyh2LFShgJdWUjYS+tibq7jMFSp06cdOzQXbtGzZ03TSpXqabHGSQQkSt0b+zQvouxd0UWLZqjtcMnTh7TVlMUYtetX6HpItKfqlVryN59u9y2qPI87s+D9L1OnQZSvXpNbYmoUL6yBh7uggQc73frUM1/EhPPyw8TR8mq1Us1P8CGloodOzdr4b5MmXJStkx52bZ9o6Snp5tncHQL6ttnsHZROnBwr4wb95V2C0Laj5YHvO6Bg3u0lQKBQnJSsj7Ok7CwMLml9wApX76S7Nq1VfM3dINikEBEWQm6gcvot9mpYw/pclMvuaFlO4kq4uh/6Q4Sz7ZtOktkZGHZv3+PzJr9Y6Z+qWgZWLBwlmzbtkmbqdsZmQQScQvO0eqG9saxMFm7brmxrTDvuQrnXLZ8gWYaaJVA64YnqKnq3LmH8VrhRua1Ug4d3GfeQ0Rkh/SiVav22nd948a1smTp/EzdGVGbjZZNdE+Jji6uaRgKs854Hs/nQRdS5CedO/WQalVjM72Gs7p14owAoI6ec/acn922PKOlYtr0iTq+DMEEghBnqCSqXLm6nD+foO/LXcUQzrt12wZjL0THLCAP86Rli7Y6BgPnQ7dZ+19PRORZ0AUJqB1ZuGiWzP9tpm4oaKOG3x0k0JUqVdPxAkuXLdCE3R1kKuh7eunSRa2NQSJuKVOmvJGxFJP4+DOyZs0y82hmaNaOjz9tZDCFpHyFyubRzND1qVzZ8oJuT8uM90RE5En9eo2ldKkyWsOMigjXArAFadvKVb9r6yRaT9H9xBnP4/k8q4103cpPsJ0+bW9JtiB4aNbsRq1EOnBgj2zbttG8JzMU8tEtFZVMzZu11v8t1Y18CRVLGzeu8fhacPDAXuP9pkh0seKaB7mDMW033thB91esWOz1fEREroIuSED/TYwFWLr0N91279pma8p1FlujjrYOnDp1XBN1bzATxJEjBzUxt2YcAnRJ+uTTt+XTz97RIMATZE5WBoX+oO4gc2rWtJURtKTIggWz3DadExFZatWqqxUPBw/uy7IAiG4q6CpZpEgRqVqlhnnUgefxfB7MfmTlJ9guXDhv3mOHsWfoIoRKqc1b1nsMSCybNq3VCiqMTyhVyjFBBcyYOUX+9e7f5LcFv5pH3HPkKY7gpJDxN7rC8a5demtX1337dhvBzlLzHiIi3wRdkOArJKCVKjlqi5CBoAbJGyTI+81AomKFyl6bd91Bs3eUsRlnkhPHM0+bh9qnTh1v1sHTmKoVfUeJiDwpWrSYxMSUMdKmdJ+mskT3lmPHjhh7Idq/3sLzOHg6j6/Kl6toBBhRcvFiohw+nLmbkavjRj6ALkAISipXqmoe9R2CEnRzRWWSuwqlRo2aS2xsXUE3V3SZzSqPIyJyVWCDBMxOgfmikYGg9sgX8WdOabM0novNHzVr1pWSJUrpeg1Hjh40j17Vts1NUrlyVTl9+pQsWjzHeF/ea6GIqGCLMgqkRaKitOUR8+/7wprXH7XLVkUHz3OVu/P4CjMkhYWF6xgCXyaYQIsENrR0OLck+AKVSvXrNzb2Qoxg44hOzOEMAQQmvwgNLSSrVy/VlnAiIn8V3CChiKOgjylGfZ0xKNFI0LHAWmhYmIS5WQvBE0yJhzm6w8JCdWYj1wS7UqWq0rxFayMASZWFi2bL+fOe584mIgJ0UwkPi5C09FS5kOi+C4wrTAWN7jCahpn94Hmeq9ydx1dlypbX/7GuDjZfWC0AkYX9C0hubNVRW8LRSrBy5e/mUQe0kmNNBAQKWI9hxcpF5j1ERP4psEFCdiQnJUn6FffjGzxBgDCg/wgdQHby1IlMrQSoEcLMGUWjonXObG+D3YiIciIl2UjDPIzR8gfPExhY8dlfmE2vXbsumo+sXLk4U6UTWhji4ppq9yl0M0LrNxFRdjBIyEUIELAgTuXK1XR9hQkTvsnUSoBpWjE399mzZ3SgGrsZERGRO5j9rmvX3tqNaNGiubJs+ULzHgfkOR06dNOxCljd390UrEREvso3QcKNrTrIC8//0+P2l6dfk3p1G5qPzlpqWqquoBwS4mie9UUJDBQLu7pGgjdYnGfYsAd0aX3MqjFlythMy+fjPszhDZiCFYECERVMmNxg5Mgn3aZv1jZi+Ejz0Y5aaNR6h+CfhxnTXKGvPQqQznieq9ydx1dJlx1djJCf+JqnlDTyCV9YXYhu6txD95ctW+h2zYf27btJ2TLldAA2pu0mIsoJ31LOPAArJWNwlqcNaxikpPrerIoE/XLSZcFAs5Ixpc2j3hUuXEQX5bl08aLxmhfNo5lhJc1hQ+/X1TQxEG789//LtNQ/+rtiejos3oNVONe5WYSNiAqOK+lX5PKlS5nSNucNaZYFM+OkpqUYhdpwKeVjGoaBvBjseslpcC3Pc5W78/jKUQl0RaKionXLCvKAiIhI3cc6Op4gKMBCbh07dtOgYOHCOdqNyDVAwPo9jRo2l6SkJF3PAd2NiIhyIrRkTNlXzH2fREQUMfeuLaxHgNoTTxtqTdytU1CmdDmpV6+RDiTbuHG1BhuAgKJ2rXqCWSWQmPoyFqBxoxbaNej06RMe55xG68DgQffooLnDhw/IxEmj5dy5BPPeq2rWrCetW3c0go4QwVzZ6EeK87tudevG6axIoaFhUqFCJWkY10wKRxZxO0MSEeVfSJPWb1jlNn2zti1b1puPxkru6VLfSNswq84pI03Kaq0XaGOkOUjzsML8jh2b9RjPc5W787hq0qSlthRjXYXDRw6YR428MTLSSK8baVCye/c2DVK8wTla3dDOSNtDZf36lfoeXSFA6N69r9zYqr2kpaXL/PkzZfkKexcjS6+et+nYt6TkyxJTsrTb/AQbpvBGhRe22rXra3BxxPg7EFwQETnLNy0JuWH37h2CKVArGIkm+nJ6gwQ1NtaxiNq+/bvdjh3AKp1Dh9zrmFXi4F75YeIoI6NwP1NRqDZ/o1m6kD4PC6m526pWjdUaJ2zYx7Fy5Ss6TkJEBRYqPpDOABaGzGo2HhQgkdZh9h6kYRaex8HTeXyFiqyEhDNGXlFYXy8rNWPr6krJmKHoiJspShEg9Ox5u45bwyx8c+b8rKtCe2It0lk0KjpTPuK8IX8C/I/bWBMiMsK/2ZWIqGDINy0J2eWpJQGSk5O0Br948RJy4eIFr4O8GjRoIk0a36DnwQxFroX/KlWqy6CBd2uwgYV7Jk0eo12gPDl37qxs2bpe1q5ZLmvWLPO47d6zQ9dYwPL7U6Z+J0uWzNeF1pz/DiIquOrWbajdFk+eOOZ1VWHMioOaY3SLWbRotqZ/znge7+exeGpJwGJlpcuUk8qVqklRo/CP1mlP6TRaG7p166OtHLt2b5MNG1ab9zigW+stvQdI82atjHOkyIwZk2TDxjXmve7t279L1q9f5TYfcd6w4FvZshW0VWrq1HHainEm/rTbii8iKtgKdEsCMgwsn48aGwyMRo2+Oyj4O9Y5CJPtOzbLkSP2rj41atSWgQPvMjKiaM040IKQVX9QJPx4fcx65G1LOHtGrpj/sI9j7lbXJKKCZ+/enbLfKByi0Nmpcw+PLaLWWiwoCK5dtyJTJQfP4/08vkIhHN2MypQuq+MIkLe4Y61zgMXUVqywDzDGe+3bd5A0bdpS0AXo518maD6VFXRrdc0/3G3JZuCC/3Eb+VB6epoeIyJyVqCDBFi2bIGcOHncKOAXkwH9h0usUeB3Vr58JZ2lCE3RSFBRw+QMTbZ9+wwy1znYKpMmf6sBABFRbkOhdsHC2ZKYeE4nSsB4KKRZzmrVqieDBt6ladS+fbtl9eol5j1X8Tzez+MrFLhR6Md4CLQ4oDUAXVUtaCHAujgdOnTV94bHopuSsw4dukujhs3k8uXLRoDwgy7ASUR0PYTUiI3zq40xOtq3KdvyCkyL2q/fMEk4Fy9jx37hthYeTceDB92tg46RcCNDwSDomJjS2kyN2iBMTzpx0rcZy/ZbkPEMHzFSV3D2FQbQjTHeiy+s88PYMV9ooEJE5AzdHfvffqdgCk/UCicknHXUaBvpR5Q5Yw8mUpg8ZYzXWnKex/t5ANPQVqtWU+bM+cXtNKPIL9q2uUlnI8KEE6g0OmWm23g9tBTgPaxes0zPgTzH2S23DJRmTVuZt7KG8//003ht5faFdf5161fK9OmTzKNERJkV6DEJFty3ZesGI/GOMBLxckamEa2BQ2RkYUlLS5X1G1a7XecAUPuEGiM811c4zwbjvfjCOj9sNN6Hv9PyEVHwQ1eTLVs2GOlWSa3cwJoLSMOQLqHLCubUnzZtkqZ13vA83s8DnsYkODt4aJ8cMYKO8uUrGoFJcQ1O8D8WQYuPPyM//jhOgwR3MNsQBlD7Cq0WaG3wNt7CmXX+Y8ePaOs3EZEnQd+SkB0YyIzZHrDgGloQXGt6iIjyKtRkoxtkWGiYToeJAnJ28DyBgZYDDFAuFFJIzp1P8CkQISLKCxgkEBERERGRTYEfuExERERERHYMEoiIiIiIyIZBAhERERER2TBIICIiIiIiGwYJRERERERkwyCBiIiIiIhsGCQQEREREZENgwQiIiIiIrJhkEBERERERDYMEoiIiIiIyIZBAhERERER2TBIICIiIiIiGwYJRERERERkwyCBiIiIiIhsGCQQEREREZENgwQiIiIiIrJhkEBERERERDYMEoiIiIiIyCakRmzcFXPfJ9HRMeZe/lCiRIzUr99ILl26JFu2rJPU1FTzHruSJUtJ8+atpUb1WlK8REmJP3Na9u3bJatWL5GLFy+Yj3IvKqqoNGt6o9SoUUvKlCkvly5flOPHDsuKlb/LMeN/XzRo0ETfgz/Onj0jW7duMG8RUTAKCQmROCN9KFq0mGzdtkHOnz9n3uNIexrGNZPLSZdk8+b1kp6eZt7jWaDP5+05FStWMdLF2nLo0H45eHCveTRnChcuIo0aNtf9TZvXyuXLl3TfVXh4uDRu1ELq1WskZctW8CtdLlQo1HheQ02Xy5erKKGhoXLy5HF9va1bN/p0XfB34+/3x4ULiV7zqQoVKuu1Lleugt6ON/KAdetW+JzPEBH5I+iDhHp1G0q/fsMk4Vy8jB37hSbCzpBhduvWR1q2aGNkBGHm0auSk5NlwcJfZdWqJXLliv1S4bnt2naRtm1vkoiICPOosyuye/cO+fmXCVkGGiOGj5Rq1Wqat3xz4MAeGWP8TUQUvIoXL6npA+D3fu7cWd2HRkYhuM8tA2XHjs0yZep35lHvAn0+b8/pf/udUtdIg6dNnySbNq0xj+ZM2TLlZfgIx/sfO+YLOXnquO47q1OngdzSe6ARCEWbR65COo73ivfkLsBAOty3zyCPlTYJCfFGmv6Dpr/e3GJck2ZNW5m3fHPq9Am3+RQCMbynWrXqa75jd8V4L3tl6o/jJTHxasBHRJRToSVjyr5i7vskIqKIuZc/1DYS1dq168nFSxdl48bVkpKSbN7jKOT37tVfWrZsoxnHrt3bZMaMybJ8+SI5dGifZhIlSpSU2Bq1JcUIFg4fPmA+06Fnz9ukTZvOWst00Hj8r7N+kiVL5mvtPgKO0qXLGls5KV++kmzfvknS09PNZ2aWkpqitUFovchqCzNeDy0kyKw2GH8TEQWvqlVjpUmTlnLKKAyvXr3UPOqAmvKqVWvIRqMAjtp6XwT6fC1atJHKlarIhg2rbWlkZGRhad26o4SFhcuyZQsyFXyzq2qVGhLXoKnW5m80XtO1AqZ+/cbS79ahUqRIYTlx8rjMmz9dFi6YZUuX0bKAdHnbdrQKXE2Xa9duIAP6D5fo6GKavv6+ZJ7MnTNN1q5bYRTAz2tLcbFiJaRmzbpy4OBer4XylJQULfS7S8NdtyQjWMG5L166kCmfKlasuNwx7AH93HDOzZvXyuzZP+v1TjYeV6ZMBSlVqozUrFVXdu7cIsnJSeYziYhyJuiCBBSemzVrpbVBcXFNNAMLD49wm/iiKblD+26SlpYmc+b8LPPmTZeEc2c100HT8nojEUaGULFiZYmJKa0FfSsBjo2tI5079TCCC9HnzZw5Rc6cOaXPxTnw2NOnT2rNT+nSZYzMJFGOHj2kz3UHGTYCk6w2PK5F89Zas7Rm7XLjmG8ZORHlT6iJR2XH9u2bZc/eHeZRRyVH+/ZdpHDhKFm5crF2P/RFIM+H57Rt08nxnFW/256DwnirG9prS8XKlb8b6az7LjRZQfcidOesXqOWthAg8ED6h4oV1yABBepb+w4x/i8mmzavk4kTRxvp7mFbunw2/rRRyK+nlUCnz5zUtB7wOo4WhBjZvmOLfDfuS62hx3MR4CAoQFcgBAgxxnOLG3nDli3r9bnu4Fq4S8Ndt8OH90uTxi21oL/DKOQ7nxPXFwEP8jMEKT9MHCWrjMAOfwu23bu3G8/ZrF2bypQpp60sroEPEVF2Bd3A5QrlK0mnjj2ky0295IaW7SSqSFHzHruwsDDNwMLDw2TtuuVaU+QKNVXLli/QxBkZBzJWQMJ9Y6sOWlO22cg0kDm6s23bRiMR32Y8vpD2bw0EBDbIDM6ejdcaJSIKbhUrVNaKjOMnjppHHFCBge3SpQtaQeGrQJ7P23PKlasoERGRejwp6bJ51H/FootLh47dNE1v26azVgR50rRJK62UOXbsiMya9ZPWvLvasnWDjo9AHtCoYTPzqGhf//LlK8qp0ye10sfdczF+Y+nSBXr9KlSsrAX7nEIBv0qV6sY1vKjjC5zVrRNn3F9H38vsOT8bQUXmSqFTp07ItOkTtesUggnkEUREgRB0QcKx40dk4aJZMv+3mbqtW79SE3RXaNpFk3J8/BlZs2aZeTQzZHDx8ae1oF/eyFwBXZO+n/C1fPTxmzJ79k96zBOr+T26WHG3/WP9gUwN3QEKFSqkNU7OAw6JKPigIgIFUbRgnnAp1ON4kSJFjXQgQTdfBPp83p5jDfg9msNBtecTz8niRXMz0vRlyxbqWDFX6EqEwvbly5e1G5WnAc1Iv/eb4wlKlCyVUZG0es1See/9V92OCXCGwc9JyZclIjxSypQuZx7NvsaNW+jnglYF59ZmVEY1a3ajDsDG+AdUOnmC4AHdZZFHNG/WWv8nIsqpAj9w2RfWoGIEHNOnTzKP+gZjFrp26a2D6zDIDt2essv6W5KSLsnY777U7kxEFFxQaOza9RYtJBYKKaQFyCtX0o3ffZJcMf5ZQguFGvdFSkpKqqSkOgrNp0+dkImTvtVaaUugz3fbbXdIbGxt3Q8zCuZoLUBNt/UcS3hYhLbU4nXSzNmA1q9fJfPnz9D97PJl4HJW0BLcvXtfjwOFvUELyfA7/08L4lOmjpNdu7aa9/gPsxUNHXKvcZ0iZfKUMbJnz9XuX+jiirwnKirap4Hf6AY1oP8ISU1Nke/GfZUpCCQi8hfXScgCav+jtAXgipw47l+ii0y5uhFcwKmTx3MUIDjXKu3avZ0BAlGQqly5uhQ1Coao4UY/eS3cGwX4IkWi9Ji1obBvpAyaJljH0K3HuUAPgTwfjmH6Tet+BAjg/BxrwzGcD+fF7SLGa2M8QF5Qpmx5/T/x/Dm/K44wcLpw4cL6vJwWxBHAYSraI0cOZJotCS0x+IwuXkzUcQtZOW7kT2jNKVKkiFSuVNU8SkSUfWxJyAIS8d69BggGPKOL0ZEjB817vENGjOlRO3bsprVsk6eMlb17d5r3+g8DpTHrBgak+fM+iCj/6tixu3Ts0F0WLZ4jixbNMY86uh6OGP4H7e6D9MB15jVPAnk+b8+pXLmaDB1yn3bXHDP2c4/z/mdHTlsSMGD5zjse1HFmCxfOkcW/zzXvyRq6M6G2Pjo6WpavWCxz504z7/EfBnbjfaC71i/Tfsg0CNpq7Th+/IhOVevLuA6r1Rsz9M2dl/33RkQEbEnwAjNloKAfFhaqs2J4m50Ig8WwXgK2Ll16y4MPPCGdOt0saWnpRkY0O0cBAlj9VnEeb++DiIIHBhmj+8jJE8fMIw6OAcPFtdIDkxj4KpDn8/accmUraNclDKoNZICQU6i8ad+uqwYKJ433tn7DSvOezNCtyErT27fvKsOG3q+FegQImP1o4cJZ5iOzp0H9Jnr9EARg6lJXVmsHggNfB35blWCRhdEqRESUMwwSPEDijRoj1PYgM0HNm+tias6wGBtm37Bm4ChrJPAYXDdr1o8eZz/yVaVKVaVWzXp6PqyL4O19EFFwQBcdDKzFXPiu3Qux/gq6DqF7yYUL582j3gX6fNZz8HjX52CSBxTI89JKwHg/qJlv3Li5pqVoSfE2+QNW37fSdEx3jT7/GIi9adM6mTp1nLYQZxfyF1T8IC3ftGltjs7lLIlrJBBRADFIcAMJOJrK0WSOpuwJE77xmpnA4SMHtZbf2rAQT2RkhK66eUvvAdoHOLsaNmymfVPd9VslouCEGdGiixbT2mGrhtiCaZCx/ssZP/r4B/p81nMwZagzFMbLGveh4HvWSAfzArynnj1v12mxU1PTZMaMSV5nC4L4s6dtaToCHhTqGzVqLvfd+7DXqVizUrdOQ+3udPrMKV3XgIgoL8o3i6mhf+Y99/zJ0afWzYZZhDATh2sNGaaoq1evkTbXui6m5g4S/qFD79fmcpwLM05gCtSsYNVM1AhZGxYPwvoK1avXNoKNqhIeEaEZjb/QkoHZkRBkLFw0WwenEVHwi42tKw3qNzYKp4d0ZjVnWFwMA4jXr1vpc219oM+HdWbKlCmb6TkYiNuyZVstUC9fvtDjVKQYL3b/fY/JTZ17uk3TsSHdPnzEPj4Cg7CxYjS4W3HZFdJOVNQ0b9ZKA5e5c3+RDRu9zxQEGE/hnKZjLZ1t2zfpugZoKa5WNVa2GoGGv92p0PrSs0c/nYJ71aqluiCaO9Wq1tQxEFiMbqMP7xfwmaArFaYC37kz+7MuERFBvgkSkIFVrlJNV9l0tyUnJcn2HZsyFej9CRJQMzZk8L36P2atmPDDNz4FCJ4g40QNVvXqNTX4QKLtKcP0BIl+7dr1ddXQBQt+5UqaREEKA4EbNWqh3VqqVq0hdYzfPSoJ0N+/WPESesza6tRuoDMLoSICfecd6wNcshWYA30+59XskaYhXcIMRtZzrHPVqF5bC9JIa5FeVTbOhfQblS7Oa9bgfLE16uj0qO7SdGyYEtQ1aPEnSMD769NnoDRp3MLIA5JkxszJPhe43cFrYUxYnbpxuupygnEtfQ2qLBi/1qTxDUbhP0HmzpvuMU8oXaqs1KpVV4MQBCNZVXDh827evLVgrAgWjONq/ESUU5zdyIRMbtDAu7QWBrN0oAUhEIuV4byOObXD5aefxhuBzGbznqyh2xNmD0Gz9KxZP+tiP0QUnFCAHzHiD1oI9hcKwJMmf6stmpZAnw9ddXr0uNXYC3Ec8IM/M/RkxdfZjRAgIO2vZxToL166KNOmTQxI7ToqfjCLUNWqsX6vnYOC/J13/J8GYRirNnv2z+Y9mSHQGjjgLsGaFr7MOGWtq4CuqT/99L22ehAR5QSDBEPFilU0QEANzIGDe2Xy5DFZNmH7Ck3vSLiLFy/pd5CALlRdbuopJ08e1wzW31YIIso/UKhFOoEFz1DQ69t3sFYu/PzLBJ3P31K9ei1dHO3goX0yxyxkphsFSawen24uWgaBPp+uGVPEsTqxu+dY0E2oXr2GsmDB7IxZe7BCMWrOA8GXIAF/OwrYNWvWkQtGWv7jj+NtAU9O9e0zWFsz/A0S/FkQE92SkHegFcaXqVpbtmirQVxCwlnNL9BNiYgoJwr8wGXU6AwedI8GCMhEJk4cnWWAgIHEf3n6NRk58knNOL1BK4DjMVckzY+uQsggGhmvg1qrbds2MUAgCnLoL49CIwq96IKDNAAFvYMH9+oxaysSFaU10oeMArp1DM9zLtBDoM+HChZvz8GGwb4ITNASsf/A7ozjgQoQfIG/E2k6ulklJibKpEn2FhF30PXpDyOf0nQdBXlv8HejSyr40/0Tabm1IOa+/bu9BgiANH+/TlQRInENm3rNa3BODKgOMQLCQ4f3M0AgooAo0EGCNucOvEvnvUbf1x8mjvKpMI4MBy0TZUqX1anxkPi7o5lC0xs100K/3ePHfe+7in6ryIhQm+dtLm8iCj7e1hnwtNaBN4E+X6DXbwiUqKiiMmjQ3Zq2YzpXpOm+9M3HbHRoFUFhu1PnHv/f3p0ASVnmdxz/wxzAzDDcDMxyjYDAAKIgrFwqqASBRcULxfVYs7quVzaJ2bU2W0nVViqVqlQ22WSNQfEmou56geIKeADhRrkFucHhvhnmHibv75m3sd+Z7qGnaYQevx/qLbrfft+337en6+3n/xz/x11DND175ls77/PU51ifbHM6J1VKaQbrFSsW+Wvr9sUXS9x1nO23ZsjgkZab28n73E/asmUL/bUAcG6+t0GCxh5MGH+b66+rfqrqfxtrrmr9AGqCtLKychswYLD9aMLtLhAIp4wa11471uXkVp/SNWtW1hrjoB8MDTSrua9qqvr3G+iOsWXrxoSMjQCQPDrmdnYFwpqDYkNzHSgfvmroY5XI46lGu2WrNhH3iWe+hURSFiNlHVJN+htvvlSviScXLJjjrkfdmSZPftBycnL9V77VvXsvGzNmogsmCgp2nulOFRLtni6hCTE1W36s56XWBhX61WKh7k26vvBj6zdC8ziMGDHaZZPStvUdSA0A0XxvxySE+rWG+tjGQrVG6usZojED11x9g6WkpFplZYXLMa6+vsodrgHL6enp3lZVtm79Kps9++1AEKLXNXunar7Wrf/SDTQLyc8f4Pq8lpQUnbXfKoCGRZUESljQunXbWgNWNXeL5nBRzXesA4ETfbzQPkoR+tr0/wm0TLjUpSOut6VLF9i8Tz7w1yZWXWMS1Idf2ZdiVVR8KnCM8PFpKnQXFp44c/9t672vWp3V/UfrVLGklpmQuu7pmhBTn5l+K5QUQy3XsVJwN/Sqa73P9jq3v35HDvnnq3NSwKKuYSu/WGJz585y5w0AifC9H5NwLpYs+dwV4lUzpBod/Xjl5fV0tUnp6Wl27NgRmznrjzZz5pu1WinKykpdc72CiPDB1PpBUCuCfthj6bcKoGGpq8tOqNuQ5kuJNVNQoo8XS9cl1bInI9XwT3vh9y5dtip+9Nmpm5AWzWugsRbqKvTyK88EAgSJdk+X0ISYSq1d3wkxVehftPhTN6mn9tdvg4IZLWlpqS5N9xtvvOgyJREgAEikBt+S8F1RbU4ok4iohqrmD0VNarZX03HNLCIAgAtLFTbqlpqakuqeV3hBgyp+6iqIfxf39PDfmhMnj8cc3AFAfREkAAAAAAiguxEAAACAAIIEAAAAAAEECQAAAAACCBIAAAAABBAkAAAAAAggSAAAAAAQQJAAAAAAIIAgAQAAAEAAQQIAAACAAIIEAAAAAAEECQAAAAACCBIAAAAABBAkAAAAAAggSAAAAAAQQJAAAAAAIIAgAQAAAEAAQQIAAACAgEbd8vKr/Mcxycpq5T+6ODRq1Mjy+1xm2S1aWWHhCVu/frWdPl3pv1pb06bNrF/fKywtPd1fE52Os3HjOjt+/Ki/ploL77169+5njRun+GuiKy8rs3Xrv7SSkmJ/zbe0f69efa2Pd/457TtaSkqKHTy4323/1Vdr67yObt16WMeOnfxndTt27Ih3vDX+MwDJQPeFli1b29atm+zAgb3+2tpi2S5035No9yMJ3duKi4ttw4ZVVlFR4b9y7hJ9DqF74N6939iOHVv8tbXFul08En0OifxbxutCfJ/O5/cOQPxSWrZq94/+45ikpzfzH10cevfub+PH3WZdu1xiGzet8wrZ+/xXImvVso1N+NHtdmnPfMvzbtx1LZ075VlBwU47fPigv3e1bl2725gxN1n37r0i7he+dMztZJu8QKOo6JS/d7Uu3vnefddf2hWXD7G2bdtbs2YZ1qRJU2vduq317tXP+vcfaPv3760VoIQMGzbKhl51TcT3rLlkZmTamrUr/T0BJIOxf3GTXT5gsB05csgK9uzy19YWy3ah+16XrpdEvB+FhO5t7drleIW11VZeXua/cu4SfQ6he2Dl6UrbvPkrf21tsW4Xj0SfQyL/lvG6EN+n8/m9AxC/pO5u1Lx5to0ceb0XuKS7G8vGjWv9V6JTITwtNd0KC0/awoXz7NPPPoq6zF/wse3bv8ff81uq9UhLS3PBQ6T9wpeFC+bZycIT/p7VevToY7ffdq+rrVEQMO+TD+y5535nz0/7D5s/f46dOlXo3uPmm+6K2lrQulUb97+uOdL7hi8rv1jitgWQHDIzsyzDW84m1u1C972z0T0pLS3Vf5ZYiTwHtSC38rY7m1i3i0eizyHRf8t4XKjv0/n83gGIX1J3Nxo79hYbeMUQO3jogM2YMc1OngwWxiPp12+gjR93q2sheG36VH9t/SgwGTnielu1erl9+OGf/LWxUTOtWhA6dMi1TV9vsPffn2Hl5eX+q9UU/Eye/KC1a5vjmnzffOslq6r69s+Umppq90x52Nq16+D23/T1ev8VAMkq1M2jcePGlpfX0zp36uYKmHPnzrJlyxf6W8W2Xag7iLpV6rG6ZKrioaj4lE1/bap3z9zvtgt181DXR9138vMHWEazTDt0+IBN9+6PqrCIV6LPIbyLZedOXd21p6Sk1roPx7pdPBJ9Don8W8brQnyfYt0OwIWVtC0JPXvmu5tWWVm5LVgwN6YAQTKaZbi+/6dPn/bX1F/z5i3c//Eco2/+5ZaT09G7GR60jz56p1aAILqWxYs/t8rKSuvQ8Qeu1iacuiWlN2niPaqyynO4DgAXj0EDr7JR1461a64eY10657mCWiSxbNc8K9tGjLzObaduLiqURdIhJ9euHjnGbXfloGGuoJYoiT4HFSS1jRa1xqrQHUms28Uj0eeQyL9lvC7E9+l8fu8AJE5SjklQk+iECbdbdna2rV37hS1ZOt9/5ez6XzbI1fDs2Lk17v6pg68c7mpe1q9fVWdf4Ug0cG358v/z9v2yztqSKq/wn993gKWnNbHdu7cHxkVkZ7ewQYOG2umq07Z82cKE90kF8N0rryi3ffsK3MBWLdnNW1hGRqZt2/Z14D4Ty3aqwCgpLrZd3r1D2+zft8fat+/o7hlr16w8c8/QANFTRSdt585tbjt1f1QLpQairl278pz6hif6HFShoppmbaMlNSXFFVbVJTT8Xh7rdvFI9Dkk8m8ZrwvxfTqf3zsAiZOULQkjR95g7dvl2IGD++3z+R8HuuKcTapfo1NaUuL+ry/Vsqglosq7OcZ7IystLTlrc2qjxo2tkfcvUmuBaqUaN2psld6NtqKSLBBAQ6AMZIsXf3ZmOXXqpP9KUCzbqbC1YuWiM9uo4FVRWbvVUoWzpUsXnNlu65aNcbWQRpLoc1BhMrSNlsNHDvmvBMW6XTwSfQ6J/FvG60J8n87n9w5A4iRdkBDezUg3mZycXBs69Fq75JJLXQvD2bRsWd1MevLkcdcfUn1HNcZg0qR73P96rvXRqIalmbdUVFS62hMNYO7Vq5+NGnWj3XLz3e5ccnM7R+0qECv1C23atKkLJmqmodMguNTUNCstK/U+h1LXp3PgFT+0cTdOcoseax0AAAAQj6QKEjRgauSI61w2Iw3enTD+Npt8509cv0b9/+QTv7ZHfvaUS/sZifrya6moKLeWrVrb44897QYRaxCy0o7qfz3X+ssuG+TvFZSe3sSaeIuOoTSmTz7xG7vVCzDUT1MDwHQu99/3qDsPvR6PTp262vDho12goUHJJ04c81+ppkAlNTXFzcGgwduPPfq0+//yy4e4JbTujtvvc9sCAAAA9ZFUQcKQwSNcViBRAfrwkYMu+8KChXNt+/bNVlpaaq1atbE77rjfhg0dVas2X4FFireoFt4NlvIK0Jq8bPGSz12q0DVrVrhsDWqRuNEraF/lFfxrUnclHUPzGgwePNwV1r/5Zqc7Bx1DKUnLvMK7xiwozalaGeqifp1qfdCiwEDBjgKVrKwsl/1o/vyP/S2/lZaW7l1bYze2otelfV1rQigVqs6joKC6H2mPHn3csWhVAAAAQH0kTZDQpk07GzDgSu9RIzeD8MuvPGNTp/6bS9Om7Eavz5hmf3jmX9xgYo0ZUIG7d+/+1Tv71BKhwr0oGHjnnen23PO/s08/ne36Rc764I/27LP/al9v3uCOMcwruKtWP1wLr/Cf5gUZovN45dVnveW/3TnoGG/7x9yzZ7drtbhu9DgXMESjSWTU+qBF2SXUbUrvvW7dKnv33dfdALiaWnufRbUqd666br2v3l/noc9G16ZrVBBy3ejx59z9CQAAAN8fSRMk9Ol9masRP1VUaO++97orhNekwVXvz3zDZY/QWIHhw0a5wCAkNOBXmRXmzfvAzdBck44xe/bbLkWp9h048Cr/lWrKUqECd+i9Ip2HBmV99Od33QAwjYHQGIpojh477FpBQouyTGggdr9+V9gD9z8aMdVcaPB1QcFue8/7LHQuNenaliyZ7wZYK/d1KGc3AAAAcDZJESSoUN61q/r3N3IBQKSCeYgK2JphWF1+WrRobR06/MB/xSuQHz3kav1V079u3Zf+2to0WHjD+tXeoyq3f/iA6O07ttiLL/6XPT/t3103o2hU2Ne2Omede7SafF2PWkFCywsv/qebeVkpT9UKoPEO4YGOaCZozdA8440XIrY0hCjN6rFjR61Zs2ZuIDQAAAAQi6QIEjIysiwrK9tNLrZr13Z/bXT79++xEyePWZMm6da2TXt/bXXuahW+jx49fNa0qQcP7vO2r3DjFsInelH6Us0ueeLEcX9NdPv2Frj/M7Oa12sA8aFDB2zmrDddq4kmXutTo9uU3lvnoHOpiyZlUxYnBSpt2n77OQAAAAB1SY4goVmGNcvIcHmUy8tK/bWxaOSmmo9HUXGR936V/rP4lJQWx30MTbp2xAto3ADl3M7+2vor9q4DAAAAqI+kCBJUYC8uKnKZhGKrkdc0ZNUTkcU7QUum9z7Vk6Z5x6iK7xhqAdGcCzpG1enYJ3wT7XP06BH/WXzUxSn0eTFRDQAAAGKVHEFCUaEVFp5wteqdu+T5a6NTF53mzVtYSUmJ7d33jb/W7KaJk+3pX/2zjRt3q78mOr2PUqUWnjzhvXf1DJSan+Geex62X/3ynyKmRw3nxlH48yQcP3bEZRrSIOSHH/obe+pvf+tSl9ZF6Vrb+l2Ewgv4yrb05JN/7+aECB9vEUnr1m1dSlgNXt6/r7rrEwAAAHA2SREkqFZ967avXWH30p59a6U2DaesRprYTAV69e3X+IQQzSWgzEb5fQbUeQxlAlI2JbVEbNq0/kzffw2G3rJlowsANGdDXRmDND9C58557v3WrV/l1inr0e5vdrhzvPqaMXXOX6CZpdu16+D237Vrm7+2ekD0wQP7LDOzuUubqmNFonP84ZCRlpXV3A1e3rJ1o/8KAAAAULekCBJk1aplXoF/ryv8jx17sw0YMNgVhMNpcPOddzzgsgmpYK+JxVTIDtGcAsr4k56eFvUYubmd7Zab73aF64NekLF6zXL/lWorVy6yHTu2utcn3TIl4uzOmr1Zx9e57t693TZ77xuyYMEcN+i4Xdscmzz5QcvJqZ4cLlz37r1szJiJLgAoKNgZ2F/Xo0nT1LqRl9fDbp30Y3fd4dTFacwNE92s0WqF0GenQcwAAABALJImSAjNS6ACtrINjR93q/3Vk7+xe6Y8ZHd5he1HfvaUPfboL61LFwUIpTb7o3fcvAPh1CIxZ+5M27ZtsxsMXfMYP3/k7+y+e3/uJj/TRGnvvTejVuFaGZJmffCWHTiw13UfuuuuB+2Jx3/tZjbWoseTJk1x56iZj7VteJpSHW/WrLdc1iEFCj954HF7/LGnA/vfecf9lpmR5TIx/fnj92qlOdWgZq3XdWryNV33T3/6C3cN9/74EfvrX/yDDRo01G2rdLBLls53jwEAAIBYJE2QIOo+9Oqrz7qZhZW1R7MnKyjQZGHqey87dmyx16ZPtQ0bNM9BbSpwv/nWy/bZ5x+7+RDCj6HgoLKywtauXWkvvfwHFwhEooK+3mPFikWuoK5WhW7derhFj7Vu0aJP7X9ffy5iDb4K+dNe+L17H72fxk/U3F/H1szJuuZINm1a585B1ysKOHQNGrOglhKleX3n3ddtzpyZLjgCAAAAYtWoW15+vUqQWVm1ZwC+ULKzW1iT9KbusTIQKRtQfVOOnusx1F1JwUVoFuQKr9CvVohYC+bnur+oW1J2dks3m7RokLQCIAAAACAeSR0kAAAAAEi8pOpuBAAAAOD8I0gAAAAAEEB3IwBAVD179rErBw3zn8VuxcpFtnnzV/6zi0eTJk1t9Ohx1rJF/X7Ljh0/ap988qGF5s25mCh19/Bho90knPWhv4/+TgAQCUECACAqTRx5/fUT/Gexmzt3li1bvtB/dvHIzMyyKVMesrZtqme0j9Whwwds+vSpF2VSCM3gP3Hi5KiTa0azavVy+/DDP/nPACCIIAEAAABAAGMSAAAAAAQQJAAAAAAIIEgAAAAAEECQAAAAACCAIAEAAABAAEECAAAAgACCBAAAAAABBAkAAAAAAggSAAAAAAQQJAAAAAAIIEgAAAAAEECQAAAAACCAIAEAAABAAEECAAAAgACCBAAAAAABBAkAAAAAAggSAAAAAATUO0ioqqryHwEAAABoiOodJJw+Xek/AgAAANAQESQAAAAACKh3kFBZWe4/AgAAANAQ1TtIqKgoZ1wCAAAA0IDVO0iQ8vJS/xEAAACAhibOIKGE1gQAAACggYorSFCAUFZW7D8DAAAA0JDEFSSIuhzR7QgAAABoeOIOEqS0tMgqKsr8ZwAAAAAagnMKEqSk5BQtCgAAAEADcs5BgqhFQQuDmQEAAIDkl5AgQdSaUFR03MrKyHwEAAAAJLOEBQkSynp06tQxKykpdIFDZWUFQQMAAACQRBp1y8unBA8AAADgjIS2JAAAAABIfgQJAAAAAAIIEgAAAAAEECQAAAAACCBIAAAAABBAkAAAAAAggCABAAAAQABBAgAAAIAAggQAAAAAYcz+H8veqk69zvgGAAAAAElFTkSuQmCC)\n",
        "\n"
      ],
      "metadata": {
        "id": "Qhc8ft7SEKym"
      }
    },
    {
      "cell_type": "code",
      "source": [
        "i, j, k = int(input()), float(input()), int(input())\n",
        "\n",
        "# fill = '0', align = '=', sign = '+', length = '10'\n",
        "print(f'{i:0=+10}')\n",
        "\n",
        "# fill = '#', align = '>', length = '10', precision = '.2f'\n",
        "print(f'{j:#>10.2f}')\n",
        "\n",
        "# binary, sep = '_'\n",
        "print(f'{k:019_b}')"
      ],
      "metadata": {
        "colab": {
          "base_uri": "https://localhost:8080/"
        },
        "id": "MthhcJcICB0y",
        "outputId": "fcaedba2-06fa-423b-a122-ec4a94de46c2"
      },
      "execution_count": null,
      "outputs": [
        {
          "output_type": "stream",
          "name": "stdout",
          "text": [
            "102\n",
            "3.1415926535\n",
            "1127\n",
            "+000000102\n",
            "######3.14\n",
            "0000_0100_0110_0111\n"
          ]
        }
      ]
    },
    {
      "cell_type": "markdown",
      "source": [
        "Необходимо написать программу, которая будет считывать со стандартного ввода строку, далее будет приводить ее к нижнему регистру, а также будет заменять символы “!”, “%”, “#”, “@” на пустую строку. В итоге нужно будет вывести в первой строке число замененных символов, а во второй преобразованную строку."
      ],
      "metadata": {
        "id": "bjeIG_TVJtMq"
      }
    },
    {
      "cell_type": "code",
      "source": [
        "replace_list = '!%#@'\n",
        "replace_counter = 0\n",
        "result = ''\n",
        "\n",
        "text = input().lower()\n",
        "\n",
        "for c in text:\n",
        "    if c in replace_list:\n",
        "        replace_counter += 1\n",
        "    else:\n",
        "        result += c\n",
        "\n",
        "print(replace_counter)\n",
        "print(result)"
      ],
      "metadata": {
        "colab": {
          "base_uri": "https://localhost:8080/"
        },
        "id": "eZHFCrzuI56L",
        "outputId": "1ac977a1-66ef-4328-f948-f87d2e6ae548"
      },
      "execution_count": null,
      "outputs": [
        {
          "output_type": "stream",
          "name": "stdout",
          "text": [
            "Hello World!@#%\n",
            "4\n",
            "hello world\n"
          ]
        }
      ]
    },
    {
      "cell_type": "markdown",
      "source": [
        "# 4. Коллекции данных"
      ],
      "metadata": {
        "id": "NB8mUM-tsJHn"
      }
    },
    {
      "cell_type": "code",
      "source": [
        "# При создании кортежа с одним элементом\n",
        "# стоит добавлять после элемента запятую\n",
        "\n",
        "print((1), (1,))"
      ],
      "metadata": {
        "id": "rSHxgUEzLCyT",
        "colab": {
          "base_uri": "https://localhost:8080/"
        },
        "outputId": "f79f6acd-885d-477d-b3ef-12e72232ed72"
      },
      "execution_count": null,
      "outputs": [
        {
          "output_type": "stream",
          "name": "stdout",
          "text": [
            "1 (1,)\n"
          ]
        }
      ]
    },
    {
      "cell_type": "code",
      "source": [
        "a = [[0, 1]] * 3\n",
        "print(a)\n",
        "\n",
        "# Иногда изменение элементов в списке может выдавать\n",
        "# неожиданные результаты\n",
        "a[0][0] = 10\n",
        "print(a)"
      ],
      "metadata": {
        "colab": {
          "base_uri": "https://localhost:8080/"
        },
        "id": "3rYRGxsmDvtP",
        "outputId": "09616c49-1b0a-442c-eb28-ef25c1a1dfd4"
      },
      "execution_count": null,
      "outputs": [
        {
          "output_type": "stream",
          "name": "stdout",
          "text": [
            "[[0, 1], [0, 1], [0, 1]]\n",
            "[[10, 1], [10, 1], [10, 1]]\n"
          ]
        }
      ]
    },
    {
      "cell_type": "code",
      "source": [
        "b = [0, 1]\n",
        "a = [b] * 3     # [b, b, b]"
      ],
      "metadata": {
        "id": "MUi9UYJ3FfMq"
      },
      "execution_count": null,
      "outputs": []
    },
    {
      "cell_type": "code",
      "source": [
        "# Распаковка элементов списка (для кортежей то же самое)\n",
        "var1, var2, var3 = [1, 2, 3]\n",
        "print(var1, var2, var3)"
      ],
      "metadata": {
        "colab": {
          "base_uri": "https://localhost:8080/"
        },
        "id": "51FCGmIVGIyT",
        "outputId": "a82ae95c-97dc-427e-efc4-837786c85eed"
      },
      "execution_count": null,
      "outputs": [
        {
          "output_type": "stream",
          "name": "stdout",
          "text": [
            "1 2 3\n"
          ]
        }
      ]
    },
    {
      "cell_type": "code",
      "source": [
        "# Рекурсивная распаковка\n",
        "var1, var2, (var3_1, var3_2, var3_3) = [1, 2, [3, 4, 5]]\n",
        "print(var1, var2, var3_1, var3_2, var3_3)"
      ],
      "metadata": {
        "colab": {
          "base_uri": "https://localhost:8080/"
        },
        "id": "IaXIm4c4Gnbs",
        "outputId": "8e856a42-97d8-4c32-f5c5-bb8b7110293b"
      },
      "execution_count": null,
      "outputs": [
        {
          "output_type": "stream",
          "name": "stdout",
          "text": [
            "1 2 3 4 5\n"
          ]
        }
      ]
    },
    {
      "cell_type": "code",
      "source": [
        "# Создание списков и кортежей\n",
        "a = list(range(10))\n",
        "b = [2 ** x for x in a if x % 2 == 0]\n",
        "c = tuple(int(x) for x in 'a1b2c3d4e5' if x.isdigit())\n",
        "\n",
        "print(a)\n",
        "print(b)\n",
        "print(c)"
      ],
      "metadata": {
        "colab": {
          "base_uri": "https://localhost:8080/"
        },
        "id": "3BS7plOvG7AF",
        "outputId": "2b333807-d8be-4762-eb28-03e520353dc7"
      },
      "execution_count": null,
      "outputs": [
        {
          "output_type": "stream",
          "name": "stdout",
          "text": [
            "[0, 1, 2, 3, 4, 5, 6, 7, 8, 9]\n",
            "[1, 4, 16, 64, 256]\n",
            "(1, 2, 3, 4, 5)\n"
          ]
        }
      ]
    },
    {
      "cell_type": "code",
      "source": [
        "strings = ['Hello', 'world', '123']\n",
        "joined = '-'.join(strings)\n",
        "\n",
        "print(joined)\n",
        "print(joined.split('-'))"
      ],
      "metadata": {
        "colab": {
          "base_uri": "https://localhost:8080/"
        },
        "id": "pC2iziUMHWLK",
        "outputId": "b0424ad6-df06-4ddc-da3a-8d25e7190b8b"
      },
      "execution_count": null,
      "outputs": [
        {
          "output_type": "stream",
          "name": "stdout",
          "text": [
            "Hello-world-123\n",
            "['Hello', 'world', '123']\n"
          ]
        }
      ]
    },
    {
      "cell_type": "markdown",
      "source": [
        "Необходимо написать программу, которая будет считывать со стандартного ввода строку. Нужно разбить строку на слова, словом будем считать последовательность символов отличных от пробелов (то есть знаки пунктуации будут входить в слова). Далее нужно посчитать и вывести среднее число символов в словах этого текста. Точность проверяется до 2го знака после запятой (точность +-0.01).\n",
        "* Решение можно реализовать в 2 строки кода."
      ],
      "metadata": {
        "id": "RL8n46sUKi_l"
      }
    },
    {
      "cell_type": "code",
      "source": [
        "text = input().split()\n",
        "mean = sum([len(x) for x in text]) / len(text)\n",
        "\n",
        "print(round(mean, 2))"
      ],
      "metadata": {
        "colab": {
          "base_uri": "https://localhost:8080/"
        },
        "id": "sIzcufQnI4TS",
        "outputId": "fb09dbfd-f4c0-446b-ab0c-96eb87d94bb4"
      },
      "execution_count": null,
      "outputs": [
        {
          "output_type": "stream",
          "name": "stdout",
          "text": [
            "Sums start and the items of an iterable from left to right and returns the total.\n",
            "4.12\n"
          ]
        }
      ]
    },
    {
      "cell_type": "markdown",
      "source": [
        "Необходимо написать программу, которая будет считывать последовательности измерений. В каждой последовательности нужно выбрать максимальное значение, а в итоге вывести отсортированный по убыванию список этих макс значений, разделенных символом “;”. Во входных данных в первой строке будет задано целое положительное число – сколько записей нужно обработать, причем самих записей может быть больше чем это число, это нужно учесть. Значения в рамках одной записи разделены пробелом, минимальное число значений в записи – 1. Записи разделены переводом строки."
      ],
      "metadata": {
        "id": "aAjAel1wNJ9A"
      }
    },
    {
      "cell_type": "code",
      "source": [
        "result = []\n",
        "\n",
        "for _ in range(int(input())):\n",
        "    result.append(max([int(x) for x in input().split()]))\n",
        "\n",
        "result.sort()\n",
        "result.reverse()\n",
        "result = [str(x) for x in result]\n",
        "result = ';'.join(result)\n",
        "\n",
        "print(result)"
      ],
      "metadata": {
        "colab": {
          "base_uri": "https://localhost:8080/"
        },
        "id": "cDlFX74uLLFy",
        "outputId": "1fb084c4-3070-4142-8a8e-916a67c1f3b5"
      },
      "execution_count": null,
      "outputs": [
        {
          "output_type": "stream",
          "name": "stdout",
          "text": [
            "3\n",
            "1 2 3\n",
            "2\n",
            "4 5 6 7\n",
            "7;3;2\n"
          ]
        }
      ]
    },
    {
      "cell_type": "markdown",
      "source": [],
      "metadata": {
        "id": "zLI_FzH7hlTm"
      }
    },
    {
      "cell_type": "markdown",
      "source": [
        "Необходимо написать программу, которая будет считывать со стандартного ввода строку и выводить уникальные символы, встретившиеся в этой строке, в лексикографическом порядке по возрастанию. Символы из входа нужно приводить к нижнему регистру. Символ пробела не нужно учитывать при формировании результата. Выходные символы нужно разделять пробелом."
      ],
      "metadata": {
        "id": "FSCNWE7ahjOQ"
      }
    },
    {
      "cell_type": "code",
      "source": [
        "# подготовка данных\n",
        "data = input().lower()\n",
        "data.replace(' ', '')\n",
        "data = list(data)\n",
        "\n",
        "# убираем лишние символы\n",
        "result = set(data)\n",
        "\n",
        "# сортируем данные\n",
        "result = list(result)\n",
        "result.sort()\n",
        "\n",
        "print(*result)"
      ],
      "metadata": {
        "id": "CGqkihnhNfii",
        "colab": {
          "base_uri": "https://localhost:8080/"
        },
        "outputId": "6173d6e6-19d0-449b-dd64-5b3e7b20e8f4"
      },
      "execution_count": 3,
      "outputs": [
        {
          "output_type": "stream",
          "name": "stdout",
          "text": [
            "abcabcaaabb12bbbaaa\n",
            "1 2 a b c\n"
          ]
        }
      ]
    },
    {
      "cell_type": "markdown",
      "source": [
        "Необходимо написать программу, которая будет считывать со стандартного ввода строку. Нужно разбить строку на слова, словом будем считать последовательность символов отличных от пробелов (то есть знаки пунктуации будут входить в слова). Далее нужно посчитать сколько каждое слово встречалось в тексте и вывести наиболее часто слово и сколько оно встретилось. Все слова нужно также приводить к нижнему регистру при подсчете. Гарантируется, что в тексте самое частое слово – единственное."
      ],
      "metadata": {
        "id": "-jqJNs-fjNgM"
      }
    },
    {
      "cell_type": "code",
      "source": [
        "# подсчитаем количество слов в тексте\n",
        "data = input().lower().split()\n",
        "word_counter = {word : data.count(word) for word in data}\n",
        "count_list = list(word_counter.values())\n",
        "word_list = list(word_counter.keys())\n",
        "\n",
        "# найдём самое частое слово\n",
        "max_count = max(count_list)\n",
        "id = count_list.index(max_count)\n",
        "word = word_list[id]\n",
        "result = word_counter[word]\n",
        "\n",
        "print(word, result)"
      ],
      "metadata": {
        "colab": {
          "base_uri": "https://localhost:8080/"
        },
        "id": "n66hGu-4h6XO",
        "outputId": "b56b0b88-7854-426e-cd38-779e59b9a9d4"
      },
      "execution_count": 11,
      "outputs": [
        {
          "output_type": "stream",
          "name": "stdout",
          "text": [
            "Python is an easy to learn, powerful programming language. It has efficient high-level data structures and a simple but effective approach to object-oriented programming.\n",
            "to 2\n"
          ]
        }
      ]
    },
    {
      "cell_type": "code",
      "source": [],
      "metadata": {
        "id": "aSFOr2qRlFm5"
      },
      "execution_count": null,
      "outputs": []
    }
  ]
}