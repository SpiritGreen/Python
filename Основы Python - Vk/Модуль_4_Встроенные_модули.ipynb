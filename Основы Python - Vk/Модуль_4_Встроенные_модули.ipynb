{
  "nbformat": 4,
  "nbformat_minor": 0,
  "metadata": {
    "colab": {
      "provenance": [],
      "authorship_tag": "ABX9TyNpnehd1toILITwUdvbTQ+r",
      "include_colab_link": true
    },
    "kernelspec": {
      "name": "python3",
      "display_name": "Python 3"
    },
    "language_info": {
      "name": "python"
    }
  },
  "cells": [
    {
      "cell_type": "markdown",
      "metadata": {
        "id": "view-in-github",
        "colab_type": "text"
      },
      "source": [
        "<a href=\"https://colab.research.google.com/github/SpiritGreen/Python/blob/main/%D0%9E%D1%81%D0%BD%D0%BE%D0%B2%D1%8B%20Python%20-%20Vk/%D0%9C%D0%BE%D0%B4%D1%83%D0%BB%D1%8C_4_%D0%92%D1%81%D1%82%D1%80%D0%BE%D0%B5%D0%BD%D0%BD%D1%8B%D0%B5_%D0%BC%D0%BE%D0%B4%D1%83%D0%BB%D0%B8.ipynb\" target=\"_parent\"><img src=\"https://colab.research.google.com/assets/colab-badge.svg\" alt=\"Open In Colab\"/></a>"
      ]
    },
    {
      "cell_type": "markdown",
      "source": [
        "# 1. Файлы"
      ],
      "metadata": {
        "id": "4JKyplSUZ6Tc"
      }
    },
    {
      "cell_type": "code",
      "execution_count": null,
      "metadata": {
        "colab": {
          "base_uri": "https://localhost:8080/"
        },
        "id": "R3dXEKE3ZkrH",
        "outputId": "6f87234f-3cc6-4cba-a9db-005f13c69b00"
      },
      "outputs": [
        {
          "output_type": "stream",
          "name": "stdout",
          "text": [
            "/content\n",
            "/content\n",
            "\n",
            ".\n",
            ".\n"
          ]
        }
      ],
      "source": [
        "import os\n",
        "\n",
        "current_dir_abs = os.getcwd()\n",
        "current_dir_rel = '.'\n",
        "\n",
        "# абсолютный путь\n",
        "print(os.path.abspath(current_dir_abs))\n",
        "print(os.path.abspath(current_dir_rel))\n",
        "\n",
        "print()\n",
        "\n",
        "# относительный путь\n",
        "print(os.path.relpath(current_dir_abs))\n",
        "print(os.path.relpath(current_dir_rel))"
      ]
    },
    {
      "cell_type": "code",
      "source": [
        "# движемся к конкретному файлу:\n",
        "joined_path = os.path.join(current_dir_abs, 'some_file')\n",
        "\n",
        "print(os.path.abspath(joined_path))"
      ],
      "metadata": {
        "colab": {
          "base_uri": "https://localhost:8080/"
        },
        "id": "nFJqRWxYamg2",
        "outputId": "88c407b1-15af-4682-c9b7-d95263419808"
      },
      "execution_count": null,
      "outputs": [
        {
          "output_type": "stream",
          "name": "stdout",
          "text": [
            "/content/some_file\n"
          ]
        }
      ]
    },
    {
      "cell_type": "code",
      "source": [
        "# движемся к корню:\n",
        "splitted_path = os.path.split(joined_path)\n",
        "\n",
        "print(splitted_path)\n",
        "print(os.path.abspath(splitted_path[0]))"
      ],
      "metadata": {
        "colab": {
          "base_uri": "https://localhost:8080/"
        },
        "id": "sd7rTc2Ob4pE",
        "outputId": "0c892015-8097-43f3-f529-9422219a2bae"
      },
      "execution_count": null,
      "outputs": [
        {
          "output_type": "stream",
          "name": "stdout",
          "text": [
            "('/content', 'some_file')\n",
            "/content\n"
          ]
        }
      ]
    },
    {
      "cell_type": "code",
      "source": [
        "# можно проверить, существует ли файл или директория:\n",
        "print(os.path.exists(joined_path))\n",
        "print(os.path.exists(current_dir_abs))"
      ],
      "metadata": {
        "colab": {
          "base_uri": "https://localhost:8080/"
        },
        "id": "5R1Ja85AcRoG",
        "outputId": "5f829c39-5022-4ce6-d4a2-fde90b50073f"
      },
      "execution_count": null,
      "outputs": [
        {
          "output_type": "stream",
          "name": "stdout",
          "text": [
            "False\n",
            "True\n"
          ]
        }
      ]
    },
    {
      "cell_type": "code",
      "source": [
        "# является ли нечто директорией:\n",
        "print(os.path.isdir(current_dir_abs))\n",
        "print(os.path.isfile(current_dir_abs))\n",
        "\n",
        "file_path = '/content/sample_data/README.md'\n",
        "print(file_path)\n",
        "print(os.path.isfile(file_path))\n",
        "print(os.path.isdir(file_path))"
      ],
      "metadata": {
        "colab": {
          "base_uri": "https://localhost:8080/"
        },
        "id": "zBZ_kmcFc8IF",
        "outputId": "0bb08c75-e890-4ca4-b9ce-b388d9014939"
      },
      "execution_count": null,
      "outputs": [
        {
          "output_type": "stream",
          "name": "stdout",
          "text": [
            "True\n",
            "False\n",
            "/content/sample_data/README.md\n",
            "True\n",
            "False\n"
          ]
        }
      ]
    },
    {
      "cell_type": "code",
      "source": [
        "# создание файлов\n",
        "file_path = os.path.join(current_dir_abs, 'new_file.txt')\n",
        "\n",
        "# запись информации в файл\n",
        "open(file_path, 'w').write('Hey, there!')"
      ],
      "metadata": {
        "colab": {
          "base_uri": "https://localhost:8080/"
        },
        "id": "CCaCW-1idjys",
        "outputId": "be1c7f96-b197-445b-d750-7271bb5e89e8"
      },
      "execution_count": null,
      "outputs": [
        {
          "output_type": "execute_result",
          "data": {
            "text/plain": [
              "11"
            ]
          },
          "metadata": {},
          "execution_count": 23
        }
      ]
    },
    {
      "cell_type": "code",
      "source": [
        "# чтение информации из файла\n",
        "open(file_path, 'r').read()"
      ],
      "metadata": {
        "colab": {
          "base_uri": "https://localhost:8080/",
          "height": 35
        },
        "id": "3qnZkRv0fJaq",
        "outputId": "51f81536-d7ad-4c2d-ec9c-92f679c3cf5f"
      },
      "execution_count": null,
      "outputs": [
        {
          "output_type": "execute_result",
          "data": {
            "text/plain": [
              "'Hey, there!'"
            ],
            "application/vnd.google.colaboratory.intrinsic+json": {
              "type": "string"
            }
          },
          "metadata": {},
          "execution_count": 25
        }
      ]
    },
    {
      "cell_type": "code",
      "source": [
        "# обработка исключений:\n",
        "new_file_path = os.path.join(current_dir_abs, 'not_exists')\n",
        "\n",
        "try:\n",
        "    open(new_file_path, 'r').read()\n",
        "except FileNotFoundError:\n",
        "    open(new_file_path, 'w').write(\"I don't exist\")"
      ],
      "metadata": {
        "id": "65Ok-yBJfVBW"
      },
      "execution_count": null,
      "outputs": []
    },
    {
      "cell_type": "markdown",
      "source": [
        "Написать функцию `write_and_read`, которая будет записывать в файл текст как параметр функции и читать текст из этого файла и передавать на выход функции.\n",
        "\n",
        "Дополните код ниже, дописав свой код в секции “YOUR CODE HERE”."
      ],
      "metadata": {
        "id": "K4PQ2S_Xhd-e"
      }
    },
    {
      "cell_type": "code",
      "source": [
        "import os\n",
        "\n",
        "text = input()\n",
        "\n",
        "def write_and_read(text):\n",
        "   # YOUR CODE HERE\n",
        "   file_path = os.path.join(os.path.abspath('/tmp'), 'my_file')\n",
        "\n",
        "   open(file_path, 'w').write(text)\n",
        "   return open(file_path, 'r').read()\n",
        "\n",
        "print(write_and_read(text))"
      ],
      "metadata": {
        "colab": {
          "base_uri": "https://localhost:8080/"
        },
        "id": "hpDbmv1SgIYb",
        "outputId": "1ca66140-dd5d-4b04-d610-32fcfe08ba03"
      },
      "execution_count": null,
      "outputs": [
        {
          "output_type": "stream",
          "name": "stdout",
          "text": [
            "hello world\n",
            "hello world\n"
          ]
        }
      ]
    },
    {
      "cell_type": "markdown",
      "source": [
        "Написать функцию `changed_div`, которая считает отношение делителя к частному. Желательно, чтобы случай с нулевым делимым должен быть обработан с помощью try-except: при ошибке ZeroDivisionError должен возвращаться делитель\n",
        "\n",
        "Дополните код ниже, дописав свой код в секции “YOUR CODE HERE”."
      ],
      "metadata": {
        "id": "xnKq-SAGj4vJ"
      }
    },
    {
      "cell_type": "code",
      "source": [
        "numerator, denominator = int(input()), int(input())\n",
        "\n",
        "def changed_div(numerator, denominator):\n",
        "   # YOUR CODE HERE\n",
        "    try:\n",
        "        return numerator / denominator\n",
        "    except ZeroDivisionError:\n",
        "        return numerator\n",
        "\n",
        "\n",
        "print(changed_div(numerator, denominator))"
      ],
      "metadata": {
        "colab": {
          "base_uri": "https://localhost:8080/"
        },
        "id": "Em8FDWN-jCtI",
        "outputId": "fe2c24b9-09c2-417b-85f4-8ea4483d464f"
      },
      "execution_count": null,
      "outputs": [
        {
          "output_type": "stream",
          "name": "stdout",
          "text": [
            "1\n",
            "2\n",
            "0.5\n"
          ]
        }
      ]
    },
    {
      "cell_type": "markdown",
      "source": [
        "# 2. Модули для работы с коллекциями и функциями"
      ],
      "metadata": {
        "id": "jWuOzyLGlhj9"
      }
    },
    {
      "cell_type": "code",
      "source": [
        "import collections\n",
        "\n",
        "l1 = [1, 1, 2, 2, 2, 3, 3, 4, 5]\n",
        "counter = collections.Counter(l1)\n",
        "\n",
        "# получаем словарь с объектами (ключ) и их количеством (значение)\n",
        "print(counter)\n",
        "\n",
        "# 2 самых частых объекта:\n",
        "print(counter.most_common(2))"
      ],
      "metadata": {
        "id": "C6Kw2Ta6k55_",
        "colab": {
          "base_uri": "https://localhost:8080/"
        },
        "outputId": "75a27d35-a06a-4b5b-ac9f-e0c793ba73eb"
      },
      "execution_count": null,
      "outputs": [
        {
          "output_type": "stream",
          "name": "stdout",
          "text": [
            "Counter({2: 3, 1: 2, 3: 2, 4: 1, 5: 1})\n",
            "[(2, 3), (1, 2)]\n"
          ]
        }
      ]
    },
    {
      "cell_type": "code",
      "source": [
        "# Двухсторонняя очередь\n",
        "\n",
        "# deque позволяет добавлять объекты в список как в начало, так\n",
        "# и в конец за константное время\n",
        "deq = collections.deque(l1)\n",
        "print(deq)\n",
        "\n",
        "print()\n",
        "\n",
        "#добавляем элементы\n",
        "deq.append('end')               # конец списка\n",
        "deq.appendleft('start')         # начало списка\n",
        "print(deq)\n",
        "\n",
        "print()\n",
        "\n",
        "# также  можно доставать элементы из конца или начала\n",
        "# списка за константное время\n",
        "end_deq = deq.pop()             # конец списка\n",
        "start_deq = deq.popleft()       # начало списка\n",
        "\n",
        "print(end_deq)\n",
        "print(start_deq)\n",
        "print(deq)"
      ],
      "metadata": {
        "colab": {
          "base_uri": "https://localhost:8080/"
        },
        "id": "LKn5Xfgln6KL",
        "outputId": "51d277fd-1f3a-476f-a349-f11f617a616f"
      },
      "execution_count": null,
      "outputs": [
        {
          "output_type": "stream",
          "name": "stdout",
          "text": [
            "deque([1, 1, 2, 2, 2, 3, 3, 4, 5])\n",
            "\n",
            "deque(['start', 1, 1, 2, 2, 2, 3, 3, 4, 5, 'end'])\n",
            "\n",
            "end\n",
            "start\n",
            "deque([1, 1, 2, 2, 2, 3, 3, 4, 5])\n"
          ]
        }
      ]
    },
    {
      "cell_type": "code",
      "source": [
        "default_dict_list = collections.defaultdict(list)\n",
        "default_dict_list[1].append(0)\n",
        "\n",
        "print(default_dict_list)"
      ],
      "metadata": {
        "colab": {
          "base_uri": "https://localhost:8080/"
        },
        "id": "HX3P51H-peGD",
        "outputId": "5d4890fb-bf26-45cd-d53f-ae55044bb369"
      },
      "execution_count": null,
      "outputs": [
        {
          "output_type": "stream",
          "name": "stdout",
          "text": [
            "defaultdict(<class 'list'>, {1: [0]})\n"
          ]
        }
      ]
    },
    {
      "cell_type": "code",
      "source": [
        "# то же самое можно сделать и с set\n",
        "\n",
        "default_dict_set = collections.defaultdict(set)\n",
        "default_dict_set[1].add(0)\n",
        "\n",
        "print(default_dict_set)"
      ],
      "metadata": {
        "colab": {
          "base_uri": "https://localhost:8080/"
        },
        "id": "9WrTgMSQq0on",
        "outputId": "41c3fbc4-b3fa-47a9-a037-928646341960"
      },
      "execution_count": null,
      "outputs": [
        {
          "output_type": "stream",
          "name": "stdout",
          "text": [
            "defaultdict(<class 'set'>, {1: {0}})\n"
          ]
        }
      ]
    },
    {
      "cell_type": "code",
      "source": [
        "d1 = {1: 'one', 2: 'two'}\n",
        "d2 = {0: 'zero', 3: 'three'}\n",
        "\n",
        "ch_map = collections.ChainMap(d1, d2)\n",
        "\n",
        "print(ch_map)\n",
        "\n",
        "print(ch_map[0])"
      ],
      "metadata": {
        "colab": {
          "base_uri": "https://localhost:8080/"
        },
        "id": "LjnT8mebrCJr",
        "outputId": "5b133cea-a1eb-4d77-94bf-8233e84639ec"
      },
      "execution_count": null,
      "outputs": [
        {
          "output_type": "stream",
          "name": "stdout",
          "text": [
            "ChainMap({1: 'one', 2: 'two'}, {0: 'zero', 3: 'three'})\n",
            "zero\n"
          ]
        }
      ]
    },
    {
      "cell_type": "code",
      "source": [
        "import functools\n",
        "\n",
        "def lt(a, b):\n",
        "    return a < b\n",
        "\n",
        "\n",
        "# частичная функция с фиксированным аргументом:\n",
        "lt_fixed = functools.partial(lt, b=0)\n",
        "\n",
        "print(lt_fixed(-1))\n",
        "print(lt_fixed(1))"
      ],
      "metadata": {
        "colab": {
          "base_uri": "https://localhost:8080/"
        },
        "id": "-rx_7MfLrx-2",
        "outputId": "f9f4ac6b-4f51-4220-dda9-ba8e86f42273"
      },
      "execution_count": null,
      "outputs": [
        {
          "output_type": "stream",
          "name": "stdout",
          "text": [
            "True\n",
            "False\n"
          ]
        }
      ]
    },
    {
      "cell_type": "code",
      "source": [
        "import time\n",
        "\n",
        "# запоминание данных\n",
        "@functools.lru_cache\n",
        "def sum_nums(n):\n",
        "    s = 0\n",
        "    for i in range(n):\n",
        "        s += i\n",
        "    return s\n",
        "\n",
        "\n",
        "# первый запуск:\n",
        "start = time.time()\n",
        "sum_nums(10000000)\n",
        "print(time.time() - start)\n",
        "\n",
        "# повторный запуск:\n",
        "start = time.time()\n",
        "sum_nums(10000000)\n",
        "print(time.time() - start)"
      ],
      "metadata": {
        "colab": {
          "base_uri": "https://localhost:8080/"
        },
        "id": "pz1m9s8M_9Hy",
        "outputId": "e850a4f0-97a9-4d50-ca7f-ba8c21445068"
      },
      "execution_count": null,
      "outputs": [
        {
          "output_type": "stream",
          "name": "stdout",
          "text": [
            "0.720191478729248\n",
            "9.012222290039062e-05\n"
          ]
        }
      ]
    },
    {
      "cell_type": "code",
      "source": [
        "# доопределяет магические методы\n",
        "@functools.total_ordering\n",
        "class Counter:\n",
        "    def __init__(self, count) -> None:\n",
        "        self.count = count\n",
        "\n",
        "    def __eq__(self, other: object) -> bool:\n",
        "        return self.count == other.count\n",
        "\n",
        "    def __lt__(self, other):\n",
        "        return self.count < other.count\n",
        "\n",
        "\n",
        "# методы работают, хоть и не были изначально определены\n",
        "print(Counter(2) >= Counter(3))\n",
        "print(Counter(2) != Counter(3))"
      ],
      "metadata": {
        "colab": {
          "base_uri": "https://localhost:8080/"
        },
        "id": "wWY0Rf-zA2QQ",
        "outputId": "8f04a3b8-79ba-4c44-9ba1-0666c1c1df59"
      },
      "execution_count": null,
      "outputs": [
        {
          "output_type": "stream",
          "name": "stdout",
          "text": [
            "False\n",
            "True\n"
          ]
        }
      ]
    },
    {
      "cell_type": "code",
      "source": [
        "import itertools\n",
        "\n",
        "gen = range(10)\n",
        "# itertools.islice(generator, start, end, step)\n",
        "gen_islice = itertools.islice(gen, 2, 8, 2)\n",
        "\n",
        "for el in gen_islice:\n",
        "    print(el)"
      ],
      "metadata": {
        "colab": {
          "base_uri": "https://localhost:8080/"
        },
        "id": "DNLWo9OgCXyc",
        "outputId": "a69b3701-832f-456a-f418-eda03f9d86df"
      },
      "execution_count": null,
      "outputs": [
        {
          "output_type": "stream",
          "name": "stdout",
          "text": [
            "2\n",
            "4\n",
            "6\n"
          ]
        }
      ]
    },
    {
      "cell_type": "code",
      "source": [
        "l1 = [1, 2, 3]\n",
        "l2 = [4, 5, 6, 7, 8]\n",
        "\n",
        "# соединение списков по самому короткому списку:\n",
        "for el1, el2 in zip(l1, l2):\n",
        "    print(el1, el2)\n",
        "\n",
        "print()\n",
        "\n",
        "# соединение списков по самому длинному списку:\n",
        "for el1, el2 in itertools.zip_longest(l1, l2):\n",
        "    print(el1, el2)"
      ],
      "metadata": {
        "colab": {
          "base_uri": "https://localhost:8080/"
        },
        "id": "z_NCA0QRDXuJ",
        "outputId": "b1bd7038-c161-4846-dbff-15940c2885c7"
      },
      "execution_count": null,
      "outputs": [
        {
          "output_type": "stream",
          "name": "stdout",
          "text": [
            "1 4\n",
            "2 5\n",
            "3 6\n",
            "\n",
            "1 4\n",
            "2 5\n",
            "3 6\n",
            "None 7\n",
            "None 8\n"
          ]
        }
      ]
    },
    {
      "cell_type": "code",
      "source": [
        "# комбинации элементов:\n",
        "for el1 in itertools.combinations(l1, 2):\n",
        "    print(el1)"
      ],
      "metadata": {
        "colab": {
          "base_uri": "https://localhost:8080/"
        },
        "id": "NyDGI0dMDs0Z",
        "outputId": "fe2784a6-d164-4809-c5f1-342bc4a852e6"
      },
      "execution_count": null,
      "outputs": [
        {
          "output_type": "stream",
          "name": "stdout",
          "text": [
            "(1, 2)\n",
            "(1, 3)\n",
            "(2, 3)\n"
          ]
        }
      ]
    },
    {
      "cell_type": "code",
      "source": [
        "for el1 in itertools.combinations_with_replacement(l1, 2):\n",
        "    print(el1)"
      ],
      "metadata": {
        "colab": {
          "base_uri": "https://localhost:8080/"
        },
        "id": "w4CqU-s9EO2m",
        "outputId": "b345307a-0ec4-414a-a739-1940127eab01"
      },
      "execution_count": null,
      "outputs": [
        {
          "output_type": "stream",
          "name": "stdout",
          "text": [
            "(1, 1)\n",
            "(1, 2)\n",
            "(1, 3)\n",
            "(2, 2)\n",
            "(2, 3)\n",
            "(3, 3)\n"
          ]
        }
      ]
    },
    {
      "cell_type": "markdown",
      "source": [
        "Написать функцию `fill_specializations`, которая принимает список кортежей из специальности и имени и возвращает словарь, где в качестве ключей специальности, а в качестве значений - списки имен. Желательно, чтобы это было реализовано через словарь со значением по умолчанию.\n",
        "\n",
        "Дополните код ниже, дописав свой код в секции “YOUR CODE HERE”."
      ],
      "metadata": {
        "id": "s82W5iv8FP_t"
      }
    },
    {
      "cell_type": "code",
      "source": [
        "from collections import defaultdict\n",
        "from typing import List, Tuple\n",
        "\n",
        "\n",
        "def fill_specializations(specializations: List[Tuple[str, str]]):\n",
        "    # YOUR CODE HERE\n",
        "    result = defaultdict(list)\n",
        "    for spec, name in specializations:\n",
        "        result[spec].append(name)\n",
        "    return dict(result)\n",
        "\n",
        "\n",
        "# code = []\n",
        "# while data := input():\n",
        "#    code.append(data)\n",
        "# code = \"\\n\".join(code)\n",
        "# exec(code)\n",
        "\n",
        "specs=[('Sales', 'John Doe'), ('Sales', 'Martin Smith'), ('Accounting', 'Jane Doe'), ('Marketing', 'Elizabeth Smith'), ('Marketing', 'Adam Doe')]\n",
        "print(fill_specializations(specs))"
      ],
      "metadata": {
        "colab": {
          "base_uri": "https://localhost:8080/"
        },
        "id": "5jE0MAX3EjYc",
        "outputId": "53ebe68c-2143-4762-e9c5-f12063693f37"
      },
      "execution_count": null,
      "outputs": [
        {
          "output_type": "stream",
          "name": "stdout",
          "text": [
            "{'Sales': ['John Doe', 'Martin Smith'], 'Accounting': ['Jane Doe'], 'Marketing': ['Elizabeth Smith', 'Adam Doe']}\n"
          ]
        }
      ]
    },
    {
      "cell_type": "markdown",
      "source": [
        "Написать функцию `fill_missing_values`, которая принимает два списка int-ов и делает из них один список кортежей, где в качестве элементов кортежа элементы списков на одинаковых позициях. Если один из список закончился, то в нужно заполнить значение в кортеже единицей.\n",
        "\n",
        "Дополните код ниже, дописав свой код в секции “YOUR CODE HERE”."
      ],
      "metadata": {
        "id": "W-YEctSzZT9r"
      }
    },
    {
      "cell_type": "code",
      "source": [
        "from itertools import zip_longest\n",
        "from typing import List, Tuple\n",
        "\n",
        "\n",
        "def fill_missing_values(values_list_1: List[int], values_list_2: List[int]) -> List[Tuple[int, int]]:\n",
        "    # YOUR CODE HERE\n",
        "    result = list()\n",
        "    for a, b in zip_longest(values_list_1, values_list_2):\n",
        "        if not a:\n",
        "            result.append((1, b))\n",
        "        elif not b:\n",
        "            result.append((a, 1))\n",
        "        else:\n",
        "            result.append((a, b))\n",
        "    return result\n",
        "\n",
        "\n",
        "# code = []\n",
        "# while data := input():\n",
        "#    code.append(data)\n",
        "# code = \"\\n\".join(code)\n",
        "# exec(code)\n",
        "\n",
        "print(fill_missing_values([1, 2, 3], [2, 3, 4, 5]))"
      ],
      "metadata": {
        "colab": {
          "base_uri": "https://localhost:8080/"
        },
        "id": "cG6C37eNYrob",
        "outputId": "120075e4-c998-4e69-f988-26f12bba68a4"
      },
      "execution_count": null,
      "outputs": [
        {
          "output_type": "stream",
          "name": "stdout",
          "text": [
            "[(1, 2), (2, 3), (3, 4), (1, 5)]\n"
          ]
        }
      ]
    },
    {
      "cell_type": "markdown",
      "source": [
        "# 3. Модули для работы с датой и временем"
      ],
      "metadata": {
        "id": "seW3mf-abbnQ"
      }
    },
    {
      "cell_type": "code",
      "source": [
        "import datetime\n",
        "\n",
        "# date(year, month, day)\n",
        "d = datetime.date(2023, 1, 25)\n",
        "\n",
        "print(d)"
      ],
      "metadata": {
        "colab": {
          "base_uri": "https://localhost:8080/"
        },
        "id": "eChQBaCYasxi",
        "outputId": "02de7c7f-6264-4d91-cd08-5a18e30edf45"
      },
      "execution_count": null,
      "outputs": [
        {
          "output_type": "stream",
          "name": "stdout",
          "text": [
            "2023-01-25\n"
          ]
        }
      ]
    },
    {
      "cell_type": "code",
      "source": [
        "# получение сегодняшней даты:\n",
        "today = datetime.date.today()\n",
        "\n",
        "print(today)"
      ],
      "metadata": {
        "colab": {
          "base_uri": "https://localhost:8080/"
        },
        "id": "CtiGQf6sb2ji",
        "outputId": "767ae309-7d5d-47b5-b72d-f9ce8c463ee6"
      },
      "execution_count": null,
      "outputs": [
        {
          "output_type": "stream",
          "name": "stdout",
          "text": [
            "2024-01-24\n"
          ]
        }
      ]
    },
    {
      "cell_type": "code",
      "source": [
        "# time(hours, minutes, secunds)\n",
        "t = datetime.time(23, 59, 59)\n",
        "\n",
        "print(t)"
      ],
      "metadata": {
        "colab": {
          "base_uri": "https://localhost:8080/"
        },
        "id": "j1NgdkvjcIX3",
        "outputId": "f0b7258e-714c-42a1-f2f1-2e7d6fa9203f"
      },
      "execution_count": null,
      "outputs": [
        {
          "output_type": "stream",
          "name": "stdout",
          "text": [
            "23:59:59\n"
          ]
        }
      ]
    },
    {
      "cell_type": "code",
      "source": [
        "# сегодняшняя дата:\n",
        "now = datetime.datetime.now()\n",
        "\n",
        "print(now)"
      ],
      "metadata": {
        "colab": {
          "base_uri": "https://localhost:8080/"
        },
        "id": "krj3shcjccFM",
        "outputId": "a6246b4c-9be7-483f-8b39-dd938f475cf0"
      },
      "execution_count": null,
      "outputs": [
        {
          "output_type": "stream",
          "name": "stdout",
          "text": [
            "2024-01-24 21:53:24.355942\n"
          ]
        }
      ]
    },
    {
      "cell_type": "code",
      "source": [
        "# получение времени из даты:\n",
        "time_now = now.time()\n",
        "\n",
        "print(time_now)"
      ],
      "metadata": {
        "colab": {
          "base_uri": "https://localhost:8080/"
        },
        "id": "Wh30VSPKcpj0",
        "outputId": "e292939e-a674-4610-c7c1-d208077819cd"
      },
      "execution_count": null,
      "outputs": [
        {
          "output_type": "stream",
          "name": "stdout",
          "text": [
            "21:53:24.355942\n"
          ]
        }
      ]
    },
    {
      "cell_type": "code",
      "source": [
        "# сдвиг времени:\n",
        "delta = datetime.timedelta(days=14)\n",
        "\n",
        "print(now + delta)"
      ],
      "metadata": {
        "colab": {
          "base_uri": "https://localhost:8080/"
        },
        "id": "15dpTTIec13a",
        "outputId": "f0722968-68aa-4439-d767-d7f29f9a9969"
      },
      "execution_count": null,
      "outputs": [
        {
          "output_type": "stream",
          "name": "stdout",
          "text": [
            "2024-02-07 21:53:24.355942\n"
          ]
        }
      ]
    },
    {
      "cell_type": "code",
      "source": [
        "# %d - day, %m - month, %Y - year\n",
        "# %H - hours, %M - minutes, %S - seconds\n",
        "# Перевод даты в строку:\n",
        "str_from_date = datetime.datetime.strftime(now, '%d/%m/%Y %H:%M:%S')\n",
        "\n",
        "print(str_from_date)"
      ],
      "metadata": {
        "colab": {
          "base_uri": "https://localhost:8080/"
        },
        "id": "SzsMy8-2dJiM",
        "outputId": "c0697253-2caa-4f1e-9388-a87e99f8cdea"
      },
      "execution_count": null,
      "outputs": [
        {
          "output_type": "stream",
          "name": "stdout",
          "text": [
            "24/01/2024 21:53:24\n"
          ]
        }
      ]
    },
    {
      "cell_type": "code",
      "source": [
        "# парсинг даты и времени из строки\n",
        "# необходимо указать в каком формате будет дата в строке\n",
        "date_from_str = datetime.datetime.strptime(str_from_date, '%d/%m/%Y %H:%M:%S')\n",
        "\n",
        "print(date_from_str)\n",
        "print(date_from_str + delta)"
      ],
      "metadata": {
        "colab": {
          "base_uri": "https://localhost:8080/"
        },
        "id": "kmQQylUmgxKh",
        "outputId": "f5eabc5f-c800-43b8-9962-241e439991b5"
      },
      "execution_count": null,
      "outputs": [
        {
          "output_type": "stream",
          "name": "stdout",
          "text": [
            "2024-01-24 21:53:24\n",
            "2024-02-07 21:53:24\n"
          ]
        }
      ]
    },
    {
      "cell_type": "code",
      "source": [
        "datetime.datetime.strptime('2023-31-12T23:59:59', '%Y-%d-%mT%H:%M:%S')"
      ],
      "metadata": {
        "colab": {
          "base_uri": "https://localhost:8080/"
        },
        "id": "njzIkq0TiOUL",
        "outputId": "c010c8f3-e820-4c2b-b3ae-a88becbe1222"
      },
      "execution_count": null,
      "outputs": [
        {
          "output_type": "execute_result",
          "data": {
            "text/plain": [
              "datetime.datetime(2023, 12, 31, 23, 59, 59)"
            ]
          },
          "metadata": {},
          "execution_count": 66
        }
      ]
    },
    {
      "cell_type": "markdown",
      "source": [
        "Написать функцию `shift_time`, которая принимает 2 параметра: количество дней и количество секунд и сдвигает дату и время 01.01.2023 12:30:00 на указанное количество дней и секунд. В качестве выходного значения нужно вывести кортеж: день и секунда от сдвинутого времени.\n",
        "\n",
        "Дополните код ниже, дописав свой код в секции “YOUR CODE HERE”."
      ],
      "metadata": {
        "id": "Xe_2idCulG8Q"
      }
    },
    {
      "cell_type": "code",
      "source": [
        "import datetime\n",
        "\n",
        "days, seconds = int(input()), int(input())\n",
        "\n",
        "def shift_time(days: int, seconds: int):\n",
        "   # YOUR CODE HERE\n",
        "   delta = datetime.timedelta(days=days, seconds=seconds)\n",
        "   date = datetime.datetime(2023, 1, 1, 12, 30, 0) + delta\n",
        "   result = (date.day, date.second)\n",
        "   return result\n",
        "\n",
        "\n",
        "print(shift_time(days, seconds))"
      ],
      "metadata": {
        "colab": {
          "base_uri": "https://localhost:8080/"
        },
        "id": "jntpY8mkjntz",
        "outputId": "1f9d43ac-38d3-46d5-e07f-6bcdcc5fb0f7"
      },
      "execution_count": null,
      "outputs": [
        {
          "output_type": "stream",
          "name": "stdout",
          "text": [
            "1\n",
            "0\n",
            "(2, 0)\n"
          ]
        }
      ]
    },
    {
      "cell_type": "markdown",
      "source": [
        "Написать функцию `parse_time`, которая принимает строку в качестве параметра, которая является временем формата “ГГГГ ММ ДД ЧЧ ММ СС” и парсит эту строку в объект datetime.datetime и сдвигает ее на один день вперед.\n",
        "\n",
        "Дополните код ниже, дописав свой код в секции “YOUR CODE HERE”."
      ],
      "metadata": {
        "id": "VOODQIZJoFqX"
      }
    },
    {
      "cell_type": "code",
      "source": [
        "import datetime\n",
        "\n",
        "string_datetime = input()\n",
        "\n",
        "\n",
        "def parse_time(s):\n",
        "   # YOUR CODE HERE\n",
        "   result = datetime.datetime.strptime(s, '%Y %m %d %H %M %S')\n",
        "   delta = datetime.timedelta(days=1)\n",
        "   return (result + delta).day\n",
        "\n",
        "print(parse_time(string_datetime))"
      ],
      "metadata": {
        "colab": {
          "base_uri": "https://localhost:8080/"
        },
        "id": "3IkwdInvlsMc",
        "outputId": "817797c2-d711-4ad8-d18a-843f53af3e09"
      },
      "execution_count": null,
      "outputs": [
        {
          "output_type": "stream",
          "name": "stdout",
          "text": [
            "2023 03 03 12 30 00\n",
            "4\n"
          ]
        }
      ]
    },
    {
      "cell_type": "markdown",
      "source": [
        "# Проект в конце модуля"
      ],
      "metadata": {
        "id": "ovQw9P-8pn7E"
      }
    },
    {
      "cell_type": "markdown",
      "source": [
        "Написать функцию `most_common_months`, которая принимает в качестве параметра список строк, которые являются датами формата “ГГГГ-ММ-ДДTЧЧ-ММ-СС” и некоторое целое число n, и выводит топ n самых частых месяцев этих дат. Желательно, чтобы это было реализовано через Counter из модуля collections.\n",
        "\n",
        "Дополните код ниже, дописав свой код в секции “YOUR CODE HERE”."
      ],
      "metadata": {
        "id": "mPjRPhRMp1KE"
      }
    },
    {
      "cell_type": "code",
      "source": [
        "import datetime\n",
        "from collections import Counter\n",
        "from typing import List\n",
        "\n",
        "\n",
        "def most_common_months(dates: List[str], n) -> List[int]:\n",
        "   # YOUR CODE HERE\n",
        "\n",
        "   # спарсим даты\n",
        "   dates = [datetime.datetime.strptime(x, '%Y-%m-%dT%H:%M:%S') for x in dates]\n",
        "\n",
        "   # составим список месяцев\n",
        "   months = [x.month for x in dates]\n",
        "\n",
        "   # определим список самых частых месяцев\n",
        "   top_months = Counter(months).most_common(n)\n",
        "   result = [x[0] for x in top_months]\n",
        "   return result\n",
        "\n",
        "\n",
        "# code = []\n",
        "# while data := input():\n",
        "#    code.append(data)\n",
        "# code = \"\\n\".join(code)\n",
        "# exec(code)\n",
        "\n",
        "dates=[\"2023-01-01T23:59:59\", \"2023-01-01T23:59:59\", \"2023-02-01T23:59:59\"]\n",
        "print(most_common_months(dates, 2))"
      ],
      "metadata": {
        "colab": {
          "base_uri": "https://localhost:8080/"
        },
        "id": "DktsVN8Bo1-5",
        "outputId": "633f2657-bbc2-42a2-cab7-b39d1fa800e4"
      },
      "execution_count": null,
      "outputs": [
        {
          "output_type": "stream",
          "name": "stdout",
          "text": [
            "[1, 2]\n"
          ]
        }
      ]
    },
    {
      "cell_type": "markdown",
      "source": [
        "Написать функцию `rotate_list`, которая принимает список целых чисел и целое число, которое будет задавать, сколько крутить список. Под кручением списка подразумевается забор элемента из конца списка и вставка его в начало списка. Желательно, чтобы это было реализовано через двустороннюю очередь."
      ],
      "metadata": {
        "id": "-A3OykWTseOL"
      }
    },
    {
      "cell_type": "code",
      "source": [
        "from collections import deque\n",
        "from typing import List\n",
        "\n",
        "\n",
        "def rotate_list(nums: List[int], n: int):\n",
        "    # YOUR CODE HERE\n",
        "    nums = deque(nums)\n",
        "    for _ in range(n):\n",
        "        a = nums.pop()\n",
        "        nums.appendleft(a)\n",
        "    return list(nums)\n",
        "\n",
        "\n",
        "print(rotate_list([1,2,3,4], 1))"
      ],
      "metadata": {
        "colab": {
          "base_uri": "https://localhost:8080/"
        },
        "id": "uR5t3EJPqi9M",
        "outputId": "58b7cf63-7c51-4723-c99c-e2e4f184e96b"
      },
      "execution_count": null,
      "outputs": [
        {
          "output_type": "stream",
          "name": "stdout",
          "text": [
            "[4, 1, 2, 3]\n"
          ]
        }
      ]
    },
    {
      "cell_type": "markdown",
      "source": [
        "# Итоговый проект"
      ],
      "metadata": {
        "id": "jqUYgY76tn58"
      }
    },
    {
      "cell_type": "markdown",
      "source": [
        "Написать класс `Twitter`, в котором есть следующие методы:\n",
        "- `__init__(self)`, который инициализирует класс\n",
        "- `post_tweet(self, user_id, tweet_id)`, который создает новый твит с идентификатором tweet_Id по идентификатору пользователя `user_id`. Каждый вызов этой функции будет осуществляться с уникальным идентификатором твита. Желательно, чтобы впоследствии твиты можно было бы быстро получить по `user_id`.\n",
        "- `get_news_feed(self, user_id)`, который получает 10 последних идентификаторов твитов в ленте новостей пользователя.\n",
        "\n",
        "Каждый элемент в ленте новостей должен быть опубликован пользователями, на которых подписан пользователь. Твиты должны быть упорядочены от самого позднего до самого раннего. Подумайте, как организовать упорядочивание твитов по времени:\n",
        "    \n",
        "- возможно для этого лучше записывать в структуру данных с твитами\n",
        "информацию о твите (то есть `tweet_id`)\n",
        "- какое то число, отвечающее за время (например какой нибудь счетчик)\n",
        "и это например завернуть в кортеж\n",
        "\n",
        "\n",
        "- `follow(self, follower_id, followee_id)`, в котором пользователь с идентификатором follower_id подписался на пользователя с идентификатором `followee_id`. Желательно, чтобы впоследствии подписки можно было бы быстро получить по `follower_id`.\n",
        "- `unfollow(self, follower_id, followee_id)`, в котором пользователь с идентификатором `follower_id` отписался от пользователя с идентификатором `followee_id`."
      ],
      "metadata": {
        "id": "AXn0ckQ1tpzU"
      }
    },
    {
      "cell_type": "code",
      "source": [
        "from typing import List\n",
        "from collections import defaultdict\n",
        "from datetime import datetime\n",
        "\n",
        "\n",
        "class Twitter:\n",
        "\n",
        "    def __init__(self):\n",
        "        # YOUR CODE HERE\n",
        "        self.user_tweets = defaultdict(list)\n",
        "        self.user_follows = defaultdict(list)\n",
        "        # ключ - user_id, значение - [(tweet_id, time)]\n",
        "\n",
        "    def post_tweet(self, user_id, tweet_id):\n",
        "        # YOUR CODE HERE\n",
        "        tweet = (tweet_id, datetime.now())\n",
        "        self.user_tweets[user_id].append(tweet)\n",
        "\n",
        "    def get_news_feed(self, user_id) -> List[int]:\n",
        "        # YOUR CODE HERE\n",
        "        tweets = []\n",
        "        for followee in self.user_follows[user_id]:\n",
        "            tweets.extend(self.user_tweets[followee])\n",
        "        tweets = sorted(tweets, key=lambda x: x[1], reverse=True)\n",
        "        result = []\n",
        "        try:\n",
        "            for i in range(10):\n",
        "                result.append(tweets[i][0])\n",
        "        except IndexError:\n",
        "            for i in range(len(tweets)):\n",
        "                return result\n",
        "        return result\n",
        "\n",
        "    def follow(self, follower_id, followee_id):\n",
        "        # YOUR CODE HERE\n",
        "        self.user_follows[follower_id].append(followee_id)\n",
        "\n",
        "    def unfollow(self, follower_id, followee_id):\n",
        "        # YOUR CODE HERE\n",
        "        self.user_follows[follower_id].remove(followee_id)\n",
        "\n",
        "\n",
        "# code = []\n",
        "# while data := input():\n",
        "#    code.append(data)\n",
        "# code = \"\\n\".join(code)\n",
        "# exec(code)"
      ],
      "metadata": {
        "id": "agjLg6qcs7BJ"
      },
      "execution_count": 20,
      "outputs": []
    },
    {
      "cell_type": "code",
      "source": [
        "twitter = Twitter()\n",
        "twitter.follow(1, 2)\n",
        "twitter.follow(1, 3)\n",
        "twitter.post_tweet(2, 4)\n",
        "twitter.post_tweet(2, 6)\n",
        "twitter.post_tweet(3, 2)\n",
        "twitter.post_tweet(3, 7)\n",
        "twitter.post_tweet(3, 3)\n",
        "twitter.post_tweet(3, 8)\n",
        "twitter.post_tweet(2, 1)\n",
        "twitter.post_tweet(2, 9)\n",
        "twitter.follow(1, 4)\n",
        "twitter.post_tweet(4, 5)\n",
        "twitter.post_tweet(4, 10)\n",
        "twitter.unfollow(1, 2)\n",
        "twitter.post_tweet(5, 11)\n",
        "twitter.post_tweet(5, 12)\n",
        "twitter.post_tweet(5, 13)\n",
        "twitter.post_tweet(6, 14)\n",
        "twitter.follow(1, 5)\n",
        "twitter.post_tweet(7, 15)\n",
        "twitter.post_tweet(7, 16)\n",
        "twitter.post_tweet(7, 17)\n",
        "twitter.post_tweet(7, 18)\n",
        "twitter.follow(1, 7)\n",
        "print(twitter.get_news_feed(1))"
      ],
      "metadata": {
        "id": "1ZwAyMx7ut1I",
        "colab": {
          "base_uri": "https://localhost:8080/"
        },
        "outputId": "a5435b5a-cbdc-413f-972b-d215d5d802ec"
      },
      "execution_count": 21,
      "outputs": [
        {
          "output_type": "stream",
          "name": "stdout",
          "text": [
            "[18, 17, 16, 15, 13, 12, 11, 10, 5, 8]\n"
          ]
        }
      ]
    },
    {
      "cell_type": "code",
      "source": [],
      "metadata": {
        "id": "7VLQDV_Km0i5"
      },
      "execution_count": null,
      "outputs": []
    }
  ]
}