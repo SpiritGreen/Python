{
  "nbformat": 4,
  "nbformat_minor": 0,
  "metadata": {
    "colab": {
      "provenance": [],
      "authorship_tag": "ABX9TyMl4zhzVtDuW7wDxSpwngw+",
      "include_colab_link": true
    },
    "kernelspec": {
      "name": "python3",
      "display_name": "Python 3"
    },
    "language_info": {
      "name": "python"
    }
  },
  "cells": [
    {
      "cell_type": "markdown",
      "metadata": {
        "id": "view-in-github",
        "colab_type": "text"
      },
      "source": [
        "<a href=\"https://colab.research.google.com/github/SpiritGreen/Python/blob/main/%D0%9E%D1%81%D0%BD%D0%BE%D0%B2%D1%8B%20Python%20-%20Vk/%D0%9C%D0%BE%D0%B4%D1%83%D0%BB%D1%8C_3_%D0%9A%D0%BB%D0%B0%D1%81%D1%81%D1%8B.ipynb\" target=\"_parent\"><img src=\"https://colab.research.google.com/assets/colab-badge.svg\" alt=\"Open In Colab\"/></a>"
      ]
    },
    {
      "cell_type": "markdown",
      "source": [
        "# 1. Классы: введение"
      ],
      "metadata": {
        "id": "habpyLLxX4u7"
      }
    },
    {
      "cell_type": "markdown",
      "source": [
        "Реализуйте 3 метода в классе “Counter”:\n",
        "__init__(self, initial_count)\n",
        "Этот метод нужен для инициализации класса с изначальным параметром “изначальный подсчет”\n",
        "increment(self)\n",
        "Этот метод должен делать +1 к нашему счетчику подсчетов\n",
        "get(self)\n",
        "Этот метод должен возвращать подсчет\n",
        "\n",
        "Дополните код ниже, дописав свой код в секции “YOUR CODE HERE”."
      ],
      "metadata": {
        "id": "D3PlaWezm5Fu"
      }
    },
    {
      "cell_type": "code",
      "execution_count": 1,
      "metadata": {
        "colab": {
          "base_uri": "https://localhost:8080/"
        },
        "id": "whuCUNDJXxem",
        "outputId": "cff07c2c-da5f-429e-d5d9-6e16cc217c56"
      },
      "outputs": [
        {
          "output_type": "stream",
          "name": "stdout",
          "text": [
            "1\n"
          ]
        }
      ],
      "source": [
        "class Counter:\n",
        "\n",
        "   def __init__(self, initial_count):\n",
        "       # YOUR CODE HERE\n",
        "       self.points = initial_count\n",
        "\n",
        "   def increment(self):\n",
        "       # YOUR CODE HERE\n",
        "       self.points += 1\n",
        "\n",
        "   def get(self):\n",
        "       # YOUR CODE HERE\n",
        "       return self.points\n",
        "\n",
        "\n",
        "# code = []\n",
        "# while data := input():\n",
        "#    code.append(data)\n",
        "# code = \"\\n\".join(code)\n",
        "# exec(code)\n",
        "\n",
        "counter = Counter(0)\n",
        "counter.increment()\n",
        "print(counter.get())"
      ]
    },
    {
      "cell_type": "markdown",
      "source": [
        "Реализуйте метод calculate_area в классе “Circle”, в котором уже есть атрибут класса pi, который понадобится для расчета:\n",
        "Этот метод будет рассчитывать площадь круга по формуле S=πR^2, где R передается в качестве параметра\n",
        "\n",
        "Дополните код ниже, дописав свой код в секции “YOUR CODE HERE”."
      ],
      "metadata": {
        "id": "2gPPZYaynsf_"
      }
    },
    {
      "cell_type": "code",
      "source": [
        "class Circle:\n",
        "   pi = 3.14\n",
        "\n",
        "   def calculate_area(self, radius):\n",
        "       # YOUR CODE HERE\n",
        "       self.area = self.pi * radius ** 2\n",
        "       return self.area\n",
        "\n",
        "\n",
        "# code = []\n",
        "# while data := input():\n",
        "#    code.append(data)\n",
        "# code = \"\\n\".join(code)\n",
        "# exec(code)\n",
        "\n",
        "circle = Circle()\n",
        "print(circle.calculate_area(2))"
      ],
      "metadata": {
        "colab": {
          "base_uri": "https://localhost:8080/"
        },
        "id": "0Zv_TADunXpN",
        "outputId": "da657677-7ba9-496c-e89d-5784cc620081"
      },
      "execution_count": 4,
      "outputs": [
        {
          "output_type": "stream",
          "name": "stdout",
          "text": [
            "12.56\n"
          ]
        }
      ]
    },
    {
      "cell_type": "code",
      "source": [],
      "metadata": {
        "id": "YFJrovuvoMbb"
      },
      "execution_count": null,
      "outputs": []
    }
  ]
}