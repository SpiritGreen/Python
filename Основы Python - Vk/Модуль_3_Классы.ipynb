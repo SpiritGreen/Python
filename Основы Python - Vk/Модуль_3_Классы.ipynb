{
  "nbformat": 4,
  "nbformat_minor": 0,
  "metadata": {
    "colab": {
      "provenance": [],
      "authorship_tag": "ABX9TyP7NvtY9OWGR92nLwQG+fQG",
      "include_colab_link": true
    },
    "kernelspec": {
      "name": "python3",
      "display_name": "Python 3"
    },
    "language_info": {
      "name": "python"
    }
  },
  "cells": [
    {
      "cell_type": "markdown",
      "metadata": {
        "id": "view-in-github",
        "colab_type": "text"
      },
      "source": [
        "<a href=\"https://colab.research.google.com/github/SpiritGreen/Python/blob/main/%D0%9E%D1%81%D0%BD%D0%BE%D0%B2%D1%8B%20Python%20-%20Vk/%D0%9C%D0%BE%D0%B4%D1%83%D0%BB%D1%8C_3_%D0%9A%D0%BB%D0%B0%D1%81%D1%81%D1%8B.ipynb\" target=\"_parent\"><img src=\"https://colab.research.google.com/assets/colab-badge.svg\" alt=\"Open In Colab\"/></a>"
      ]
    },
    {
      "cell_type": "markdown",
      "source": [
        "# 1. Классы: введение"
      ],
      "metadata": {
        "id": "habpyLLxX4u7"
      }
    },
    {
      "cell_type": "markdown",
      "source": [
        "Реализуйте 3 метода в классе “Counter”:\n",
        "__init__(self, initial_count)\n",
        "Этот метод нужен для инициализации класса с изначальным параметром “изначальный подсчет”\n",
        "increment(self)\n",
        "Этот метод должен делать +1 к нашему счетчику подсчетов\n",
        "get(self)\n",
        "Этот метод должен возвращать подсчет\n",
        "\n",
        "Дополните код ниже, дописав свой код в секции “YOUR CODE HERE”."
      ],
      "metadata": {
        "id": "D3PlaWezm5Fu"
      }
    },
    {
      "cell_type": "code",
      "execution_count": null,
      "metadata": {
        "colab": {
          "base_uri": "https://localhost:8080/"
        },
        "id": "whuCUNDJXxem",
        "outputId": "cff07c2c-da5f-429e-d5d9-6e16cc217c56"
      },
      "outputs": [
        {
          "output_type": "stream",
          "name": "stdout",
          "text": [
            "1\n"
          ]
        }
      ],
      "source": [
        "class Counter:\n",
        "\n",
        "   def __init__(self, initial_count):\n",
        "       # YOUR CODE HERE\n",
        "       self.points = initial_count\n",
        "\n",
        "   def increment(self):\n",
        "       # YOUR CODE HERE\n",
        "       self.points += 1\n",
        "\n",
        "   def get(self):\n",
        "       # YOUR CODE HERE\n",
        "       return self.points\n",
        "\n",
        "\n",
        "# code = []\n",
        "# while data := input():\n",
        "#    code.append(data)\n",
        "# code = \"\\n\".join(code)\n",
        "# exec(code)\n",
        "\n",
        "counter = Counter(0)\n",
        "counter.increment()\n",
        "print(counter.get())"
      ]
    },
    {
      "cell_type": "markdown",
      "source": [
        "Реализуйте метод calculate_area в классе “Circle”, в котором уже есть атрибут класса pi, который понадобится для расчета:\n",
        "Этот метод будет рассчитывать площадь круга по формуле S=πR^2, где R передается в качестве параметра\n",
        "\n",
        "Дополните код ниже, дописав свой код в секции “YOUR CODE HERE”."
      ],
      "metadata": {
        "id": "2gPPZYaynsf_"
      }
    },
    {
      "cell_type": "code",
      "source": [
        "class Circle:\n",
        "   pi = 3.14\n",
        "\n",
        "   def calculate_area(self, radius):\n",
        "       # YOUR CODE HERE\n",
        "       self.area = self.pi * radius ** 2\n",
        "       return self.area\n",
        "\n",
        "\n",
        "# code = []\n",
        "# while data := input():\n",
        "#    code.append(data)\n",
        "# code = \"\\n\".join(code)\n",
        "# exec(code)\n",
        "\n",
        "circle = Circle()\n",
        "print(circle.calculate_area(2))"
      ],
      "metadata": {
        "colab": {
          "base_uri": "https://localhost:8080/"
        },
        "id": "0Zv_TADunXpN",
        "outputId": "da657677-7ba9-496c-e89d-5784cc620081"
      },
      "execution_count": null,
      "outputs": [
        {
          "output_type": "stream",
          "name": "stdout",
          "text": [
            "12.56\n"
          ]
        }
      ]
    },
    {
      "cell_type": "markdown",
      "source": [
        "# 2. Классы: декораторы методов"
      ],
      "metadata": {
        "id": "aFIGXTKFUvHp"
      }
    },
    {
      "cell_type": "code",
      "source": [
        "class Temperature:\n",
        "    def __init__(self, celsius = 0) -> None:\n",
        "        self._celsius = celsius\n",
        "\n",
        "    # декоратор для получения значения аттрибута\n",
        "    @property\n",
        "    def celsius(self):\n",
        "        return self._celsius\n",
        "\n",
        "    # декоратор для изменения значения аттрибута\n",
        "    @celsius.setter\n",
        "    def celsius(self, value):\n",
        "        if value < -273.15:\n",
        "            print('Значение меньше абсолютного нуля. Значение температуры не изменено.')\n",
        "        else:\n",
        "            self._celsius = value\n",
        "\n",
        "    # декоратор для того, чтобы создавать методы, которые не будут изменять\n",
        "    # класс или давать доступ к его инофрмации\n",
        "    @staticmethod\n",
        "    def introduction():\n",
        "        print(\"Hello, I'm temperature class!\")\n",
        "\n",
        "\n",
        "temperature = Temperature(24)\n",
        "temperature.celsius = -1000\n",
        "print(temperature.celsius)\n",
        "\n",
        "temperature.introduction()"
      ],
      "metadata": {
        "colab": {
          "base_uri": "https://localhost:8080/"
        },
        "id": "YFJrovuvoMbb",
        "outputId": "6e04c3c4-5420-41ec-f0f1-46793e2b616b"
      },
      "execution_count": null,
      "outputs": [
        {
          "output_type": "stream",
          "name": "stdout",
          "text": [
            "Значение меньше абсолютного нуля. Значение температуры не изменено.\n",
            "24\n",
            "Hello, I'm temperature class!\n"
          ]
        }
      ]
    },
    {
      "cell_type": "code",
      "source": [
        "class Circle:\n",
        "   pi = 3.14\n",
        "\n",
        "   # можно вызывать этот метод, не создавая объект класса\n",
        "   @classmethod\n",
        "   def calculate_area(cls, radius):\n",
        "       return cls.pi * radius ** 2\n",
        "\n",
        "\n",
        "print(Circle().calculate_area(2))"
      ],
      "metadata": {
        "colab": {
          "base_uri": "https://localhost:8080/"
        },
        "id": "d7hm8e4KXYYG",
        "outputId": "b8cf074e-356b-4ddb-938e-e4eba24034d2"
      },
      "execution_count": null,
      "outputs": [
        {
          "output_type": "stream",
          "name": "stdout",
          "text": [
            "12.56\n"
          ]
        }
      ]
    },
    {
      "cell_type": "markdown",
      "source": [
        "Реализуйте 3 метода в классе “Person”:\n",
        "__init__(self, age), в котором будет объявляться атрибут возраста\n",
        "age с декоратором property, который будет возвращать атрибут возраста\n",
        "age с декоратором age.setter\n",
        "Этот метод должен обрабатывать изменение проперти “age”: при передаче значений < 0 атрибут возраста = 0, в противном случае атрибут возраста будет равен тому значению, которое передано\n",
        "\n",
        "Дополните код ниже, дописав свой код в секции “YOUR CODE HERE”."
      ],
      "metadata": {
        "id": "y8Byaf0laIs5"
      }
    },
    {
      "cell_type": "code",
      "source": [
        "class Person:\n",
        "    def __init__(self, age):\n",
        "       # YOUR CODE HERE\n",
        "       self._age = age\n",
        "\n",
        "    @property\n",
        "    def age(self):\n",
        "        # YOUR CODE HERE\n",
        "        return self._age\n",
        "\n",
        "\n",
        "\n",
        "    @age.setter\n",
        "    def age(self, value):\n",
        "        # YOUR CODE HERE\n",
        "        if value < 0:\n",
        "            self._age = 0\n",
        "        else:\n",
        "            self._age = value\n",
        "\n",
        "# code = []\n",
        "# while data := input():\n",
        "#    code.append(data)\n",
        "# code = \"\\n\".join(code)\n",
        "# exec(code)\n",
        "\n",
        "person = Person(18)\n",
        "person.age = 19\n",
        "print(person.age)"
      ],
      "metadata": {
        "colab": {
          "base_uri": "https://localhost:8080/"
        },
        "id": "Vk3lU7aBZZmU",
        "outputId": "9f568522-9968-4432-8d36-6b649794facb"
      },
      "execution_count": null,
      "outputs": [
        {
          "output_type": "stream",
          "name": "stdout",
          "text": [
            "19\n"
          ]
        }
      ]
    },
    {
      "cell_type": "markdown",
      "source": [
        "Реализовать метод calculate_period с декоратором classmethod в классе “Pendulum”, в котором написаны два атрибута класса:\n",
        "\n",
        "g =10\n",
        "\n",
        "pi = 3.14\n",
        "\n",
        "Этот метод должен вычислять период математического маятника по формуле:\n",
        "\n",
        "T=2π√l/g\n",
        "\n",
        "Дополните код ниже, дописав свой код в секции “YOUR CODE HERE”."
      ],
      "metadata": {
        "id": "JOmzmNA5o5Gy"
      }
    },
    {
      "cell_type": "code",
      "source": [
        "class Pendulum:\n",
        "   g = 10\n",
        "   pi = 3.14\n",
        "\n",
        "   @classmethod\n",
        "   def calculate_period(cls, length):\n",
        "       # YOUR CODE HERE\n",
        "       return 2 * cls.pi * ((length / cls.g) ** (1/2))\n",
        "\n",
        "\n",
        "# code = []\n",
        "# while data := input():\n",
        "#    code.append(data)\n",
        "# code = \"\\n\".join(code)\n",
        "# exec(code)\n",
        "\n",
        "print(Pendulum.calculate_period(10))"
      ],
      "metadata": {
        "colab": {
          "base_uri": "https://localhost:8080/"
        },
        "id": "VSLdBWjKblbO",
        "outputId": "7181d328-bce2-445d-ba48-9d36ff66305e"
      },
      "execution_count": null,
      "outputs": [
        {
          "output_type": "stream",
          "name": "stdout",
          "text": [
            "6.28\n"
          ]
        }
      ]
    },
    {
      "cell_type": "markdown",
      "source": [
        "# 3. Классы: ООП"
      ],
      "metadata": {
        "id": "D8L9JrN6qpW6"
      }
    },
    {
      "cell_type": "code",
      "source": [
        "# Наследование:\n",
        "class FourLegsAnimal:\n",
        "    def __init__(self):\n",
        "        self.legs_count = 4\n",
        "\n",
        "class Cat(FourLegsAnimal):\n",
        "    pass\n",
        "\n",
        "\n",
        "cat = Cat()\n",
        "print(cat.legs_count)"
      ],
      "metadata": {
        "colab": {
          "base_uri": "https://localhost:8080/"
        },
        "id": "MmYZxR36pg6l",
        "outputId": "46d1966a-b5c0-41f3-bb12-69d9bbd7aad7"
      },
      "execution_count": null,
      "outputs": [
        {
          "output_type": "stream",
          "name": "stdout",
          "text": [
            "4\n"
          ]
        }
      ]
    },
    {
      "cell_type": "code",
      "source": [
        "class Counter:\n",
        "    def __init__(self, initial_count=0) -> None:\n",
        "        self.count = initial_count\n",
        "\n",
        "    def increment(self):\n",
        "        self.count += 1\n",
        "\n",
        "    def get(self):\n",
        "        return self.count\n",
        "\n",
        "class SquaredCounter(Counter):\n",
        "    def get(self):\n",
        "        return super().get() ** 2\n",
        "\n",
        "\n",
        "counter = Counter(2)\n",
        "square = SquaredCounter(2)\n",
        "\n",
        "print(counter.get())\n",
        "print(square.get())"
      ],
      "metadata": {
        "colab": {
          "base_uri": "https://localhost:8080/"
        },
        "id": "SkNcwGcFr3i_",
        "outputId": "c731fde2-7708-4797-84ec-ca17625fbc5a"
      },
      "execution_count": null,
      "outputs": [
        {
          "output_type": "stream",
          "name": "stdout",
          "text": [
            "2\n",
            "4\n"
          ]
        }
      ]
    },
    {
      "cell_type": "markdown",
      "source": [
        "В дочернем классе `SemiCircle`, который наследуется от родительского класса Circle с методами:\n",
        "- `__init__(self, radius)`\n",
        "- `radius(self)` с декоратором property\n",
        "- `pi` с декоратором property\n",
        "- `calculate_area`, который считает площадь круга по формуле S=πR^2\n",
        "\n",
        "реализуйте метод `calculate_area`, который считает половину площади круга. Желательно, чтобы это было сделано через переиспользование метода `calculate_area` родительского класса.\n",
        "\n",
        "Дополните код ниже, дописав свой код в секции “YOUR CODE HERE”."
      ],
      "metadata": {
        "id": "aLvbQpei1JZO"
      }
    },
    {
      "cell_type": "code",
      "source": [
        "class Circle:\n",
        "   _pi = 3.14\n",
        "\n",
        "   def __init__(self, radius):\n",
        "       self._radius = radius\n",
        "\n",
        "   @property\n",
        "   def radius(self):\n",
        "       return self._radius\n",
        "\n",
        "   @property\n",
        "   def pi(self):\n",
        "       return self._pi\n",
        "\n",
        "   def calculate_area(self):\n",
        "       return self._pi * self._radius ** 2\n",
        "\n",
        "\n",
        "class SemiCircle(Circle):\n",
        "   def calculate_area(self):\n",
        "       # YOUR CODE HERE\n",
        "       return super().calculate_area() / 2\n",
        "\n",
        "\n",
        "# code = []\n",
        "# while data := input():\n",
        "#    code.append(data)\n",
        "# code = \"\\n\".join(code)\n",
        "# exec(code)\n",
        "\n",
        "semi_circle = SemiCircle(2)\n",
        "print(semi_circle.calculate_area())"
      ],
      "metadata": {
        "colab": {
          "base_uri": "https://localhost:8080/"
        },
        "id": "05tQ9jCctr13",
        "outputId": "2a3ed138-ed52-4ef9-bfd6-864ccf0ceee2"
      },
      "execution_count": null,
      "outputs": [
        {
          "output_type": "stream",
          "name": "stdout",
          "text": [
            "6.28\n"
          ]
        }
      ]
    },
    {
      "cell_type": "markdown",
      "source": [
        "У нас есть такой же класс Circle из предудущего задания, но теперь появляется класс-примесь CalculateCircleLengthMixin. Затем от двух классов наследуется класс CircleWithMixin, реализуя таким образом множественное наследование. В классе-примеси CalculateCircleLengthMixin реализуйте метод calculate_length, который вычисляет длину окружности по формуле L=2πr, чтобы использовать его в итоге в классе CircleWithMixin. Желательно, чтобы это было сделано через super и проперти класса Circle.\n",
        "\n",
        "Дополните код ниже, дописав свой код в секции “YOUR CODE HERE”."
      ],
      "metadata": {
        "id": "2REouNuE2cPX"
      }
    },
    {
      "cell_type": "code",
      "source": [
        "class Circle:\n",
        "   _pi = 3.14\n",
        "\n",
        "   def __init__(self, radius):\n",
        "       self._radius = radius\n",
        "\n",
        "   @property\n",
        "   def radius(self):\n",
        "       return self._radius\n",
        "\n",
        "   @property\n",
        "   def pi(self):\n",
        "       return self._pi\n",
        "\n",
        "   def calculate_area(self):\n",
        "       return self._pi * self._radius ** 2\n",
        "\n",
        "\n",
        "class CalculateCircleLengthMixin:\n",
        "   def calculate_length(self):\n",
        "       # YOUR CODE HERE\n",
        "       return 2 * super().pi * super().radius\n",
        "\n",
        "\n",
        "class CircleWithMixin(CalculateCircleLengthMixin, Circle):\n",
        "   pass\n",
        "\n",
        "\n",
        "# code = []\n",
        "# while data := input():\n",
        "#    code.append(data)\n",
        "# code = \"\\n\".join(code)\n",
        "# exec(code)\n",
        "\n",
        "circle_with_mixin = CircleWithMixin(2)\n",
        "print(circle_with_mixin.calculate_length())"
      ],
      "metadata": {
        "colab": {
          "base_uri": "https://localhost:8080/"
        },
        "id": "_ixtjrl31-8u",
        "outputId": "079c6447-9b81-4474-9f34-7f0c1e54e802"
      },
      "execution_count": null,
      "outputs": [
        {
          "output_type": "stream",
          "name": "stdout",
          "text": [
            "12.56\n"
          ]
        }
      ]
    },
    {
      "cell_type": "markdown",
      "source": [
        "# 4. Классы: магические методы"
      ],
      "metadata": {
        "id": "8IgvXSukng9R"
      }
    },
    {
      "cell_type": "code",
      "source": [
        "a = 4\n",
        "b = 4\n",
        "\n",
        "print(a == b)\n",
        "print(a.__eq__(b))"
      ],
      "metadata": {
        "id": "fnMhhTod3b01",
        "colab": {
          "base_uri": "https://localhost:8080/"
        },
        "outputId": "ded7cd96-947a-4a2a-e802-a11a1d0557e2"
      },
      "execution_count": 2,
      "outputs": [
        {
          "output_type": "stream",
          "name": "stdout",
          "text": [
            "True\n",
            "True\n"
          ]
        }
      ]
    },
    {
      "cell_type": "code",
      "source": [
        "a = 2\n",
        "b = 1\n",
        "\n",
        "print(a > b)\n",
        "# gt - greater than\n",
        "print(a.__gt__(b))"
      ],
      "metadata": {
        "colab": {
          "base_uri": "https://localhost:8080/"
        },
        "id": "dVNvo-TVn9p1",
        "outputId": "4e83ed4b-c3eb-4d41-ec6d-3886d202e594"
      },
      "execution_count": 3,
      "outputs": [
        {
          "output_type": "stream",
          "name": "stdout",
          "text": [
            "True\n",
            "True\n"
          ]
        }
      ]
    },
    {
      "cell_type": "code",
      "source": [
        "print(a + b)\n",
        "print(a.__add__(b))"
      ],
      "metadata": {
        "colab": {
          "base_uri": "https://localhost:8080/"
        },
        "id": "gPjmOlhHoijW",
        "outputId": "0752788f-a48c-440e-8d4e-8b230bf262bf"
      },
      "execution_count": 4,
      "outputs": [
        {
          "output_type": "stream",
          "name": "stdout",
          "text": [
            "3\n",
            "3\n"
          ]
        }
      ]
    },
    {
      "cell_type": "code",
      "source": [
        "class Counter:\n",
        "    def __init__(self, count) -> None:\n",
        "        self.count = count\n",
        "\n",
        "    def increment(self):\n",
        "        self.count += 1\n",
        "\n",
        "    def get(self):\n",
        "        return self.count\n",
        "\n",
        "    # представление класса:\n",
        "    def __str__(self) -> str:\n",
        "        return str(f'Counter with counts of {self.count}')\n",
        "\n",
        "    # сравнение двух классов:\n",
        "    def __eq__(self, other) -> bool:\n",
        "        return self.count == other.count\n",
        "\n",
        "    def __lt__(self, other):\n",
        "        return self.count < other.count\n",
        "\n",
        "    def __add__(self, other):\n",
        "        return self.count + other.count\n",
        "\n",
        "    def __sub__(self, other):\n",
        "        return self.count - other.count\n",
        "\n",
        "    def __mul__(self, other):\n",
        "        return self.count * other.count\n",
        "\n",
        "    # вызов экземпляра класса как функции:\n",
        "    def __call__(self, *args, **kwds):\n",
        "        self.increment()\n",
        "\n",
        "    # вход и выход\n",
        "    def __enter__(self):\n",
        "        self.count = 1000\n",
        "\n",
        "    def __exit__(self, exc_type, exc_val, exc_tb):\n",
        "        self.count = 0\n",
        "\n",
        "\n",
        "print(Counter(4))\n",
        "\n",
        "print(Counter(4) == Counter(4))\n",
        "print(Counter(3) < Counter(4))\n",
        "\n",
        "print(Counter(3) + Counter(4))\n",
        "print(Counter(3) - Counter(4))\n",
        "print(Counter(3) * Counter(4))\n",
        "\n",
        "counter = Counter(0)\n",
        "counter()\n",
        "print(counter)\n",
        "\n",
        "with counter:\n",
        "    print(counter)\n",
        "print(counter)"
      ],
      "metadata": {
        "colab": {
          "base_uri": "https://localhost:8080/"
        },
        "id": "0erW7m6Zo5dD",
        "outputId": "91b83927-d5ec-4501-8e86-c4ed68a9200a"
      },
      "execution_count": 16,
      "outputs": [
        {
          "output_type": "stream",
          "name": "stdout",
          "text": [
            "Counter with counts of 4\n",
            "True\n",
            "True\n",
            "7\n",
            "-1\n",
            "12\n",
            "Counter with counts of 1\n",
            "Counter with counts of 1000\n",
            "Counter with counts of 0\n"
          ]
        }
      ]
    },
    {
      "cell_type": "markdown",
      "source": [
        "В классе Dictionary реализуйте методы __call__ и __init__:\n",
        "- В __init__(self, dictionary) объявите словарь в качестве атрибута\n",
        "- В методе call реализуйте поиск в словаре по ключу\n",
        "\n",
        "Дополните код ниже, дописав свой код в секции “YOUR CODE HERE”."
      ],
      "metadata": {
        "id": "5tZ-7mWxufRV"
      }
    },
    {
      "cell_type": "code",
      "source": [
        "class Dictionary:\n",
        "   def __init__(self, dictionary):\n",
        "       # YOUR CODE HERE\n",
        "       self.dictionary = dictionary\n",
        "\n",
        "   def __call__(self, key):\n",
        "       # YOUR CODE HERE\n",
        "       return self.dictionary.get(key)\n",
        "\n",
        "\n",
        "# code = []\n",
        "# while data := input():\n",
        "#    code.append(data)\n",
        "# code = \"\\n\".join(code)\n",
        "# exec(code)\n",
        "\n",
        "dictionary = Dictionary({1:2, 2:1, 3:3})\n",
        "print(dictionary(1))"
      ],
      "metadata": {
        "colab": {
          "base_uri": "https://localhost:8080/"
        },
        "id": "_qh4PG3ip4C3",
        "outputId": "03a33f75-5187-4484-e1a5-cef20444988e"
      },
      "execution_count": 17,
      "outputs": [
        {
          "output_type": "stream",
          "name": "stdout",
          "text": [
            "2\n"
          ]
        }
      ]
    },
    {
      "cell_type": "markdown",
      "source": [
        "Перед вам класс ContextDictionary, в котором уже реализованы несколько методов:\n",
        "- `__init__`: в нем объявлен атрибут self.dictionary, который равен None\n",
        "- `put(self, key, value)`, который кладет значение value по ключу key в self.dictionary, когда этот атрибут является словарем, то есть в контексте with\n",
        "- `get(self, key)`, который забирает значение по ключу key в self.dictionary, когда этот атрибут является словарем, то есть в контексте with\n",
        "\n",
        "Вам нужно дополнить его, реализовав магические методы контекста:\n",
        "- `__enter__`: здесь во время контекста наш атрибут self.dictionary превращается в словарь\n",
        "- `__exit__`: в нем атрибут self.dictionary вновь равен None\n",
        "\n",
        "Таким образом мы хотим смоделировать поведение класса в контексте with.\n",
        "\n",
        "Дополните код ниже, дописав свой код в секции “YOUR CODE HERE”."
      ],
      "metadata": {
        "id": "aysFfXT6vuup"
      }
    },
    {
      "cell_type": "code",
      "source": [
        "class ContextDictionary:\n",
        "   def __init__(self):\n",
        "       self.dictionary = None\n",
        "\n",
        "   def __enter__(self):\n",
        "       # YOUR CODE HERE\n",
        "       self.dictionary = dict()\n",
        "\n",
        "   def __exit__(self, exc_type, exc_val, exc_tb):\n",
        "       # YOUR CODE HERE\n",
        "       self.dictionary = None\n",
        "\n",
        "   def put(self, key, value):\n",
        "       self.dictionary[key] = value\n",
        "\n",
        "   def get(self, key):\n",
        "       return self.dictionary[key]\n",
        "\n",
        "\n",
        "# code = []\n",
        "# while data := input():\n",
        "#    code.append(data)\n",
        "# code = \"\\n\".join(code)\n",
        "# exec(code)\n",
        "\n",
        "context_dictionary = ContextDictionary()\n",
        "with context_dictionary:\n",
        "    context_dictionary.put(2,3)\n",
        "    print(context_dictionary.get(2))\n",
        "print(context_dictionary.dictionary is None)"
      ],
      "metadata": {
        "colab": {
          "base_uri": "https://localhost:8080/"
        },
        "id": "sq1GDWZ4vafG",
        "outputId": "448f9c8e-03ee-418b-8b4c-d39e6aec50a5"
      },
      "execution_count": 18,
      "outputs": [
        {
          "output_type": "stream",
          "name": "stdout",
          "text": [
            "3\n",
            "True\n"
          ]
        }
      ]
    },
    {
      "cell_type": "markdown",
      "source": [
        "# Проект в конце модуля"
      ],
      "metadata": {
        "id": "wlg2TeNWxFAl"
      }
    },
    {
      "cell_type": "markdown",
      "source": [
        "Реализуйте следующую иерархию классов:\n",
        "- В классе Rectangle с атрибутами a и b, который являются сторонами прямоугольника реализуйте метод calculate_area, который вычисляет площадь прямоуольника по формуле S =ab:\n",
        "- В классе-наследнике от Rectangle- Square реализуйте метод __init__, в котором принимается только один параметр - сторона. Желательно, чтобы вы это реализовали через super.\n",
        "- В классе-примеси CalculatePerimeterMixin, наследнике Rectangle, реализуйте метод calculate_perimeter, который вычисляет периметр по формуле P =2(a + b)\n",
        "- В классе наследнике SquareWithMixin от двух классов (CalculatePerimeterMixin, Square) реализуйте 3 магических метода:\n",
        "- `__eq__`, который сравнивает фигуры по сторонам\n",
        "- `__gt__`, который сравнивает фигуры по площади\n",
        "- `__add__`, который складывает площади двух фигур\n",
        "\n",
        "Дополните код ниже, дописав свой код в секции “YOUR CODE HERE”."
      ],
      "metadata": {
        "id": "7T3q05cbxPBG"
      }
    },
    {
      "cell_type": "code",
      "source": [
        "class Rectangle:\n",
        "   def __init__(self, a, b):\n",
        "       self.a = a\n",
        "       self.b = b\n",
        "\n",
        "   def calculate_area(self):\n",
        "       # YOUR CODE HERE\n",
        "       return self.a * self.b\n",
        "\n",
        "\n",
        "class Square(Rectangle):\n",
        "   def __init__(self, a):\n",
        "       # YOUR CODE HERE\n",
        "       super().__init__(a, a)\n",
        "\n",
        "\n",
        "class CalculatePerimeterMixin(Rectangle):\n",
        "   def calculate_perimeter(self):\n",
        "       # YOUR CODE HERE\n",
        "       return 2 * (self.a + self.b)\n",
        "\n",
        "\n",
        "class SquareWithMixin(CalculatePerimeterMixin, Square):\n",
        "   def __eq__(self, other):\n",
        "       # YOUR CODE HERE\n",
        "       return self.calculate_perimeter() == other.calculate_perimeter()\n",
        "\n",
        "   def __gt__(self, other):\n",
        "       # YOUR CODE HERE\n",
        "       return self.calculate_area() > other.calculate_area()\n",
        "\n",
        "   def __add__(self, other):\n",
        "       # YOUR CODE HERE\n",
        "       return self.calculate_area() + other.calculate_area()\n",
        "\n",
        "\n",
        "# code = []\n",
        "# while data := input():\n",
        "#    code.append(data)\n",
        "# code = \"\\n\".join(code)\n",
        "# exec(code)\n",
        "\n",
        "square_with_mixin1 = SquareWithMixin(3)\n",
        "square_with_mixin2 = SquareWithMixin(2)\n",
        "print(square_with_mixin1.calculate_area())\n",
        "print(square_with_mixin1.calculate_perimeter())\n",
        "print(square_with_mixin1 == square_with_mixin1)\n",
        "print(square_with_mixin1 == square_with_mixin2)\n",
        "print(square_with_mixin1 > square_with_mixin2)\n",
        "print(square_with_mixin1 > square_with_mixin1)\n",
        "print(square_with_mixin1 + square_with_mixin1)"
      ],
      "metadata": {
        "colab": {
          "base_uri": "https://localhost:8080/"
        },
        "id": "qhmgw7qEwnhj",
        "outputId": "b1cf2ee7-8c24-4196-8a83-9b6ab276625b"
      },
      "execution_count": 23,
      "outputs": [
        {
          "output_type": "stream",
          "name": "stdout",
          "text": [
            "9\n",
            "12\n",
            "True\n",
            "False\n",
            "True\n",
            "False\n",
            "18\n"
          ]
        }
      ]
    }
  ]
}